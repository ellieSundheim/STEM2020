{
 "cells": [
  {
   "cell_type": "markdown",
   "metadata": {
    "colab_type": "text",
    "id": "view-in-github"
   },
   "source": [
    "<a href=\"https://colab.research.google.com/github/kevinmcmanus/lto_utils/blob/master/lto_data.ipynb\" target=\"_parent\"><img src=\"https://colab.research.google.com/assets/colab-badge.svg\" alt=\"Open In Colab\"/></a>"
   ]
  },
  {
   "cell_type": "markdown",
   "metadata": {
    "colab_type": "text",
    "id": "Apn0zMs9QY2v"
   },
   "source": [
    "# LTO Utilities Library"
   ]
  },
  {
   "cell_type": "markdown",
   "metadata": {
    "colab_type": "text",
    "id": "bX344M-tQnQ4"
   },
   "source": [
    "The LTO Utilities library provides a set of useful functions for dealing with files output from the Little Thompson Observatory's radio telescope. These files, suffixed with '.lto' capture spectral information and the data processing pipeline produces them at approximately one-minute intervals throughout an observation.\n",
    "\n",
    "For the purposes of this demo, a 24-hour drift scan observation is available in Google Cloud Storage.  Having the data in GCS complicates this demo somewhat in that the Google Colab virtual machine that is running this notebook needs to mount the GCS as a preliminary step.\n",
    "The actual demonstration of obtaining and using the `lto_utils` library begins in the section entitled 'Clone the lto_utils' repo."
   ]
  },
  {
   "cell_type": "markdown",
   "metadata": {
    "colab_type": "text",
    "id": "8WapFl0zTWf-"
   },
   "source": [
    "## Preliminaries"
   ]
  },
  {
   "cell_type": "markdown",
   "metadata": {
    "colab_type": "text",
    "id": "YNxuMpwmB9ba"
   },
   "source": [
    "### References on Using Cloud Storage in Colab"
   ]
  },
  {
   "cell_type": "markdown",
   "metadata": {
    "colab_type": "text",
    "id": "K4CVm6sAuU1v"
   },
   "source": [
    "These articles explain how to make Google Cloud Storage availabale within a Google Colab notebook, such as this one.\n",
    "\n",
    "(https://medium.com/analytics-vidhya/how-to-access-files-from-google-cloud-storage-in-colab-notebooks-8edaf9e6c020)\n",
    "\n",
    "(https://stackoverflow.com/questions/51715268/how-to-import-data-from-google-cloud-storage-to-google-colab)\n",
    "\n",
    "(https://ostrokach.gitlab.io/post/google-colab-storage/)"
   ]
  },
  {
   "cell_type": "markdown",
   "metadata": {
    "colab_type": "text",
    "id": "CCYrwRu93ESO"
   },
   "source": [
    "### Authenticate and Mount GCS Bucket"
   ]
  },
  {
   "cell_type": "code",
   "execution_count": null,
   "metadata": {
    "colab": {},
    "colab_type": "code",
    "id": "zmj1xAxhooC_"
   },
   "outputs": [],
   "source": [
    "#from google.colab import auth\n",
    "\n",
    "#auth.authenticate_user()"
   ]
  },
  {
   "cell_type": "code",
   "execution_count": null,
   "metadata": {
    "colab": {
     "base_uri": "https://localhost:8080/",
     "height": 323
    },
    "colab_type": "code",
    "id": "gaybdAkUqRdK",
    "outputId": "dc8618ba-5784-4321-872b-9cdbdf710b04"
   },
   "outputs": [],
   "source": [
    "#!echo \"deb http://packages.cloud.google.com/apt gcsfuse-bionic main\" > /etc/apt/sources.list.d/gcsfuse.list\n",
    "#!curl https://packages.cloud.google.com/apt/doc/apt-key.gpg | apt-key add -\n",
    "#!apt -qq update\n",
    "#!apt -qq install gcsfuse"
   ]
  },
  {
   "cell_type": "code",
   "execution_count": null,
   "metadata": {
    "colab": {
     "base_uri": "https://localhost:8080/",
     "height": 102
    },
    "colab_type": "code",
    "id": "kIp99n9w16jC",
    "outputId": "a7d8bfaf-610d-4fb3-afa4-598ccd7a84fc"
   },
   "outputs": [],
   "source": [
    "#Mount the drive\n",
    "#!mkdir lto_data\n",
    "#!gcsfuse --implicit-dirs --limit-bytes-per-sec -1 --limit-ops-per-sec -1 lto_data lto_data"
   ]
  },
  {
   "cell_type": "code",
   "execution_count": null,
   "metadata": {
    "colab": {},
    "colab_type": "code",
    "id": "oDjKuzUQovOK"
   },
   "outputs": [],
   "source": [
    "#to mount your own google drive, do this:\n",
    "#from google.colab import drive\n",
    "#drive.mount('/content/drive')"
   ]
  },
  {
   "cell_type": "markdown",
   "metadata": {
    "colab_type": "text",
    "id": "uSS5amXO3kSA"
   },
   "source": [
    "## Clone the lto_utils Repo"
   ]
  },
  {
   "cell_type": "code",
   "execution_count": null,
   "metadata": {
    "colab": {
     "base_uri": "https://localhost:8080/",
     "height": 34
    },
    "colab_type": "code",
    "id": "uDtC6puZv7KZ",
    "outputId": "32747637-e56a-4205-845e-bfe94f0cb490"
   },
   "outputs": [],
   "source": [
    "#!git clone https://github.com/kevinmcmanus/lto_utils"
   ]
  },
  {
   "cell_type": "code",
   "execution_count": 3,
   "metadata": {
    "colab": {},
    "colab_type": "code",
    "id": "j_8kTKpxwjtJ"
   },
   "outputs": [],
   "source": [
    "import lto_utils.lto_file as lto"
   ]
  },
  {
   "cell_type": "code",
   "execution_count": 4,
   "metadata": {
    "colab": {},
    "colab_type": "code",
    "id": "e5axO4LHXGKX"
   },
   "outputs": [],
   "source": [
    "import numpy as np\n",
    "import pandas as pd\n",
    "import matplotlib.pyplot as plt\n",
    "%matplotlib inline"
   ]
  },
  {
   "cell_type": "markdown",
   "metadata": {
    "colab_type": "text",
    "id": "ILwzuvxr33Du"
   },
   "source": [
    "## Read Single LTO File and Examine its Contents"
   ]
  },
  {
   "cell_type": "code",
   "execution_count": 205,
   "metadata": {
    "colab": {},
    "colab_type": "code",
    "id": "Pt8V5ZXxyROo"
   },
   "outputs": [],
   "source": [
    "#set the path to the object\n",
    "#path = 'lto_data/2018_09_02/LTO-HI-2018-09-02-17-41-53.lto'\n",
    "path = r'C:\\Users\\Ellie\\Documents\\LTO Data\\2020_08_10\\LTO-SRGA-2020-08-10-03-23-30.lto'\n",
    "#path = r'C:\\Users\\Ellie\\Documents\\LTO Data\\2020_08_08\\LTO-SRGA-2020-08-08-04-00-09.lto'\n",
    "#path = r'C:\\Users\\Ellie\\Documents\\LTO Data\\2020_08_11\\LTO-SRGA-2020-08-11-04-09-41.lto'\n",
    "#create an LTO_File object\n",
    "lto_file = lto.LTO_File(path)\n"
   ]
  },
  {
   "cell_type": "markdown",
   "metadata": {
    "colab_type": "text",
    "id": "b9jb-__ZUvEc"
   },
   "source": [
    "`lto_file` object contains two attributes: `SpectralHeader` and `SpectralData`. Both are large data structures. The `SpectralHeader` has several subsections which are:"
   ]
  },
  {
   "cell_type": "code",
   "execution_count": 206,
   "metadata": {
    "colab": {
     "base_uri": "https://localhost:8080/",
     "height": 54
    },
    "colab_type": "code",
    "id": "MprZi3yXU5MX",
    "outputId": "5ed6a70d-9501-4a1a-d623-2c74b9b4f681"
   },
   "outputs": [
    {
     "data": {
      "text/plain": [
       "dict_keys(['Magic', 'Observatory', 'ObsLocation', 'BeamPosition', 'ObsTime', 'Spectrum', 'RadioCalibrations', 'ProgramControl', 'SpectralCharacteristics'])"
      ]
     },
     "execution_count": 206,
     "metadata": {},
     "output_type": "execute_result"
    }
   ],
   "source": [
    "lto_file.SpectralHeader.keys()"
   ]
  },
  {
   "cell_type": "markdown",
   "metadata": {
    "colab_type": "text",
    "id": "NvVLpWOi4Y6y"
   },
   "source": [
    " \n",
    "The subsection `SpectralCharacteristics`  contains summary information of the file. \n",
    " This subsection is particularly useful."
   ]
  },
  {
   "cell_type": "code",
   "execution_count": 207,
   "metadata": {
    "colab": {
     "base_uri": "https://localhost:8080/",
     "height": 459
    },
    "colab_type": "code",
    "id": "mjADjPid4KyQ",
    "outputId": "902f6229-40d1-49d6-9b6f-8d8495f53ad7"
   },
   "outputs": [
    {
     "data": {
      "text/plain": [
       "{'avespecpwr': 1.5014834812827556e-21,\n",
       " 'varspecpwr': 1.848031590613255e-45,\n",
       " 'totalpwr': 1.8839113239654807e-17,\n",
       " 'numspecpwr': 12547,\n",
       " 'numave': 26247,\n",
       " 'numbad': 5,\n",
       " 'aveindvpwr': 0.0017736051231622696,\n",
       " 'varindvpwr': 2.531987119969159e-10,\n",
       " 'peakpwr': 1.9904946296287878e-21,\n",
       " 'peakpwrfreq': 1420344044.9375,\n",
       " 'totalHIpwr': 5.863282486153382e-19,\n",
       " 'numHIpwr': 344,\n",
       " 'avecrpwr': 1.4957621069441506e-21,\n",
       " 'varcrpwr': 1.7476390200896459e-46,\n",
       " 'numcrpwr': 12203,\n",
       " 'avetsky': 108.337646484375,\n",
       " 'vartsky': 0.9168229359300489,\n",
       " 'peaktsky': 144.1709892702299,\n",
       " 'peaktskyfreq': 1420344044.9375,\n",
       " 'avefluxden': 22080.63881128352,\n",
       " 'varfluxden': 399660.7966114873,\n",
       " 'peakfluxden': 29271.979026425273,\n",
       " 'peakfluxfreq': 1420344044.9375,\n",
       " 'badspec': False,\n",
       " 'processing': 'Raw FFT',\n",
       " 'user': ''}"
      ]
     },
     "execution_count": 207,
     "metadata": {},
     "output_type": "execute_result"
    }
   ],
   "source": [
    "lto_file.SpectralHeader['SpectralCharacteristics']"
   ]
  },
  {
   "cell_type": "markdown",
   "metadata": {
    "colab_type": "text",
    "id": "43Pz-YXr5C-w"
   },
   "source": [
    "`SpectralData` is a  dictionary which essentially captures the spectrum and some other frequency-dependent measures.  Each dictionary element is a vector of length `nfft`."
   ]
  },
  {
   "cell_type": "code",
   "execution_count": 208,
   "metadata": {
    "colab": {
     "base_uri": "https://localhost:8080/",
     "height": 54
    },
    "colab_type": "code",
    "id": "bnoZVWAjVX7_",
    "outputId": "fc2c1343-e264-4fa2-c7c7-aa88531facc5"
   },
   "outputs": [
    {
     "data": {
      "text/plain": [
       "dict_keys(['dopfreq', 'rawavepwr', 'rawvarpwr', 'calavepwr', 'flatten', 'tsky', 'fluxden', 'badline', 'HIline'])"
      ]
     },
     "execution_count": 208,
     "metadata": {},
     "output_type": "execute_result"
    }
   ],
   "source": [
    "lto_file.SpectralData.keys()"
   ]
  },
  {
   "cell_type": "code",
   "execution_count": 209,
   "metadata": {
    "colab": {
     "base_uri": "https://localhost:8080/",
     "height": 34
    },
    "colab_type": "code",
    "id": "gt-TWlxmVwux",
    "outputId": "c374088b-c589-4523-fdfc-86de1da943d8"
   },
   "outputs": [
    {
     "data": {
      "text/plain": [
       "(numpy.ndarray, 'Length: 16385')"
      ]
     },
     "execution_count": 209,
     "metadata": {},
     "output_type": "execute_result"
    }
   ],
   "source": [
    "#type and length of the tsky member of the dictionary\n",
    "n = len(lto_file.SpectralData['tsky'])\n",
    "type(lto_file.SpectralData['tsky']), f'Length: {n}'"
   ]
  },
  {
   "cell_type": "code",
   "execution_count": 210,
   "metadata": {
    "colab": {
     "base_uri": "https://localhost:8080/",
     "height": 295
    },
    "colab_type": "code",
    "id": "SxoumHmr5Xqu",
    "outputId": "18772bb2-9ed4-4295-e627-1644f47657bb"
   },
   "outputs": [
    {
     "data": {
      "image/png": "[encoded data removed]",
      "text/plain": [
       "<Figure size 432x288 with 1 Axes>"
      ]
     },
     "metadata": {
      "needs_background": "light"
     },
     "output_type": "display_data"
    }
   ],
   "source": [
    "plt.plot(lto_file.SpectralData['dopfreq'], lto_file.SpectralData['tsky'], label = 'first line')\n",
    "#plt.plot(lto_file.SpectralData['dopfreq'], lto_file.SpectralData['tsky']*1.1, label = 'second line')\n",
    "plt.xlim(0, 2000000)\n",
    "plt.ylim(100, 200)\n",
    "plt.xlabel('Dopler Frequency')\n",
    "plt.ylabel('Calibrated Power')\n",
    "plt.legend()\n",
    "zz=plt.title('Spectrum at '+lto_file.get_time().strftime('%Y-%m-%d %H:%M:%S %z'))"
   ]
  },
  {
   "cell_type": "markdown",
   "metadata": {
    "colab_type": "text",
    "id": "Y2062dJL8TP0"
   },
   "source": [
    "Sometimes it's easier to work with a `Pandas` dataframe. The `LTO_File` class provides a method to do so."
   ]
  },
  {
   "cell_type": "code",
   "execution_count": 211,
   "metadata": {
    "colab": {
     "base_uri": "https://localhost:8080/",
     "height": 309
    },
    "colab_type": "code",
    "id": "q0qXAPf78f1M",
    "outputId": "0a95d99b-b087-4630-e405-e34a6033eed5"
   },
   "outputs": [
    {
     "name": "stdout",
     "output_type": "stream",
     "text": [
      "16385\n"
     ]
    },
    {
     "data": {
      "text/html": [
       "<div>\n",
       "<style scoped>\n",
       "    .dataframe tbody tr th:only-of-type {\n",
       "        vertical-align: middle;\n",
       "    }\n",
       "\n",
       "    .dataframe tbody tr th {\n",
       "        vertical-align: top;\n",
       "    }\n",
       "\n",
       "    .dataframe thead th {\n",
       "        text-align: right;\n",
       "    }\n",
       "</style>\n",
       "<table border=\"1\" class=\"dataframe\">\n",
       "  <thead>\n",
       "    <tr style=\"text-align: right;\">\n",
       "      <th></th>\n",
       "      <th>ts</th>\n",
       "      <th>ra</th>\n",
       "      <th>dec</th>\n",
       "      <th>dopfreq</th>\n",
       "      <th>rawavepwr</th>\n",
       "      <th>rawvarpwr</th>\n",
       "      <th>calavepwr</th>\n",
       "      <th>flatten</th>\n",
       "      <th>tsky</th>\n",
       "      <th>fluxden</th>\n",
       "      <th>badline</th>\n",
       "      <th>HIline</th>\n",
       "    </tr>\n",
       "  </thead>\n",
       "  <tbody>\n",
       "    <tr>\n",
       "      <th>0</th>\n",
       "      <td>2020-08-10 03:23:30+00:00</td>\n",
       "      <td>17.662399</td>\n",
       "      <td>-25.800467</td>\n",
       "      <td>-5000000.0</td>\n",
       "      <td>0.001774</td>\n",
       "      <td>2.531987e-10</td>\n",
       "      <td>1.501396e-21</td>\n",
       "      <td>0.000000</td>\n",
       "      <td>108.745712</td>\n",
       "      <td>22079.353516</td>\n",
       "      <td>True</td>\n",
       "      <td>False</td>\n",
       "    </tr>\n",
       "    <tr>\n",
       "      <th>1</th>\n",
       "      <td>2020-08-10 03:23:30+00:00</td>\n",
       "      <td>17.662399</td>\n",
       "      <td>-25.800467</td>\n",
       "      <td>-4999389.5</td>\n",
       "      <td>0.001774</td>\n",
       "      <td>2.531987e-10</td>\n",
       "      <td>1.501396e-21</td>\n",
       "      <td>0.000000</td>\n",
       "      <td>108.745712</td>\n",
       "      <td>22079.353516</td>\n",
       "      <td>True</td>\n",
       "      <td>False</td>\n",
       "    </tr>\n",
       "    <tr>\n",
       "      <th>2</th>\n",
       "      <td>2020-08-10 03:23:30+00:00</td>\n",
       "      <td>17.662399</td>\n",
       "      <td>-25.800467</td>\n",
       "      <td>-4998779.5</td>\n",
       "      <td>0.128379</td>\n",
       "      <td>1.668716e-02</td>\n",
       "      <td>2.220810e-20</td>\n",
       "      <td>44.365669</td>\n",
       "      <td>1608.526855</td>\n",
       "      <td>326589.718750</td>\n",
       "      <td>True</td>\n",
       "      <td>False</td>\n",
       "    </tr>\n",
       "    <tr>\n",
       "      <th>3</th>\n",
       "      <td>2020-08-10 03:23:30+00:00</td>\n",
       "      <td>17.662399</td>\n",
       "      <td>-25.800467</td>\n",
       "      <td>-4998169.0</td>\n",
       "      <td>0.071191</td>\n",
       "      <td>5.177889e-03</td>\n",
       "      <td>3.314096e-20</td>\n",
       "      <td>24.306440</td>\n",
       "      <td>2400.390381</td>\n",
       "      <td>487367.000000</td>\n",
       "      <td>True</td>\n",
       "      <td>False</td>\n",
       "    </tr>\n",
       "    <tr>\n",
       "      <th>4</th>\n",
       "      <td>2020-08-10 03:23:30+00:00</td>\n",
       "      <td>17.662399</td>\n",
       "      <td>-25.800467</td>\n",
       "      <td>-4997558.5</td>\n",
       "      <td>0.048325</td>\n",
       "      <td>2.375667e-03</td>\n",
       "      <td>3.718625e-20</td>\n",
       "      <td>16.588919</td>\n",
       "      <td>2693.390381</td>\n",
       "      <td>546856.687500</td>\n",
       "      <td>True</td>\n",
       "      <td>False</td>\n",
       "    </tr>\n",
       "  </tbody>\n",
       "</table>\n",
       "</div>"
      ],
      "text/plain": [
       "                         ts         ra        dec    dopfreq  rawavepwr  \\\n",
       "0 2020-08-10 03:23:30+00:00  17.662399 -25.800467 -5000000.0   0.001774   \n",
       "1 2020-08-10 03:23:30+00:00  17.662399 -25.800467 -4999389.5   0.001774   \n",
       "2 2020-08-10 03:23:30+00:00  17.662399 -25.800467 -4998779.5   0.128379   \n",
       "3 2020-08-10 03:23:30+00:00  17.662399 -25.800467 -4998169.0   0.071191   \n",
       "4 2020-08-10 03:23:30+00:00  17.662399 -25.800467 -4997558.5   0.048325   \n",
       "\n",
       "      rawvarpwr     calavepwr    flatten         tsky        fluxden  badline  \\\n",
       "0  2.531987e-10  1.501396e-21   0.000000   108.745712   22079.353516     True   \n",
       "1  2.531987e-10  1.501396e-21   0.000000   108.745712   22079.353516     True   \n",
       "2  1.668716e-02  2.220810e-20  44.365669  1608.526855  326589.718750     True   \n",
       "3  5.177889e-03  3.314096e-20  24.306440  2400.390381  487367.000000     True   \n",
       "4  2.375667e-03  3.718625e-20  16.588919  2693.390381  546856.687500     True   \n",
       "\n",
       "   HIline  \n",
       "0   False  \n",
       "1   False  \n",
       "2   False  \n",
       "3   False  \n",
       "4   False  "
      ]
     },
     "execution_count": 211,
     "metadata": {},
     "output_type": "execute_result"
    }
   ],
   "source": [
    "import pandas as pd\n",
    "pd_df = lto_file.to_pandas()\n",
    "print(len(pd_df))\n",
    "pd_df.head()"
   ]
  },
  {
   "cell_type": "code",
   "execution_count": 212,
   "metadata": {},
   "outputs": [
    {
     "name": "stdout",
     "output_type": "stream",
     "text": [
      "                             ts         ra        dec       dopfreq  \\\n",
      "9559  2020-08-10 03:23:30+00:00  17.662399 -25.800467  8.343506e+05   \n",
      "9560  2020-08-10 03:23:30+00:00  17.662399 -25.800467  8.349609e+05   \n",
      "9561  2020-08-10 03:23:30+00:00  17.662399 -25.800467  8.355713e+05   \n",
      "9562  2020-08-10 03:23:30+00:00  17.662399 -25.800467  8.361816e+05   \n",
      "9563  2020-08-10 03:23:30+00:00  17.662399 -25.800467  8.367920e+05   \n",
      "...                         ...        ...        ...           ...   \n",
      "9899  2020-08-10 03:23:30+00:00  17.662399 -25.800467  1.041870e+06   \n",
      "9900  2020-08-10 03:23:30+00:00  17.662399 -25.800467  1.042480e+06   \n",
      "10848 2020-08-10 03:23:30+00:00  17.662399 -25.800467  1.621094e+06   \n",
      "10849 2020-08-10 03:23:30+00:00  17.662399 -25.800467  1.621704e+06   \n",
      "10851 2020-08-10 03:23:30+00:00  17.662399 -25.800467  1.622925e+06   \n",
      "\n",
      "       rawavepwr  rawvarpwr     calavepwr   flatten        tsky       fluxden  \\\n",
      "9559    0.001815   0.000003  1.536243e-21  0.565296  111.269699  22591.814453   \n",
      "9560    0.001810   0.000003  1.537121e-21  0.565304  111.333298  22604.728516   \n",
      "9561    0.001799   0.000003  1.538474e-21  0.565313  111.431229  22624.613281   \n",
      "9562    0.001813   0.000003  1.540288e-21  0.565322  111.562614  22651.289062   \n",
      "9563    0.001828   0.000003  1.542142e-21  0.565331  111.696915  22678.556641   \n",
      "...          ...        ...           ...       ...         ...           ...   \n",
      "9899    0.001813   0.000003  1.538136e-21  0.568534  111.406784  22619.648438   \n",
      "9900    0.001817   0.000003  1.536894e-21  0.568543  111.316795  22601.378906   \n",
      "10848   0.001790   0.000003  1.539984e-21  0.578254  111.540596  22646.816406   \n",
      "10849   0.001919   0.000004  1.548019e-21  0.578263  112.122574  22764.980469   \n",
      "10851   0.001795   0.000003  1.540037e-21  0.578282  111.544441  22647.597656   \n",
      "\n",
      "       badline  HIline  \n",
      "9559     False    True  \n",
      "9560     False    True  \n",
      "9561     False    True  \n",
      "9562     False    True  \n",
      "9563     False    True  \n",
      "...        ...     ...  \n",
      "9899     False    True  \n",
      "9900     False    True  \n",
      "10848    False    True  \n",
      "10849    False    True  \n",
      "10851    False    True  \n",
      "\n",
      "[344 rows x 12 columns]\n"
     ]
    }
   ],
   "source": [
    "#testing locating variables of interest\n",
    "#only want rows where HI line = true b/c no need to look for peaks elsewhere\n",
    "\n",
    "print(pd_df.loc[pd_df['HIline'] == True])"
   ]
  },
  {
   "cell_type": "code",
   "execution_count": 213,
   "metadata": {},
   "outputs": [],
   "source": [
    "#calculating running slope between datapoints\n",
    "\n",
    "for index in range(len(pd_df) -2):\n",
    "    if (pd_df.loc[index, 'HIline']):\n",
    "        slope = (pd_df['tsky'][index + 1] - pd_df['tsky'][index] ) / (pd_df['dopfreq'][index + 1] - pd_df['dopfreq'][index])\n",
    "        pd_df.at[index, 'slope'] = slope * 10000\n",
    "       # print(pd_df.loc[index, ['tsky', 'dopfreq', 'slope']])"
   ]
  },
  {
   "cell_type": "code",
   "execution_count": 214,
   "metadata": {},
   "outputs": [],
   "source": [
    "#smoothing slope to help get locate only true peaks\n",
    "\n",
    "def smoothPascal(dataframe, centerIndex, column):\n",
    "    pascalArray = np.array([1,6,15,20,15,6,1])\n",
    "    #print(pascalArray)\n",
    "    sum = 0\n",
    "    for i in range(-3, 3):\n",
    "        sum += (dataframe.at[(centerIndex + i), column]) * (pascalArray[3 + i])\n",
    "        #print(sum)\n",
    "        \n",
    "    final = sum/64.0\n",
    "   # if final < 0.2 and final > -0.2:\n",
    "       # final = 0.0\n",
    "        \n",
    "    return final\n",
    "        \n",
    "    "
   ]
  },
  {
   "cell_type": "code",
   "execution_count": 218,
   "metadata": {},
   "outputs": [
    {
     "name": "stdout",
     "output_type": "stream",
     "text": [
      "                            ts         ra        dec      dopfreq  rawavepwr  \\\n",
      "9683 2020-08-10 03:23:30+00:00  17.662399 -25.800467  910034.1875   0.002234   \n",
      "9742 2020-08-10 03:23:30+00:00  17.662399 -25.800467  946044.9375   0.002365   \n",
      "\n",
      "      rawvarpwr     calavepwr   flatten        tsky       fluxden  badline  \\\n",
      "9683   0.000005  1.894058e-21  0.566470  137.186142  27853.798828    False   \n",
      "9742   0.000006  1.990495e-21  0.567032  144.170990  29271.980469    False   \n",
      "\n",
      "      HIline     slope  smooth_slope isPeak isValley  \n",
      "9683    True -0.568286     -0.438857   True    False  \n",
      "9742    True -0.361773     -0.272852   True    False  \n",
      "                            ts         ra        dec      dopfreq  rawavepwr  \\\n",
      "9710 2020-08-10 03:23:30+00:00  17.662399 -25.800467  926513.6875   0.002047   \n",
      "\n",
      "      rawvarpwr     calavepwr   flatten        tsky       fluxden  badline  \\\n",
      "9710   0.000004  1.752791e-21  0.566727  126.954201  25776.341797    False   \n",
      "\n",
      "      HIline     slope  smooth_slope isPeak isValley  \n",
      "9710    True  0.036627     -0.227541  False     True  \n"
     ]
    }
   ],
   "source": [
    "#for index in range (9526, 10840):\n",
    "for index in range(2, len(pd_df)-3):\n",
    "    \n",
    "    if (pd_df.loc[index, 'HIline']):\n",
    "        \n",
    "        smoothSlope = smoothPascal(pd_df, index, 'slope')\n",
    "        pd_df.at[index, 'smooth_slope'] = smoothSlope\n",
    "        #print(pd_df.loc[index, ['tsky', 'HIline', 'slope', 'smooth_slope']])\n",
    "      \n",
    "        #use slope to identify peaks/valleys \n",
    "        lastSlopeDiff = (pd_df.at[index-2, 'smooth_slope'] - pd_df.at[index -1, 'smooth_slope'])\n",
    "        nextSlopeDiff = (pd_df.at[index+2, 'smooth_slope'] - pd_df.at[index +1, 'smooth_slope'])\n",
    "        #nextSlope= pd_df.at[index+1, 'smooth_slope']\n",
    "        \n",
    "        #between neg slope increasing and pos slope decreasing and close to zero (one ish)\n",
    "        #slopes before are decreasing in magnitude and after are increasing\n",
    "        magDecrease = abs(pd_df.at[index -2, 'smooth_slope']) > abs(pd_df.at[index -1, 'smooth_slope']) and abs(pd_df.at[index -1, 'smooth_slope']) > abs(pd_df.at[index, 'smooth_slope'])\n",
    "        magIncrease = abs(pd_df.at[index +2,'smooth_slope']) > abs(pd_df.at[index +1, 'smooth_slope']) and abs(pd_df.at[index +1, 'smooth_slope']) > abs(pd_df.at[index, 'smooth_slope'])\n",
    "        \n",
    "        #boolean for index is highest/lowest in neighborhood\n",
    "        maxRange = 15\n",
    "        isMax = max(pd_df.loc[index - maxRange: index + maxRange, 'tsky']) == pd_df.at[index, 'tsky']\n",
    "        isMin = min(pd_df.loc[index - maxRange: index + maxRange, 'tsky']) == pd_df.at[index, 'tsky']\n",
    "        \n",
    "        pd_df.at[index, 'isPeak'] = False\n",
    "        pd_df.at[index, 'isValley'] = False\n",
    "        \n",
    "        slopeThreshold = 0.3\n",
    "        #if abs(smoothSlope) < slopeThreshold and lastSlopeDiff > 0 and nextSlopeDiff < 0 and isMax:\n",
    "        #if abs(smoothSlope) < 1 and magDecrease == True and magIncrease == True and isMax :\n",
    "        if isMax:\n",
    "            pd_df.at[index, 'isPeak'] = True\n",
    "\n",
    "        #elif abs(smoothSlope) < slopeThreshold and lastSlopeDiff < 0 and nextSlopeDiff > 0 and isMin:\n",
    "        #elif abs(smoothSlope) < 1 and magDecrease == True and magIncrease == True and isMin:\n",
    "        if isMin:\n",
    "            pd_df.at[index, 'isValley'] = True\n",
    "    \n",
    "        #print all rows where peak or valley == true\n",
    "        #print (pd_df.loc[index, ['isPeak', 'isValley']])\n",
    "    if (pd_df.loc[index, 'HIline']):\n",
    "        \n",
    "        \n",
    "print(pd_df.loc[pd_df['isPeak'] == True])\n",
    "print(pd_df.loc[pd_df['isValley'] == True])"
   ]
  },
  {
   "cell_type": "code",
   "execution_count": 149,
   "metadata": {},
   "outputs": [
    {
     "name": "stdout",
     "output_type": "stream",
     "text": [
      "ts\n",
      "ra\n",
      "dec\n",
      "dopfreq\n",
      "rawavepwr\n",
      "rawvarpwr\n",
      "calavepwr\n",
      "flatten\n",
      "tsky\n",
      "fluxden\n",
      "badline\n",
      "HIline\n",
      "slope\n",
      "smooth_slope\n",
      "isPeak\n",
      "isValley\n"
     ]
    }
   ],
   "source": [
    "#for each peak except last one\n",
    "    #x1, y1 = peak[0, 'dopfreq'], peak[0, 'dopfreq']\n",
    "    #xValley, yValley = valley[dopfreq], valley ['tsky']\n",
    "    #m = ((peak1['tsky']- peak2['tsky'])/(peak1['dopfreq']- peak2['dopfreq']))\n",
    "    #estimatedPower = m(xValley - x1) + y1\n",
    "    #absorptionDepth = estimatedPower - yValley\n",
    "    #if absoption Depth is negative or zero, ignore it"
   ]
  },
  {
   "cell_type": "markdown",
   "metadata": {
    "colab_type": "text",
    "id": "STtpmcnaXp6w"
   },
   "source": [
    "**TODO:** check out the ra and dec columns above"
   ]
  },
  {
   "cell_type": "markdown",
   "metadata": {
    "colab_type": "text",
    "id": "zt4aWskA9R1L"
   },
   "source": [
    "##Read All LTO Files in a Directory"
   ]
  },
  {
   "cell_type": "markdown",
   "metadata": {
    "colab_type": "text",
    "id": "vBJrSmwdYLhN"
   },
   "source": [
    "`lto_utils` provides functionality to read all `.lto` in a directory. This can useful in summarizing an observing session, such as a drift scan.\n",
    "\n",
    "**Caution:** the methods below will read **all** `.lto` files in the specified directory, so if there are files with duplicate content or `.lto` files from other observing sessions, such files will contaminate the results."
   ]
  },
  {
   "cell_type": "code",
   "execution_count": null,
   "metadata": {
    "colab": {
     "base_uri": "https://localhost:8080/",
     "height": 34
    },
    "colab_type": "code",
    "id": "boJ8OTWwElo5",
    "outputId": "2750bd22-a5e1-4906-abd9-d60905bb4a4d"
   },
   "outputs": [],
   "source": [
    "# see the directories of observations:\n",
    "!ls lto_data"
   ]
  },
  {
   "cell_type": "markdown",
   "metadata": {
    "colab_type": "text",
    "id": "bhce6Nm5o9qA"
   },
   "source": [
    "These are early observations in the LTO Radio Telescope projects. As such, the quality of the data is suspect; however the observations will suffice for demonstration purposes.  Just don't base any science on these!!\n",
    "\n",
    "The 2018_08_30 directory is a 24-hour drift scan, some 1440 files (one for each minute) in all.  The 2018_09_02 observation set is considerably smaller, so we'll demonstrate with it.  Doing so, however will compromise the plots that follow.\n",
    "\n",
    "If you want to see a full 24-hour drift scan, set the scan date to `'2018_08_30'`."
   ]
  },
  {
   "cell_type": "code",
   "execution_count": null,
   "metadata": {
    "colab": {},
    "colab_type": "code",
    "id": "koLlK1-0lXuZ"
   },
   "outputs": [],
   "source": [
    "#obs_dir = '/Users/kevin/Documents/LTO Radiometry/HI_Detection/lto_cache'\n",
    "#obs_dir = 'lto_data'\n",
    "obs_dir = 'D:\\LTO Data'\n",
    "scan_date = '2020_08_13'"
   ]
  },
  {
   "cell_type": "code",
   "execution_count": null,
   "metadata": {
    "colab": {},
    "colab_type": "code",
    "id": "2O_zXQlb9oFA"
   },
   "outputs": [],
   "source": [
    "#get all the spectral characteristics for the observation of 2018_09_02\n",
    "# this can take a several minutes to run, espcially if the files are not local\n",
    "obs_summary = lto.getSpectralCharacteristics(obs_dir+ '/' +scan_date)"
   ]
  },
  {
   "cell_type": "code",
   "execution_count": null,
   "metadata": {
    "colab": {},
    "colab_type": "code",
    "id": "HIt8N-iO-yRv"
   },
   "outputs": [],
   "source": [
    "obs_summary.head()"
   ]
  },
  {
   "cell_type": "code",
   "execution_count": null,
   "metadata": {
    "colab": {
     "base_uri": "https://localhost:8080/",
     "height": 34
    },
    "colab_type": "code",
    "id": "guTX5mCH-0ei",
    "outputId": "3fcf51fe-0927-460e-ac94-091faa3ffac4"
   },
   "outputs": [],
   "source": [
    "len(obs_summary)"
   ]
  },
  {
   "cell_type": "code",
   "execution_count": null,
   "metadata": {
    "colab": {
     "base_uri": "https://localhost:8080/",
     "height": 347
    },
    "colab_type": "code",
    "id": "fpDQERUo-LGx",
    "outputId": "2f9f9421-350f-41e2-8b54-46111e8c8ddb"
   },
   "outputs": [],
   "source": [
    "plt.plot(obs_summary.index, obs_summary.avetsky)\n",
    "plt.title(f'Drift Scan Summary, Scan Date: {scan_date}')\n",
    "plt.xlabel('Time (UT)')\n",
    "plt.xticks(rotation=90)\n",
    "plt.ylabel('Average Sky Temp (K)')"
   ]
  },
  {
   "cell_type": "code",
   "execution_count": null,
   "metadata": {
    "colab": {
     "base_uri": "https://localhost:8080/",
     "height": 298
    },
    "colab_type": "code",
    "id": "Jk8rshL1L4-o",
    "outputId": "6af52f3c-5770-461b-8685-d47a2949e2e0"
   },
   "outputs": [],
   "source": [
    "#it's a drift scan so plot by right ascension\n",
    "plt.scatter(obs_summary.ra, obs_summary.avetsky, s=9)\n",
    "plt.title(f'Drift Scan Summary, Scan Date: {scan_date}')\n",
    "plt.xlabel('Right Ascension (deg)')\n",
    "plt.xticks(rotation=90)\n",
    "plt.ylabel('Average Sky Temp (K)')\n",
    "plt.grid()\n",
    "plt.gca().invert_xaxis()"
   ]
  },
  {
   "cell_type": "code",
   "execution_count": null,
   "metadata": {
    "colab": {},
    "colab_type": "code",
    "id": "Qj_5NUmzAHRY"
   },
   "outputs": [],
   "source": [
    "#this takes quite a bit of time on goolge, not so much when data is local\n",
    "\n",
    "#get all the spectral data from the drift scan\n",
    "#spectra = lto.getDriftScan(obs_dir+ '/' +scan_date)"
   ]
  },
  {
   "cell_type": "code",
   "execution_count": null,
   "metadata": {
    "colab": {
     "base_uri": "https://localhost:8080/",
     "height": 309
    },
    "colab_type": "code",
    "id": "VoKmaHQZN4ya",
    "outputId": "ed46a831-58c5-4254-ab40-6498d3e6d4c3"
   },
   "outputs": [],
   "source": [
    "spectra.head()"
   ]
  },
  {
   "cell_type": "markdown",
   "metadata": {
    "colab_type": "text",
    "id": "PXVHVsfNmIGy"
   },
   "source": [
    "Yeilds a rather large data frame:"
   ]
  },
  {
   "cell_type": "code",
   "execution_count": null,
   "metadata": {
    "colab": {
     "base_uri": "https://localhost:8080/",
     "height": 34
    },
    "colab_type": "code",
    "id": "ZysVde6HaPYd",
    "outputId": "183113d1-35e0-412c-b006-249eeefa2c76"
   },
   "outputs": [],
   "source": [
    "len(spectra)"
   ]
  },
  {
   "cell_type": "markdown",
   "metadata": {
    "colab_type": "text",
    "id": "Xi8nU9z343fl"
   },
   "source": [
    "## Construct a Spectrogram"
   ]
  },
  {
   "cell_type": "markdown",
   "metadata": {
    "colab_type": "text",
    "id": "48wx1rwQcebb"
   },
   "source": [
    "The `spectra` data frame from above can be unweildy with 23 million rows, so the `getDriftScan` method provides a `dfclip` parameter to eliminate data at the far ends of the spectrum. If we clip the spectrum, the production of the spectrogram proceeds much faster, because the resulting data set is so much smaller."
   ]
  },
  {
   "cell_type": "code",
   "execution_count": null,
   "metadata": {
    "colab": {
     "base_uri": "https://localhost:8080/",
     "height": 34
    },
    "colab_type": "code",
    "id": "5b7nDYcKdQuA",
    "outputId": "94ec47f9-fb61-408c-fa5b-7546e99d4a00"
   },
   "outputs": [],
   "source": [
    "#clip to -300 kHz to 300 kHz\n",
    "spectra = lto.getDriftScan(obs_dir+ '/' +scan_date, dfclip=(0, 0.2e7))\n",
    "len(spectra)"
   ]
  },
  {
   "cell_type": "code",
   "execution_count": null,
   "metadata": {
    "colab": {
     "base_uri": "https://localhost:8080/",
     "height": 34
    },
    "colab_type": "code",
    "id": "kkSuY5nFN9DE",
    "outputId": "7ede7ead-78e8-4f29-cd66-461152d8b94d"
   },
   "outputs": [],
   "source": [
    "#make the temperature array dopfreq x time\n",
    "\n",
    "#sort the spectra data frame\n",
    "spectra.sort_values(['dopfreq', 'ts'], inplace=True)\n",
    "\n",
    "#get the y axis (dopler freq) values:\n",
    "dopfreqs = spectra.dopfreq.unique()\n",
    "\n",
    "# next, get the x-axis which is the time of the observations;\n",
    "obs_times = spectra.ts.unique()\n",
    "\n",
    "#make the temperature array\n",
    "skytemp = np.array(spectra.tsky).reshape(len(dopfreqs), len(obs_times))\n",
    "\n",
    "skytemp.shape"
   ]
  },
  {
   "cell_type": "code",
   "execution_count": null,
   "metadata": {
    "colab": {},
    "colab_type": "code",
    "id": "Wi234ZkNfeHu"
   },
   "outputs": [],
   "source": [
    "#helper routine to beautify the time formating:\n",
    "import matplotlib.dates as mdates\n",
    "fmt = mdates.DateFormatter('%H:%M')\n",
    "\n",
    "#for the normalizer:\n",
    "import matplotlib.colors as colors\n",
    "\n"
   ]
  },
  {
   "cell_type": "code",
   "execution_count": null,
   "metadata": {
    "colab": {
     "base_uri": "https://localhost:8080/",
     "height": 425
    },
    "colab_type": "code",
    "id": "70J4Lv0g6FKS",
    "outputId": "6e7d085c-92ff-43e0-843c-084b14b2d5aa"
   },
   "outputs": [],
   "source": [
    "fig = plt.figure(figsize=(12,6))\n",
    "ax = fig.add_subplot()\n",
    "\n",
    "pcm = ax.pcolormesh(obs_times, dopfreqs, skytemp,cmap='gnuplot',\n",
    "                norm=colors.LogNorm())\n",
    "                   #norm=colors.PowerNorm(gamma=1./2.))\n",
    "fig.colorbar(pcm, label='Sky Temp (K)')\n",
    "\n",
    "plt.xlabel('Time (UT)')\n",
    "plt.gca().xaxis.set_major_formatter(fmt)\n",
    "plt.xticks(rotation=90)\n",
    "plt.ylabel('Dopler Shift (kHz)')\n",
    "plt.title(f'LTO Driftscan of {scan_date}',fontdict={'fontsize':16, 'fontweight':'bold'})\n",
    "plt.grid()"
   ]
  }
 ],
 "metadata": {
  "colab": {
   "authorship_tag": "ABX9TyM9HsgylMuG26nM1JpKBHzH",
   "include_colab_link": true,
   "name": "lto_data.ipynb",
   "provenance": [],
   "toc_visible": true
  },
  "kernelspec": {
   "display_name": "Python 3",
   "language": "python",
   "name": "python3"
  },
  "language_info": {
   "codemirror_mode": {
    "name": "ipython",
    "version": 3
   },
   "file_extension": ".py",
   "mimetype": "text/x-python",
   "name": "python",
   "nbconvert_exporter": "python",
   "pygments_lexer": "ipython3",
   "version": "3.8.3"
  }
 },
 "nbformat": 4,
 "nbformat_minor": 4
}
