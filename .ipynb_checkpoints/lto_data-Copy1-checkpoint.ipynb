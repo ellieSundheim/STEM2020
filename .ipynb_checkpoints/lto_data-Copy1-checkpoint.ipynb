{
 "cells": [
  {
   "cell_type": "markdown",
   "metadata": {
    "colab_type": "text",
    "id": "view-in-github"
   },
   "source": [
    "<a href=\"https://colab.research.google.com/github/kevinmcmanus/lto_utils/blob/master/lto_data.ipynb\" target=\"_parent\"><img src=\"https://colab.research.google.com/assets/colab-badge.svg\" alt=\"Open In Colab\"/></a>"
   ]
  },
  {
   "cell_type": "markdown",
   "metadata": {
    "colab_type": "text",
    "id": "Apn0zMs9QY2v"
   },
   "source": [
    "# LTO Utilities Library"
   ]
  },
  {
   "cell_type": "markdown",
   "metadata": {
    "colab_type": "text",
    "id": "bX344M-tQnQ4"
   },
   "source": [
    "The LTO Utilities library provides a set of useful functions for dealing with files output from the Little Thompson Observatory's radio telescope. These files, suffixed with '.lto' capture spectral information and the data processing pipeline produces them at approximately one-minute intervals throughout an observation.\n",
    "\n",
    "For the purposes of this demo, a 24-hour drift scan observation is available in Google Cloud Storage.  Having the data in GCS complicates this demo somewhat in that the Google Colab virtual machine that is running this notebook needs to mount the GCS as a preliminary step.\n",
    "The actual demonstration of obtaining and using the `lto_utils` library begins in the section entitled 'Clone the lto_utils' repo."
   ]
  },
  {
   "cell_type": "markdown",
   "metadata": {
    "colab_type": "text",
    "id": "8WapFl0zTWf-"
   },
   "source": [
    "## Preliminaries"
   ]
  },
  {
   "cell_type": "markdown",
   "metadata": {
    "colab_type": "text",
    "id": "YNxuMpwmB9ba"
   },
   "source": [
    "### References on Using Cloud Storage in Colab"
   ]
  },
  {
   "cell_type": "markdown",
   "metadata": {
    "colab_type": "text",
    "id": "K4CVm6sAuU1v"
   },
   "source": [
    "These articles explain how to make Google Cloud Storage availabale within a Google Colab notebook, such as this one.\n",
    "\n",
    "(https://medium.com/analytics-vidhya/how-to-access-files-from-google-cloud-storage-in-colab-notebooks-8edaf9e6c020)\n",
    "\n",
    "(https://stackoverflow.com/questions/51715268/how-to-import-data-from-google-cloud-storage-to-google-colab)\n",
    "\n",
    "(https://ostrokach.gitlab.io/post/google-colab-storage/)"
   ]
  },
  {
   "cell_type": "markdown",
   "metadata": {
    "colab_type": "text",
    "id": "CCYrwRu93ESO"
   },
   "source": [
    "### Authenticate and Mount GCS Bucket"
   ]
  },
  {
   "cell_type": "code",
   "execution_count": 1,
   "metadata": {
    "colab": {},
    "colab_type": "code",
    "id": "zmj1xAxhooC_"
   },
   "outputs": [],
   "source": [
    "#from google.colab import auth\n",
    "\n",
    "#auth.authenticate_user()"
   ]
  },
  {
   "cell_type": "code",
   "execution_count": 2,
   "metadata": {
    "colab": {
     "base_uri": "https://localhost:8080/",
     "height": 323
    },
    "colab_type": "code",
    "id": "gaybdAkUqRdK",
    "outputId": "dc8618ba-5784-4321-872b-9cdbdf710b04"
   },
   "outputs": [],
   "source": [
    "#!echo \"deb http://packages.cloud.google.com/apt gcsfuse-bionic main\" > /etc/apt/sources.list.d/gcsfuse.list\n",
    "#!curl https://packages.cloud.google.com/apt/doc/apt-key.gpg | apt-key add -\n",
    "#!apt -qq update\n",
    "#!apt -qq install gcsfuse"
   ]
  },
  {
   "cell_type": "code",
   "execution_count": 3,
   "metadata": {
    "colab": {
     "base_uri": "https://localhost:8080/",
     "height": 102
    },
    "colab_type": "code",
    "id": "kIp99n9w16jC",
    "outputId": "a7d8bfaf-610d-4fb3-afa4-598ccd7a84fc"
   },
   "outputs": [],
   "source": [
    "#Mount the drive\n",
    "#!mkdir lto_data\n",
    "#!gcsfuse --implicit-dirs --limit-bytes-per-sec -1 --limit-ops-per-sec -1 lto_data lto_data"
   ]
  },
  {
   "cell_type": "code",
   "execution_count": 4,
   "metadata": {
    "colab": {},
    "colab_type": "code",
    "id": "oDjKuzUQovOK"
   },
   "outputs": [],
   "source": [
    "#to mount your own google drive, do this:\n",
    "#from google.colab import drive\n",
    "#drive.mount('/content/drive')"
   ]
  },
  {
   "cell_type": "markdown",
   "metadata": {
    "colab_type": "text",
    "id": "uSS5amXO3kSA"
   },
   "source": [
    "## Clone the lto_utils Repo"
   ]
  },
  {
   "cell_type": "code",
   "execution_count": 5,
   "metadata": {
    "colab": {
     "base_uri": "https://localhost:8080/",
     "height": 34
    },
    "colab_type": "code",
    "id": "uDtC6puZv7KZ",
    "outputId": "32747637-e56a-4205-845e-bfe94f0cb490"
   },
   "outputs": [],
   "source": [
    "#!git clone https://github.com/kevinmcmanus/lto_utils"
   ]
  },
  {
   "cell_type": "code",
   "execution_count": 24,
   "metadata": {},
   "outputs": [],
   "source": [
    "import sys\n",
    "sys.path.append('lto_utils')"
   ]
  },
  {
   "cell_type": "code",
   "execution_count": 25,
   "metadata": {},
   "outputs": [],
   "source": [
    "from lto_utils.lto_file import LTO_File, getDriftScan, getSpectralCharacteristics, getLTOobs"
   ]
  },
  {
   "cell_type": "code",
   "execution_count": 26,
   "metadata": {
    "colab": {},
    "colab_type": "code",
    "id": "j_8kTKpxwjtJ"
   },
   "outputs": [],
   "source": [
    "import lto_utils.lto_file as lto"
   ]
  },
  {
   "cell_type": "code",
   "execution_count": 27,
   "metadata": {
    "colab": {},
    "colab_type": "code",
    "id": "e5axO4LHXGKX"
   },
   "outputs": [],
   "source": [
    "import numpy as np\n",
    "import pandas as pd\n",
    "import matplotlib.pyplot as plt\n",
    "%matplotlib inline\n",
    "\n",
    "import os"
   ]
  },
  {
   "cell_type": "markdown",
   "metadata": {
    "colab_type": "text",
    "id": "ILwzuvxr33Du"
   },
   "source": [
    "## Read Single LTO File and Examine its Contents"
   ]
  },
  {
   "cell_type": "code",
   "execution_count": 28,
   "metadata": {},
   "outputs": [],
   "source": [
    "obs_dir = r'C:\\Users\\Ellie\\Documents\\LTO Data' # dir where the observations live\n",
    "obs_date = '2020_08_10' # dir of the day's observations\n",
    "obs_file = 'LTO-SRGA-2020-08-10-03-42-05.lto' #a particular minute's observation"
   ]
  },
  {
   "cell_type": "code",
   "execution_count": 29,
   "metadata": {},
   "outputs": [
    {
     "name": "stdout",
     "output_type": "stream",
     "text": [
      "LTO File; Obs Time: 2020-08-10 03:42:05 UT, Az: 180.00, El: 23.90, RA: 17.97, Dec: -25.80, from file: C:\\Users\\Ellie\\Documents\\LTO Data\\2020_08_10\\LTO-SRGA-2020-08-10-03-42-05.lto\n"
     ]
    }
   ],
   "source": [
    "#create an LTO_File object and read its contents\n",
    "lto_file = LTO_File(os.path.join(obs_dir, obs_date, obs_file))\n",
    "print(lto_file)"
   ]
  },
  {
   "cell_type": "code",
   "execution_count": 30,
   "metadata": {
    "colab": {},
    "colab_type": "code",
    "id": "Pt8V5ZXxyROo"
   },
   "outputs": [],
   "source": [
    "#set the path to the object\n",
    "#path = 'lto_data/2018_09_02/LTO-HI-2018-09-02-17-41-53.lto'\n",
    "\n",
    "#simple peaks\n",
    "#path = r'C:\\Users\\Ellie\\Documents\\LTO Data\\2020_08_10\\LTO-SRGA-2020-08-10-03-23-30.lto'\n",
    "#path = r'C:\\Users\\Ellie\\Documents\\LTO Data\\2020_08_08\\LTO-SRGA-2020-08-08-04-00-09.lto'\n",
    "#path = r'C:\\Users\\Ellie\\Documents\\LTO Data\\2020_08_11\\LTO-SRGA-2020-08-11-04-09-41.lto'\n",
    "#path = r'C:\\Users\\Ellie\\Documents\\LTO Data\\2020_08_10\\LTO-SRGA-2020-08-10-03-42-05.lto'\n",
    "\n",
    "#multi-peak\n",
    "#path = r'C:\\Users\\Ellie\\Documents\\LTO Data\\2020_08_11\\LTO-SRGA-2020-08-11-03-57-38.lto'\n",
    "\n",
    "#create an LTO_File object\n",
    "#lto_file = lto.LTO_File(path)\n"
   ]
  },
  {
   "cell_type": "markdown",
   "metadata": {
    "colab_type": "text",
    "id": "b9jb-__ZUvEc"
   },
   "source": [
    "`lto_file` object contains two attributes: `SpectralHeader` and `SpectralData`. Both are large data structures. The `SpectralHeader` has several subsections which are:"
   ]
  },
  {
   "cell_type": "code",
   "execution_count": 31,
   "metadata": {
    "colab": {
     "base_uri": "https://localhost:8080/",
     "height": 54
    },
    "colab_type": "code",
    "id": "MprZi3yXU5MX",
    "outputId": "5ed6a70d-9501-4a1a-d623-2c74b9b4f681"
   },
   "outputs": [
    {
     "data": {
      "text/plain": [
       "dict_keys(['Magic', 'Observatory', 'ObsLocation', 'BeamPosition', 'ObsTime', 'Spectrum', 'RadioCalibrations', 'ProgramControl', 'SpectralCharacteristics'])"
      ]
     },
     "execution_count": 31,
     "metadata": {},
     "output_type": "execute_result"
    }
   ],
   "source": [
    "lto_file.SpectralHeader.keys()"
   ]
  },
  {
   "cell_type": "markdown",
   "metadata": {
    "colab_type": "text",
    "id": "NvVLpWOi4Y6y"
   },
   "source": [
    " \n",
    "The subsection `SpectralCharacteristics`  contains summary information of the file. \n",
    " This subsection is particularly useful."
   ]
  },
  {
   "cell_type": "code",
   "execution_count": 32,
   "metadata": {
    "colab": {
     "base_uri": "https://localhost:8080/",
     "height": 459
    },
    "colab_type": "code",
    "id": "mjADjPid4KyQ",
    "outputId": "902f6229-40d1-49d6-9b6f-8d8495f53ad7"
   },
   "outputs": [
    {
     "data": {
      "text/plain": [
       "{'avespecpwr': 1.5711914063203291e-21,\n",
       " 'varspecpwr': 5.628148505357935e-45,\n",
       " 'totalpwr': 1.971688095791382e-17,\n",
       " 'numspecpwr': 12549,\n",
       " 'numave': 26230,\n",
       " 'numbad': 14,\n",
       " 'aveindvpwr': 0.0018558488227427006,\n",
       " 'varindvpwr': 2.780355390363809e-10,\n",
       " 'peakpwr': 2.159561784222817e-21,\n",
       " 'peakpwrfreq': 1420344655.25,\n",
       " 'totalHIpwr': 1.2758551309050083e-18,\n",
       " 'numHIpwr': 701,\n",
       " 'avecrpwr': 1.5564674060608382e-21,\n",
       " 'varcrpwr': 2.6875262475391685e-46,\n",
       " 'numcrpwr': 11848,\n",
       " 'avetsky': 112.73451232910156,\n",
       " 'vartsky': 1.4098939634178782,\n",
       " 'peaktsky': 156.41647768708123,\n",
       " 'peaktskyfreq': 1420344655.25,\n",
       " 'avefluxden': 23105.755327199975,\n",
       " 'varfluxden': 1217160.0997105653,\n",
       " 'peakfluxden': 31758.260641893266,\n",
       " 'peakfluxfreq': 1420344655.25,\n",
       " 'badspec': False,\n",
       " 'processing': 'Raw FFT',\n",
       " 'user': ''}"
      ]
     },
     "execution_count": 32,
     "metadata": {},
     "output_type": "execute_result"
    }
   ],
   "source": [
    "lto_file.SpectralHeader['SpectralCharacteristics']"
   ]
  },
  {
   "cell_type": "markdown",
   "metadata": {
    "colab_type": "text",
    "id": "43Pz-YXr5C-w"
   },
   "source": [
    "`SpectralData` is a  dictionary which essentially captures the spectrum and some other frequency-dependent measures.  Each dictionary element is a vector of length `nfft`."
   ]
  },
  {
   "cell_type": "code",
   "execution_count": 33,
   "metadata": {
    "colab": {
     "base_uri": "https://localhost:8080/",
     "height": 54
    },
    "colab_type": "code",
    "id": "bnoZVWAjVX7_",
    "outputId": "fc2c1343-e264-4fa2-c7c7-aa88531facc5"
   },
   "outputs": [
    {
     "data": {
      "text/plain": [
       "dict_keys(['dopfreq', 'rawavepwr', 'rawvarpwr', 'calavepwr', 'flatten', 'tsky', 'fluxden', 'badline', 'HIline'])"
      ]
     },
     "execution_count": 33,
     "metadata": {},
     "output_type": "execute_result"
    }
   ],
   "source": [
    "lto_file.SpectralData.keys()"
   ]
  },
  {
   "cell_type": "code",
   "execution_count": 34,
   "metadata": {
    "colab": {
     "base_uri": "https://localhost:8080/",
     "height": 34
    },
    "colab_type": "code",
    "id": "gt-TWlxmVwux",
    "outputId": "c374088b-c589-4523-fdfc-86de1da943d8"
   },
   "outputs": [
    {
     "data": {
      "text/plain": [
       "(numpy.ndarray, 'Length: 16385')"
      ]
     },
     "execution_count": 34,
     "metadata": {},
     "output_type": "execute_result"
    }
   ],
   "source": [
    "#type and length of the tsky member of the dictionary\n",
    "n = len(lto_file.SpectralData['tsky'])\n",
    "type(lto_file.SpectralData['tsky']), f'Length: {n}'"
   ]
  },
  {
   "cell_type": "code",
   "execution_count": 35,
   "metadata": {
    "colab": {
     "base_uri": "https://localhost:8080/",
     "height": 295
    },
    "colab_type": "code",
    "id": "SxoumHmr5Xqu",
    "outputId": "18772bb2-9ed4-4295-e627-1644f47657bb"
   },
   "outputs": [
    {
     "data": {
      "image/png": "[encoded data removed]",
      "text/plain": [
       "<Figure size 432x288 with 1 Axes>"
      ]
     },
     "metadata": {
      "needs_background": "light"
     },
     "output_type": "display_data"
    }
   ],
   "source": [
    "plt.plot(lto_file.SpectralData['dopfreq'], lto_file.SpectralData['tsky'], label = 'first line')\n",
    "#plt.plot(lto_file.SpectralData['dopfreq'], lto_file.SpectralData['tsky']*1.1, label = 'second line')\n",
    "plt.xlim(0, 2000000)\n",
    "plt.ylim(100, 200)\n",
    "plt.xlabel('Dopler Frequency')\n",
    "plt.ylabel('Calibrated Power')\n",
    "plt.legend()\n",
    "zz=plt.title('Spectrum at '+lto_file.get_time().strftime('%Y-%m-%d %H:%M:%S %z'))"
   ]
  },
  {
   "cell_type": "markdown",
   "metadata": {
    "colab_type": "text",
    "id": "Y2062dJL8TP0"
   },
   "source": [
    "Sometimes it's easier to work with a `Pandas` dataframe. The `LTO_File` class provides a method to do so."
   ]
  },
  {
   "cell_type": "code",
   "execution_count": 36,
   "metadata": {
    "colab": {
     "base_uri": "https://localhost:8080/",
     "height": 309
    },
    "colab_type": "code",
    "id": "q0qXAPf78f1M",
    "outputId": "0a95d99b-b087-4630-e405-e34a6033eed5"
   },
   "outputs": [
    {
     "name": "stdout",
     "output_type": "stream",
     "text": [
      "16385\n"
     ]
    },
    {
     "data": {
      "text/html": [
       "<div>\n",
       "<style scoped>\n",
       "    .dataframe tbody tr th:only-of-type {\n",
       "        vertical-align: middle;\n",
       "    }\n",
       "\n",
       "    .dataframe tbody tr th {\n",
       "        vertical-align: top;\n",
       "    }\n",
       "\n",
       "    .dataframe thead th {\n",
       "        text-align: right;\n",
       "    }\n",
       "</style>\n",
       "<table border=\"1\" class=\"dataframe\">\n",
       "  <thead>\n",
       "    <tr style=\"text-align: right;\">\n",
       "      <th></th>\n",
       "      <th>ts</th>\n",
       "      <th>ra</th>\n",
       "      <th>dec</th>\n",
       "      <th>dopfreq</th>\n",
       "      <th>rawavepwr</th>\n",
       "      <th>rawvarpwr</th>\n",
       "      <th>calavepwr</th>\n",
       "      <th>flatten</th>\n",
       "      <th>tsky</th>\n",
       "      <th>fluxden</th>\n",
       "      <th>badline</th>\n",
       "      <th>HIline</th>\n",
       "    </tr>\n",
       "  </thead>\n",
       "  <tbody>\n",
       "    <tr>\n",
       "      <th>0</th>\n",
       "      <td>2020-08-10 03:42:05+00:00</td>\n",
       "      <td>17.972969</td>\n",
       "      <td>-25.800467</td>\n",
       "      <td>-5000000.0</td>\n",
       "      <td>0.001856</td>\n",
       "      <td>2.780355e-10</td>\n",
       "      <td>1.571254e-21</td>\n",
       "      <td>0.000000</td>\n",
       "      <td>113.805519</td>\n",
       "      <td>23106.679688</td>\n",
       "      <td>True</td>\n",
       "      <td>False</td>\n",
       "    </tr>\n",
       "    <tr>\n",
       "      <th>1</th>\n",
       "      <td>2020-08-10 03:42:05+00:00</td>\n",
       "      <td>17.972969</td>\n",
       "      <td>-25.800467</td>\n",
       "      <td>-4999389.5</td>\n",
       "      <td>0.001856</td>\n",
       "      <td>2.780355e-10</td>\n",
       "      <td>1.571254e-21</td>\n",
       "      <td>0.000000</td>\n",
       "      <td>113.805519</td>\n",
       "      <td>23106.679688</td>\n",
       "      <td>True</td>\n",
       "      <td>False</td>\n",
       "    </tr>\n",
       "    <tr>\n",
       "      <th>2</th>\n",
       "      <td>2020-08-10 03:42:05+00:00</td>\n",
       "      <td>17.972969</td>\n",
       "      <td>-25.800467</td>\n",
       "      <td>-4998779.5</td>\n",
       "      <td>0.132688</td>\n",
       "      <td>1.772982e-02</td>\n",
       "      <td>2.297536e-20</td>\n",
       "      <td>44.365669</td>\n",
       "      <td>1664.099487</td>\n",
       "      <td>337873.000000</td>\n",
       "      <td>True</td>\n",
       "      <td>False</td>\n",
       "    </tr>\n",
       "    <tr>\n",
       "      <th>3</th>\n",
       "      <td>2020-08-10 03:42:05+00:00</td>\n",
       "      <td>17.972969</td>\n",
       "      <td>-25.800467</td>\n",
       "      <td>-4998169.0</td>\n",
       "      <td>0.073398</td>\n",
       "      <td>5.441707e-03</td>\n",
       "      <td>3.429081e-20</td>\n",
       "      <td>24.306440</td>\n",
       "      <td>2483.674072</td>\n",
       "      <td>504276.562500</td>\n",
       "      <td>True</td>\n",
       "      <td>False</td>\n",
       "    </tr>\n",
       "    <tr>\n",
       "      <th>4</th>\n",
       "      <td>2020-08-10 03:42:05+00:00</td>\n",
       "      <td>17.972969</td>\n",
       "      <td>-25.800467</td>\n",
       "      <td>-4997558.5</td>\n",
       "      <td>0.050191</td>\n",
       "      <td>2.509560e-03</td>\n",
       "      <td>3.850476e-20</td>\n",
       "      <td>16.588919</td>\n",
       "      <td>2788.889648</td>\n",
       "      <td>566246.500000</td>\n",
       "      <td>True</td>\n",
       "      <td>False</td>\n",
       "    </tr>\n",
       "  </tbody>\n",
       "</table>\n",
       "</div>"
      ],
      "text/plain": [
       "                         ts         ra        dec    dopfreq  rawavepwr  \\\n",
       "0 2020-08-10 03:42:05+00:00  17.972969 -25.800467 -5000000.0   0.001856   \n",
       "1 2020-08-10 03:42:05+00:00  17.972969 -25.800467 -4999389.5   0.001856   \n",
       "2 2020-08-10 03:42:05+00:00  17.972969 -25.800467 -4998779.5   0.132688   \n",
       "3 2020-08-10 03:42:05+00:00  17.972969 -25.800467 -4998169.0   0.073398   \n",
       "4 2020-08-10 03:42:05+00:00  17.972969 -25.800467 -4997558.5   0.050191   \n",
       "\n",
       "      rawvarpwr     calavepwr    flatten         tsky        fluxden  badline  \\\n",
       "0  2.780355e-10  1.571254e-21   0.000000   113.805519   23106.679688     True   \n",
       "1  2.780355e-10  1.571254e-21   0.000000   113.805519   23106.679688     True   \n",
       "2  1.772982e-02  2.297536e-20  44.365669  1664.099487  337873.000000     True   \n",
       "3  5.441707e-03  3.429081e-20  24.306440  2483.674072  504276.562500     True   \n",
       "4  2.509560e-03  3.850476e-20  16.588919  2788.889648  566246.500000     True   \n",
       "\n",
       "   HIline  \n",
       "0   False  \n",
       "1   False  \n",
       "2   False  \n",
       "3   False  \n",
       "4   False  "
      ]
     },
     "execution_count": 36,
     "metadata": {},
     "output_type": "execute_result"
    }
   ],
   "source": [
    "import pandas as pd\n",
    "pd_df = lto_file.to_pandas()\n",
    "print(len(pd_df))\n",
    "pd_df.head()"
   ]
  },
  {
   "cell_type": "code",
   "execution_count": 37,
   "metadata": {},
   "outputs": [],
   "source": [
    "#testing locating variables of interest\n",
    "#only want rows where HI line = true b/c no need to look for peaks elsewhere\n",
    "\n",
    "#print(pd_df.loc[pd_df['HIline'] == True])"
   ]
  },
  {
   "cell_type": "code",
   "execution_count": 38,
   "metadata": {},
   "outputs": [],
   "source": [
    "#smoothing slope to help get locate only true peaks\n",
    "\n",
    "def smoothPascal(dataframe, centerIndex, column):\n",
    "    pascalArray = np.array([1,6,15,20,15,6,1])\n",
    "    #print(pascalArray)\n",
    "    sum = 0\n",
    "    for i in range(-3, 3):\n",
    "        sum += (dataframe.at[(centerIndex + i), column]) * (pascalArray[3 + i])\n",
    "        #print(sum)\n",
    "        \n",
    "    final = sum/64.0\n",
    "   # if final < 0.2 and final > -0.2:\n",
    "       # final = 0.0\n",
    "        \n",
    "    return final\n",
    "        \n",
    "    "
   ]
  },
  {
   "cell_type": "code",
   "execution_count": 39,
   "metadata": {},
   "outputs": [],
   "source": [
    "#for index in range (9526, 10840):\n",
    "def findPeaksValleys(df):\n",
    "    \n",
    "    peakList, valleyList = [], []\n",
    "    \n",
    "    for index in range(2, len(df)-3):\n",
    "\n",
    "        if (df.loc[index, 'HIline']):\n",
    "            \n",
    "            #calculate slope for each point\n",
    "            slope = (df['tsky'][index + 1] - df['tsky'][index] ) / (df['dopfreq'][index + 1] - df['dopfreq'][index])\n",
    "            df.at[index, 'slope'] = slope * 10000\n",
    "           # print(pd_df.loc[index, ['tsky', 'dopfreq', 'slope']])\n",
    "        \n",
    "            #apply smoothing algorithm to slopes\n",
    "            smoothSlope = smoothPascal(df, index, 'slope')\n",
    "            df.at[index, 'smooth_slope'] = smoothSlope\n",
    "            #print(pd_df.loc[index, ['tsky', 'HIline', 'slope', 'smooth_slope']])\n",
    "\n",
    "            #use slope to identify peaks/valleys \n",
    "            #lastSlopeDiff = (pd_df.at[index-2, 'smooth_slope'] - pd_df.at[index -1, 'smooth_slope'])\n",
    "            #nextSlopeDiff = (pd_df.at[index+2, 'smooth_slope'] - pd_df.at[index +1, 'smooth_slope'])\n",
    "            #nextSlope= pd_df.at[index+1, 'smooth_slope']\n",
    "\n",
    "            #between neg slope increasing and pos slope decreasing and close to zero (one ish)\n",
    "            #slopes before are decreasing in magnitude and after are increasing\n",
    "            #magDecrease = abs(pd_df.at[index -2, 'smooth_slope']) > abs(pd_df.at[index -1, 'smooth_slope']) and abs(pd_df.at[index -1, 'smooth_slope']) > abs(pd_df.at[index, 'smooth_slope'])\n",
    "            #magIncrease = abs(pd_df.at[index +2,'smooth_slope']) > abs(pd_df.at[index +1, 'smooth_slope']) and abs(pd_df.at[index +1, 'smooth_slope']) > abs(pd_df.at[index, 'smooth_slope'])\n",
    "\n",
    "            #boolean for index is highest/lowest in neighborhood\n",
    "            maxRange = 45\n",
    "            isMax = max(df.loc[index - maxRange: index + maxRange, 'tsky']) == df.at[index, 'tsky']\n",
    "            isMin = min(df.loc[index - maxRange: index + maxRange, 'tsky']) == df.at[index, 'tsky']\n",
    "\n",
    "            df.at[index, 'isPeak'] = False\n",
    "            df.at[index, 'isValley'] = False\n",
    "\n",
    "            slopeThreshold = 0.3\n",
    "            \n",
    "            #if abs(smoothSlope) < slopeThreshold and lastSlopeDiff > 0 and nextSlopeDiff < 0 and isMax:\n",
    "            #if abs(smoothSlope) < 1 and magDecrease == True and magIncrease == True and isMax :\n",
    "            if isMax:\n",
    "                df.at[index, 'isPeak'] = True\n",
    "                #peaklist.extend(df.loc[index, ['ts', 'ra', 'dec', 'dopfreq', 'tsky']])\n",
    "                peakList.append(index)\n",
    "\n",
    "            #elif abs(smoothSlope) < slopeThreshold and lastSlopeDiff < 0 and nextSlopeDiff > 0 and isMin:\n",
    "            #elif abs(smoothSlope) < 1 and magDecrease == True and magIncrease == True and isMin:\n",
    "            if isMin:\n",
    "                df.at[index, 'isValley'] = True\n",
    "                valleyList.append(index)\n",
    "\n",
    "            #print all rows where peak or valley == true\n",
    "    #print(df.loc[df['isPeak'] == True])\n",
    "    #print(df.loc[df['isValley'] == True])\n",
    "            \n",
    "    #print(peakList)\n",
    "    #print(valleyList)\n",
    "    return [peakList, valleyList]"
   ]
  },
  {
   "cell_type": "code",
   "execution_count": 40,
   "metadata": {},
   "outputs": [],
   "source": [
    "def getAbsorbDepth(df):\n",
    "    \n",
    "    #returns lists with indexes of peaks and valleys in dataframe\n",
    "    peaks, valleys = findPeaksValleys(df)\n",
    "    depthsList = []\n",
    "    \n",
    "    for peakListIndex, peak in enumerate(peaks):\n",
    "        if peakListIndex >= len(peaks) -1: break\n",
    "        \n",
    "          #------------------------how to ensure len(valleys) < len(peaks)????----------------------\n",
    "        for valley in valleys:\n",
    "            if peak < valley and peaks[peakListIndex + 1] > valley:\n",
    "                \n",
    "                x1 = df.at[peak, 'dopfreq']\n",
    "                y1 = df.at[peak, 'tsky']\n",
    "                x = df.at[peaks[peakListIndex +1], 'dopfreq']\n",
    "                y = df.at[peaks[peakListIndex+1], 'tsky']\n",
    "              \n",
    "                xValley = df.at[valley, 'dopfreq']\n",
    "                yValley = df.at[valley, 'tsky']\n",
    "\n",
    "                #connect the peaks to get estimate of power at valley location\n",
    "                m = (y - y1)/(x - x1)\n",
    "                estimatedPower = (m * (xValley - x1)) + y1\n",
    "                absorptionDepth = estimatedPower - yValley\n",
    "                print(absorptionDepth)\n",
    "                dictEntry = {'ra': df.at[valley, 'ra'], 'dec': df.at[valley, 'dec'], 'abDep': absorptionDepth, 'dopfreq': df.at[valley, 'dopfreq'] }\n",
    "                depthsList.append(dictEntry)\n",
    "            #if absoption Depth is negative, ??????????? set to 0???\n",
    "            else:\n",
    "                continue\n",
    "                \n",
    "       \n",
    "        \n",
    "    return depthsList\n"
   ]
  },
  {
   "cell_type": "code",
   "execution_count": 41,
   "metadata": {},
   "outputs": [
    {
     "name": "stdout",
     "output_type": "stream",
     "text": [
      "18.591502462757347\n"
     ]
    },
    {
     "data": {
      "text/plain": [
       "[{'ra': 17.97296905517578,\n",
       "  'dec': -25.800466537475586,\n",
       "  'abDep': 18.591502462757347,\n",
       "  'dopfreq': 925293.0}]"
      ]
     },
     "execution_count": 41,
     "metadata": {},
     "output_type": "execute_result"
    }
   ],
   "source": [
    "getAbsorbDepth(pd_df)"
   ]
  },
  {
   "cell_type": "markdown",
   "metadata": {
    "colab_type": "text",
    "id": "STtpmcnaXp6w"
   },
   "source": [
    "**TODO:** check out the ra and dec columns above"
   ]
  },
  {
   "cell_type": "code",
   "execution_count": 42,
   "metadata": {},
   "outputs": [
    {
     "data": {
      "image/png": "[encoded data removed]",
      "text/plain": [
       "<Figure size 432x288 with 1 Axes>"
      ]
     },
     "metadata": {
      "needs_background": "light"
     },
     "output_type": "display_data"
    }
   ],
   "source": [
    "#reprint spectra with peaks/valleys shown\n",
    "plt.plot(lto_file.SpectralData['dopfreq'], lto_file.SpectralData['tsky'], label = 'Temp')\n",
    "plt.plot(lto_file.SpectralData['dopfreq'], lto_file.SpectralData['HIline']*125, label = 'HI')\n",
    "for point in range(len(pd_df)-1):\n",
    "    if (pd_df.at[point, 'HIline']) and (pd_df.at[point, 'isPeak'] or pd_df.at[point, 'isValley']):\n",
    "        plt.scatter(pd_df.at[point, 'dopfreq'], pd_df.at[point, 'tsky'], 50)\n",
    "plt.xlim(0, 2000000)\n",
    "plt.ylim(100, 200)\n",
    "plt.xlabel('Dopler Frequency')\n",
    "plt.ylabel('Calibrated Power')\n",
    "plt.legend()\n",
    "zz=plt.title('Spectrum at '+lto_file.get_time().strftime('%Y-%m-%d %H:%M:%S %z'))"
   ]
  },
  {
   "cell_type": "code",
   "execution_count": null,
   "metadata": {},
   "outputs": [],
   "source": [
    "def writeLTOEfile(ra, dec, absDepth, dopFreq):\n",
    "    fw.open(ltoeLogFileS, 'a')\n",
    "    if fw.mode != 'a':\n",
    "        print(\"Error: could not open file to append \\n\")\n",
    "        exit()\n",
    "    else:\n",
    "        fw.write(     str(ra))\n",
    "        fw.write(' ' + str(dec))\n",
    "        fw.write(' ' + '0.0')\n",
    "        fw.write(' ' + '0.0')"
   ]
  },
  {
   "cell_type": "code",
   "execution_count": 44,
   "metadata": {},
   "outputs": [
    {
     "name": "stdout",
     "output_type": "stream",
     "text": [
      "13.639566654018068\n",
      "13.888479228891157\n",
      "13.957953100791116\n",
      "15.08931860073568\n",
      "11.825195182257914\n",
      "15.74597737461147\n",
      "13.428397919718321\n",
      "15.285169575490784\n",
      "15.623253252428725\n",
      "15.714678542303545\n",
      "16.72296030516597\n",
      "17.645755560880247\n",
      "18.580898836007265\n",
      "19.027665918243656\n",
      "19.29440956732708\n",
      "19.964523741523067\n",
      "20.444907839349582\n",
      "19.93136248876897\n",
      "21.037826238940426\n",
      "20.73725684302275\n",
      "20.309935060106454\n",
      "28.366789555999844\n",
      "20.53283494510717\n",
      "20.206302929026208\n",
      "20.649634682544985\n",
      "20.26016094311524\n",
      "28.151668921766458\n",
      "19.080809549804684\n",
      "19.80748748779297\n",
      "18.591502462757347\n",
      "18.68311709290822\n",
      "17.490359857382657\n",
      "16.65542470025929\n",
      "16.564041137695312\n",
      "15.7111949211112\n",
      "14.834135695864916\n",
      "13.95373343208496\n",
      "13.235158754148358\n",
      "11.66490807684238\n",
      "10.789940539052054\n",
      "9.787860466454674\n",
      "8.391931174107157\n",
      "8.408192723478209\n"
     ]
    },
    {
     "data": {
      "image/png": "[encoded data removed]",
      "text/plain": [
       "<Figure size 432x288 with 1 Axes>"
      ]
     },
     "metadata": {
      "needs_background": "light"
     },
     "output_type": "display_data"
    }
   ],
   "source": [
    "def absDepthforEntireDay(obs_dir, obs_date):\n",
    "    dayLongList = []\n",
    "    #for i, lto in enumerate(getLTOobs(os.path.join(obs_dir, obs_date))):\n",
    "    for i, lto in enumerate(getLTOobs(r'C:\\Users\\Ellie\\Documents\\LTO Data\\2020_08_10')):\n",
    "\n",
    "        #if i <= 170 or i >= 200:\n",
    "            #continue\n",
    "\n",
    "        pd_df = lto.to_pandas()\n",
    "        dayLongList += (getAbsorbDepth(pd_df))\n",
    "        #print(getAbsorbDepth(pd_df))\n",
    "        #print (dayLongList)\n",
    "\n",
    "    Xaxis = []\n",
    "    Yaxis = []\n",
    "    colormap = []\n",
    "\n",
    "    for d in dayLongList:\n",
    "        Xaxis.append( d['ra'])\n",
    "        #print(Xaxis)\n",
    "        Yaxis.append(d['dec'])\n",
    "        colormap.append(d['abDep'])\n",
    "    \n",
    "        \n",
    "    return Xaxis, Yaxis, colormap"
   ]
  },
  {
   "cell_type": "code",
   "execution_count": null,
   "metadata": {},
   "outputs": [],
   "source": [
    "plt.plot(Xaxis, colormap, label = 'absorption')\n",
    "plt.axhline(y = 0)\n",
    "plt.xlabel('RA')\n",
    "plt.ylabel('abDepth')\n",
    "plt.xlim(10, 20)\n",
    "plt.ylim(-5, 50)\n",
    "#plt.title('Absoption Depth', fontdict={'fontsize':16, 'fontweight':'bold'})\n",
    "plt.grid()\n",
    "plt.show()"
   ]
  },
  {
   "cell_type": "markdown",
   "metadata": {
    "colab_type": "text",
    "id": "zt4aWskA9R1L"
   },
   "source": [
    "##Read All LTO Files in a Directory"
   ]
  },
  {
   "cell_type": "markdown",
   "metadata": {
    "colab_type": "text",
    "id": "vBJrSmwdYLhN"
   },
   "source": [
    "`lto_utils` provides functionality to read all `.lto` in a directory. This can useful in summarizing an observing session, such as a drift scan.\n",
    "\n",
    "**Caution:** the methods below will read **all** `.lto` files in the specified directory, so if there are files with duplicate content or `.lto` files from other observing sessions, such files will contaminate the results."
   ]
  },
  {
   "cell_type": "code",
   "execution_count": null,
   "metadata": {
    "colab": {
     "base_uri": "https://localhost:8080/",
     "height": 34
    },
    "colab_type": "code",
    "id": "boJ8OTWwElo5",
    "outputId": "2750bd22-a5e1-4906-abd9-d60905bb4a4d"
   },
   "outputs": [],
   "source": [
    "# see the directories of observations:\n",
    "#!ls lto_data"
   ]
  },
  {
   "cell_type": "markdown",
   "metadata": {
    "colab_type": "text",
    "id": "bhce6Nm5o9qA"
   },
   "source": [
    "These are early observations in the LTO Radio Telescope projects. As such, the quality of the data is suspect; however the observations will suffice for demonstration purposes.  Just don't base any science on these!!\n",
    "\n",
    "The 2018_08_30 directory is a 24-hour drift scan, some 1440 files (one for each minute) in all.  The 2018_09_02 observation set is considerably smaller, so we'll demonstrate with it.  Doing so, however will compromise the plots that follow.\n",
    "\n",
    "If you want to see a full 24-hour drift scan, set the scan date to `'2018_08_30'`."
   ]
  },
  {
   "cell_type": "code",
   "execution_count": null,
   "metadata": {
    "colab": {},
    "colab_type": "code",
    "id": "koLlK1-0lXuZ"
   },
   "outputs": [],
   "source": [
    "#obs_dir = '/Users/kevin/Documents/LTO Radiometry/HI_Detection/lto_cache'\n",
    "#obs_dir = 'lto_data'\n",
    "obs_dir = r\"C:\\Users\\Ellie\\Documents\\LTO Data\"\n",
    "scan_date = '2020_08_12'"
   ]
  },
  {
   "cell_type": "code",
   "execution_count": 2,
   "metadata": {
    "colab": {},
    "colab_type": "code",
    "id": "2O_zXQlb9oFA"
   },
   "outputs": [
    {
     "ename": "NameError",
     "evalue": "name 'lto' is not defined",
     "output_type": "error",
     "traceback": [
      "\u001b[1;31m---------------------------------------------------------------------------\u001b[0m",
      "\u001b[1;31mNameError\u001b[0m                                 Traceback (most recent call last)",
      "\u001b[1;32m<ipython-input-2-be8bf09fd6b5>\u001b[0m in \u001b[0;36m<module>\u001b[1;34m\u001b[0m\n\u001b[0;32m      1\u001b[0m \u001b[1;31m#get all the spectral characteristics for the observation of 2018_09_02\u001b[0m\u001b[1;33m\u001b[0m\u001b[1;33m\u001b[0m\u001b[1;33m\u001b[0m\u001b[0m\n\u001b[0;32m      2\u001b[0m \u001b[1;31m# this can take a several minutes to run, espcially if the files are not local\u001b[0m\u001b[1;33m\u001b[0m\u001b[1;33m\u001b[0m\u001b[1;33m\u001b[0m\u001b[0m\n\u001b[1;32m----> 3\u001b[1;33m \u001b[0mobs_summary\u001b[0m \u001b[1;33m=\u001b[0m \u001b[0mlto\u001b[0m\u001b[1;33m.\u001b[0m\u001b[0mgetSpectralCharacteristics\u001b[0m\u001b[1;33m(\u001b[0m\u001b[0mobs_dir\u001b[0m\u001b[1;33m+\u001b[0m \u001b[1;34m'/'\u001b[0m \u001b[1;33m+\u001b[0m\u001b[0mscan_date\u001b[0m\u001b[1;33m)\u001b[0m\u001b[1;33m\u001b[0m\u001b[1;33m\u001b[0m\u001b[0m\n\u001b[0m",
      "\u001b[1;31mNameError\u001b[0m: name 'lto' is not defined"
     ]
    }
   ],
   "source": [
    "#get all the spectral characteristics for the observation of 2018_09_02\n",
    "# this can take a several minutes to run, espcially if the files are not local\n",
    "obs_summary = lto.getSpectralCharacteristics(obs_dir+ '/' +scan_date)"
   ]
  },
  {
   "cell_type": "code",
   "execution_count": null,
   "metadata": {
    "colab": {},
    "colab_type": "code",
    "id": "HIt8N-iO-yRv"
   },
   "outputs": [],
   "source": [
    "obs_summary.head()"
   ]
  },
  {
   "cell_type": "code",
   "execution_count": null,
   "metadata": {
    "colab": {
     "base_uri": "https://localhost:8080/",
     "height": 34
    },
    "colab_type": "code",
    "id": "guTX5mCH-0ei",
    "outputId": "3fcf51fe-0927-460e-ac94-091faa3ffac4"
   },
   "outputs": [],
   "source": [
    "len(obs_summary)"
   ]
  },
  {
   "cell_type": "code",
   "execution_count": null,
   "metadata": {
    "colab": {
     "base_uri": "https://localhost:8080/",
     "height": 347
    },
    "colab_type": "code",
    "id": "fpDQERUo-LGx",
    "outputId": "2f9f9421-350f-41e2-8b54-46111e8c8ddb"
   },
   "outputs": [],
   "source": [
    "plt.plot(obs_summary.index, obs_summary.avetsky)\n",
    "plt.title(f'Drift Scan Summary, Scan Date: {scan_date}')\n",
    "plt.xlabel('Time (UT)')\n",
    "plt.xticks(rotation=90)\n",
    "plt.ylabel('Average Sky Temp (K)')"
   ]
  },
  {
   "cell_type": "code",
   "execution_count": null,
   "metadata": {
    "colab": {
     "base_uri": "https://localhost:8080/",
     "height": 298
    },
    "colab_type": "code",
    "id": "Jk8rshL1L4-o",
    "outputId": "6af52f3c-5770-461b-8685-d47a2949e2e0"
   },
   "outputs": [],
   "source": [
    "#it's a drift scan so plot by right ascension\n",
    "plt.scatter(obs_summary.ra, obs_summary.avetsky, s=9)\n",
    "plt.title(f'Drift Scan Summary, Scan Date: {scan_date}')\n",
    "plt.xlabel('Right Ascension (deg)')\n",
    "plt.xticks(rotation=90)\n",
    "plt.ylabel('Average Sky Temp (K)')\n",
    "plt.grid()\n",
    "plt.gca().invert_xaxis()"
   ]
  },
  {
   "cell_type": "code",
   "execution_count": null,
   "metadata": {
    "colab": {},
    "colab_type": "code",
    "id": "Qj_5NUmzAHRY"
   },
   "outputs": [],
   "source": [
    "#this takes quite a bit of time on goolge, not so much when data is local\n",
    "\n",
    "#get all the spectral data from the drift scan\n",
    "spectra = lto.getDriftScan(obs_dir+ '/' +scan_date)"
   ]
  },
  {
   "cell_type": "code",
   "execution_count": null,
   "metadata": {
    "colab": {
     "base_uri": "https://localhost:8080/",
     "height": 309
    },
    "colab_type": "code",
    "id": "VoKmaHQZN4ya",
    "outputId": "ed46a831-58c5-4254-ab40-6498d3e6d4c3"
   },
   "outputs": [],
   "source": [
    "spectra.head()"
   ]
  },
  {
   "cell_type": "markdown",
   "metadata": {
    "colab_type": "text",
    "id": "PXVHVsfNmIGy"
   },
   "source": [
    "Yeilds a rather large data frame:"
   ]
  },
  {
   "cell_type": "code",
   "execution_count": null,
   "metadata": {
    "colab": {
     "base_uri": "https://localhost:8080/",
     "height": 34
    },
    "colab_type": "code",
    "id": "ZysVde6HaPYd",
    "outputId": "183113d1-35e0-412c-b006-249eeefa2c76"
   },
   "outputs": [],
   "source": [
    "len(spectra)"
   ]
  },
  {
   "cell_type": "markdown",
   "metadata": {
    "colab_type": "text",
    "id": "Xi8nU9z343fl"
   },
   "source": [
    "## Construct a Spectrogram"
   ]
  },
  {
   "cell_type": "markdown",
   "metadata": {
    "colab_type": "text",
    "id": "48wx1rwQcebb"
   },
   "source": [
    "The `spectra` data frame from above can be unweildy with 23 million rows, so the `getDriftScan` method provides a `dfclip` parameter to eliminate data at the far ends of the spectrum. If we clip the spectrum, the production of the spectrogram proceeds much faster, because the resulting data set is so much smaller."
   ]
  },
  {
   "cell_type": "code",
   "execution_count": null,
   "metadata": {
    "colab": {
     "base_uri": "https://localhost:8080/",
     "height": 34
    },
    "colab_type": "code",
    "id": "5b7nDYcKdQuA",
    "outputId": "94ec47f9-fb61-408c-fa5b-7546e99d4a00"
   },
   "outputs": [],
   "source": [
    "#clip to -300 kHz to 300 kHz\n",
    "spectra = lto.getDriftScan(obs_dir+ '/' +scan_date, dfclip=(0, 0.2e7))\n",
    "len(spectra)"
   ]
  },
  {
   "cell_type": "code",
   "execution_count": null,
   "metadata": {
    "colab": {
     "base_uri": "https://localhost:8080/",
     "height": 34
    },
    "colab_type": "code",
    "id": "kkSuY5nFN9DE",
    "outputId": "7ede7ead-78e8-4f29-cd66-461152d8b94d"
   },
   "outputs": [],
   "source": [
    "#make the temperature array dopfreq x time\n",
    "\n",
    "#sort the spectra data frame\n",
    "spectra.sort_values(['dopfreq', 'ts'], inplace=True)\n",
    "\n",
    "#get the y axis (dopler freq) values:\n",
    "dopfreqs = spectra.dopfreq.unique()\n",
    "\n",
    "# next, get the x-axis which is the time of the observations;\n",
    "obs_times = spectra.ts.unique()\n",
    "\n",
    "#make the temperature array\n",
    "skytemp = np.array(spectra.tsky).reshape(len(dopfreqs), len(obs_times))\n",
    "\n",
    "skytemp.shape"
   ]
  },
  {
   "cell_type": "code",
   "execution_count": 37,
   "metadata": {
    "colab": {},
    "colab_type": "code",
    "id": "Wi234ZkNfeHu"
   },
   "outputs": [],
   "source": [
    "#helper routine to beautify the time formating:\n",
    "import matplotlib.dates as mdates\n",
    "fmt = mdates.DateFormatter('%H:%M')\n",
    "\n",
    "#for the normalizer:\n",
    "import matplotlib.colors as colors\n",
    "\n"
   ]
  },
  {
   "cell_type": "code",
   "execution_count": null,
   "metadata": {
    "colab": {
     "base_uri": "https://localhost:8080/",
     "height": 425
    },
    "colab_type": "code",
    "id": "70J4Lv0g6FKS",
    "outputId": "6e7d085c-92ff-43e0-843c-084b14b2d5aa"
   },
   "outputs": [],
   "source": [
    "fig = plt.figure(figsize=(12,6))\n",
    "ax = fig.add_subplot()\n",
    "\n",
    "pcm = ax.pcolormesh(obs_times, dopfreqs, skytemp,cmap='gnuplot',\n",
    "                norm=colors.LogNorm())\n",
    "                   #norm=colors.PowerNorm(gamma=1./2.))\n",
    "fig.colorbar(pcm, label='Sky Temp (K)')\n",
    "\n",
    "plt.xlabel('Time (UT)')\n",
    "plt.gca().xaxis.set_major_formatter(fmt)\n",
    "plt.xticks(rotation=90)\n",
    "plt.ylabel('Dopler Shift (kHz)')\n",
    "plt.title(f'LTO Driftscan of {scan_date}',fontdict={'fontsize':16, 'fontweight':'bold'})\n",
    "plt.grid()"
   ]
  },
  {
   "cell_type": "code",
   "execution_count": null,
   "metadata": {},
   "outputs": [],
   "source": []
  }
 ],
 "metadata": {
  "colab": {
   "authorship_tag": "ABX9TyM9HsgylMuG26nM1JpKBHzH",
   "include_colab_link": true,
   "name": "lto_data.ipynb",
   "provenance": [],
   "toc_visible": true
  },
  "kernelspec": {
   "display_name": "Python 3",
   "language": "python",
   "name": "python3"
  },
  "language_info": {
   "codemirror_mode": {
    "name": "ipython",
    "version": 3
   },
   "file_extension": ".py",
   "mimetype": "text/x-python",
   "name": "python",
   "nbconvert_exporter": "python",
   "pygments_lexer": "ipython3",
   "version": "3.8.3"
  }
 },
 "nbformat": 4,
 "nbformat_minor": 4
}
