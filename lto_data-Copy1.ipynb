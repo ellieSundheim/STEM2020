{
 "cells": [
  {
   "cell_type": "markdown",
   "metadata": {
    "colab_type": "text",
    "id": "view-in-github"
   },
   "source": [
    "<a href=\"https://colab.research.google.com/github/kevinmcmanus/lto_utils/blob/master/lto_data.ipynb\" target=\"_parent\"><img src=\"https://colab.research.google.com/assets/colab-badge.svg\" alt=\"Open In Colab\"/></a>"
   ]
  },
  {
   "cell_type": "markdown",
   "metadata": {
    "colab_type": "text",
    "id": "Apn0zMs9QY2v"
   },
   "source": [
    "# LTO Utilities Library"
   ]
  },
  {
   "cell_type": "markdown",
   "metadata": {
    "colab_type": "text",
    "id": "bX344M-tQnQ4"
   },
   "source": [
    "The LTO Utilities library provides a set of useful functions for dealing with files output from the Little Thompson Observatory's radio telescope. These files, suffixed with '.lto' capture spectral information and the data processing pipeline produces them at approximately one-minute intervals throughout an observation.\n",
    "\n",
    "For the purposes of this demo, a 24-hour drift scan observation is available in Google Cloud Storage.  Having the data in GCS complicates this demo somewhat in that the Google Colab virtual machine that is running this notebook needs to mount the GCS as a preliminary step.\n",
    "The actual demonstration of obtaining and using the `lto_utils` library begins in the section entitled 'Clone the lto_utils' repo."
   ]
  },
  {
   "cell_type": "markdown",
   "metadata": {
    "colab_type": "text",
    "id": "8WapFl0zTWf-"
   },
   "source": [
    "## Preliminaries"
   ]
  },
  {
   "cell_type": "markdown",
   "metadata": {
    "colab_type": "text",
    "id": "YNxuMpwmB9ba"
   },
   "source": [
    "### References on Using Cloud Storage in Colab"
   ]
  },
  {
   "cell_type": "markdown",
   "metadata": {
    "colab_type": "text",
    "id": "K4CVm6sAuU1v"
   },
   "source": [
    "These articles explain how to make Google Cloud Storage availabale within a Google Colab notebook, such as this one.\n",
    "\n",
    "(https://medium.com/analytics-vidhya/how-to-access-files-from-google-cloud-storage-in-colab-notebooks-8edaf9e6c020)\n",
    "\n",
    "(https://stackoverflow.com/questions/51715268/how-to-import-data-from-google-cloud-storage-to-google-colab)\n",
    "\n",
    "(https://ostrokach.gitlab.io/post/google-colab-storage/)"
   ]
  },
  {
   "cell_type": "markdown",
   "metadata": {
    "colab_type": "text",
    "id": "CCYrwRu93ESO"
   },
   "source": [
    "### Authenticate and Mount GCS Bucket"
   ]
  },
  {
   "cell_type": "code",
   "execution_count": 1,
   "metadata": {
    "colab": {},
    "colab_type": "code",
    "id": "zmj1xAxhooC_"
   },
   "outputs": [],
   "source": [
    "#from google.colab import auth\n",
    "\n",
    "#auth.authenticate_user()"
   ]
  },
  {
   "cell_type": "code",
   "execution_count": 2,
   "metadata": {
    "colab": {
     "base_uri": "https://localhost:8080/",
     "height": 323
    },
    "colab_type": "code",
    "id": "gaybdAkUqRdK",
    "outputId": "dc8618ba-5784-4321-872b-9cdbdf710b04"
   },
   "outputs": [],
   "source": [
    "#!echo \"deb http://packages.cloud.google.com/apt gcsfuse-bionic main\" > /etc/apt/sources.list.d/gcsfuse.list\n",
    "#!curl https://packages.cloud.google.com/apt/doc/apt-key.gpg | apt-key add -\n",
    "#!apt -qq update\n",
    "#!apt -qq install gcsfuse"
   ]
  },
  {
   "cell_type": "code",
   "execution_count": 3,
   "metadata": {
    "colab": {
     "base_uri": "https://localhost:8080/",
     "height": 102
    },
    "colab_type": "code",
    "id": "kIp99n9w16jC",
    "outputId": "a7d8bfaf-610d-4fb3-afa4-598ccd7a84fc"
   },
   "outputs": [],
   "source": [
    "#Mount the drive\n",
    "#!mkdir lto_data\n",
    "#!gcsfuse --implicit-dirs --limit-bytes-per-sec -1 --limit-ops-per-sec -1 lto_data lto_data"
   ]
  },
  {
   "cell_type": "code",
   "execution_count": 4,
   "metadata": {
    "colab": {},
    "colab_type": "code",
    "id": "oDjKuzUQovOK"
   },
   "outputs": [],
   "source": [
    "#to mount your own google drive, do this:\n",
    "#from google.colab import drive\n",
    "#drive.mount('/content/drive')"
   ]
  },
  {
   "cell_type": "markdown",
   "metadata": {
    "colab_type": "text",
    "id": "uSS5amXO3kSA"
   },
   "source": [
    "## Clone the lto_utils Repo"
   ]
  },
  {
   "cell_type": "code",
   "execution_count": 5,
   "metadata": {
    "colab": {
     "base_uri": "https://localhost:8080/",
     "height": 34
    },
    "colab_type": "code",
    "id": "uDtC6puZv7KZ",
    "outputId": "32747637-e56a-4205-845e-bfe94f0cb490"
   },
   "outputs": [],
   "source": [
    "#!git clone https://github.com/kevinmcmanus/lto_utils"
   ]
  },
  {
   "cell_type": "code",
   "execution_count": 3,
   "metadata": {},
   "outputs": [],
   "source": [
    "import sys\n",
    "sys.path.append('lto_utils')"
   ]
  },
  {
   "cell_type": "code",
   "execution_count": 4,
   "metadata": {},
   "outputs": [],
   "source": [
    "from lto_utils.lto_file import LTO_File, getDriftScan, getSpectralCharacteristics, getLTOobs"
   ]
  },
  {
   "cell_type": "code",
   "execution_count": 5,
   "metadata": {
    "colab": {},
    "colab_type": "code",
    "id": "j_8kTKpxwjtJ"
   },
   "outputs": [],
   "source": [
    "import lto_utils.lto_file as lto"
   ]
  },
  {
   "cell_type": "code",
   "execution_count": 6,
   "metadata": {
    "colab": {},
    "colab_type": "code",
    "id": "e5axO4LHXGKX"
   },
   "outputs": [],
   "source": [
    "import numpy as np\n",
    "import pandas as pd\n",
    "import matplotlib.pyplot as plt\n",
    "%matplotlib inline\n",
    "\n",
    "import os"
   ]
  },
  {
   "cell_type": "markdown",
   "metadata": {
    "colab_type": "text",
    "id": "ILwzuvxr33Du"
   },
   "source": [
    "## Read Single LTO File and Examine its Contents"
   ]
  },
  {
   "cell_type": "code",
   "execution_count": 7,
   "metadata": {},
   "outputs": [],
   "source": [
    "obs_dir = r'C:\\Users\\Ellie\\Documents\\LTO Data' # dir where the observations live\n",
    "obs_date = '2020_08_08' # dir of the day's observations\n",
    "obs_file = 'LTO-SRGA-2020-08-08-04-00-09.lto' #a particular minute's observation"
   ]
  },
  {
   "cell_type": "code",
   "execution_count": 8,
   "metadata": {},
   "outputs": [
    {
     "name": "stdout",
     "output_type": "stream",
     "text": [
      "LTO File; Obs Time: 2020-08-08 04:00:09 UT, Az: 180.00, El: 26.90, RA: 18.14, Dec: -22.80, from file: C:\\Users\\Ellie\\Documents\\LTO Data\\2020_08_08\\LTO-SRGA-2020-08-08-04-00-09.lto\n"
     ]
    }
   ],
   "source": [
    "#create an LTO_File object and read its contents\n",
    "lto_file = LTO_File(os.path.join(obs_dir, obs_date, obs_file))\n",
    "print(lto_file)"
   ]
  },
  {
   "cell_type": "code",
   "execution_count": 9,
   "metadata": {
    "colab": {},
    "colab_type": "code",
    "id": "Pt8V5ZXxyROo"
   },
   "outputs": [],
   "source": [
    "#set the path to the object\n",
    "#path = 'lto_data/2018_09_02/LTO-HI-2018-09-02-17-41-53.lto'\n",
    "\n",
    "#simple peaks\n",
    "#path = r'C:\\Users\\Ellie\\Documents\\LTO Data\\2020_08_10\\LTO-SRGA-2020-08-10-03-23-30.lto'\n",
    "#path = r'C:\\Users\\Ellie\\Documents\\LTO Data\\2020_08_08\\LTO-SRGA-2020-08-08-04-00-09.lto'\n",
    "#path = r'C:\\Users\\Ellie\\Documents\\LTO Data\\2020_08_11\\LTO-SRGA-2020-08-11-04-09-41.lto'\n",
    "#path = r'C:\\Users\\Ellie\\Documents\\LTO Data\\2020_08_10\\LTO-SRGA-2020-08-10-03-42-05.lto'\n",
    "\n",
    "#multi-peak\n",
    "#path = r'C:\\Users\\Ellie\\Documents\\LTO Data\\2020_08_11\\LTO-SRGA-2020-08-11-03-57-38.lto'\n",
    "\n",
    "#create an LTO_File object\n",
    "#lto_file = lto.LTO_File(path)\n"
   ]
  },
  {
   "cell_type": "markdown",
   "metadata": {
    "colab_type": "text",
    "id": "b9jb-__ZUvEc"
   },
   "source": [
    "`lto_file` object contains two attributes: `SpectralHeader` and `SpectralData`. Both are large data structures. The `SpectralHeader` has several subsections which are:"
   ]
  },
  {
   "cell_type": "code",
   "execution_count": 10,
   "metadata": {
    "colab": {
     "base_uri": "https://localhost:8080/",
     "height": 54
    },
    "colab_type": "code",
    "id": "MprZi3yXU5MX",
    "outputId": "5ed6a70d-9501-4a1a-d623-2c74b9b4f681"
   },
   "outputs": [
    {
     "data": {
      "text/plain": [
       "dict_keys(['Magic', 'Observatory', 'ObsLocation', 'BeamPosition', 'ObsTime', 'Spectrum', 'RadioCalibrations', 'ProgramControl', 'SpectralCharacteristics'])"
      ]
     },
     "execution_count": 10,
     "metadata": {},
     "output_type": "execute_result"
    }
   ],
   "source": [
    "lto_file.SpectralHeader.keys()"
   ]
  },
  {
   "cell_type": "markdown",
   "metadata": {
    "colab_type": "text",
    "id": "NvVLpWOi4Y6y"
   },
   "source": [
    " \n",
    "The subsection `SpectralCharacteristics`  contains summary information of the file. \n",
    " This subsection is particularly useful."
   ]
  },
  {
   "cell_type": "code",
   "execution_count": 11,
   "metadata": {
    "colab": {
     "base_uri": "https://localhost:8080/",
     "height": 459
    },
    "colab_type": "code",
    "id": "mjADjPid4KyQ",
    "outputId": "902f6229-40d1-49d6-9b6f-8d8495f53ad7"
   },
   "outputs": [
    {
     "data": {
      "text/plain": [
       "{'avespecpwr': 1.5699364579791337e-21,\n",
       " 'varspecpwr': 5.5441484165842995e-45,\n",
       " 'totalpwr': 1.9697992738264265e-17,\n",
       " 'numspecpwr': 12547,\n",
       " 'numave': 26194,\n",
       " 'numbad': 30,\n",
       " 'aveindvpwr': 0.0018543391488492489,\n",
       " 'varindvpwr': 2.781506414084589e-10,\n",
       " 'peakpwr': 2.0488512524921235e-21,\n",
       " 'peakpwrfreq': 1420353200.1875,\n",
       " 'totalHIpwr': 1.240280779379532e-18,\n",
       " 'numHIpwr': 674,\n",
       " 'avecrpwr': 1.5545954652475982e-21,\n",
       " 'varcrpwr': 2.9018323901667385e-46,\n",
       " 'numcrpwr': 11873,\n",
       " 'avetsky': 112.59893035888672,\n",
       " 'vartsky': 1.5223203767750109,\n",
       " 'peaktsky': 148.3977437278623,\n",
       " 'peaktskyfreq': 1420353200.1875,\n",
       " 'avefluxden': 23087.30020505299,\n",
       " 'varfluxden': 1198993.9912061286,\n",
       " 'peakfluxden': 30130.164632696993,\n",
       " 'peakfluxfreq': 1420353200.1875,\n",
       " 'badspec': False,\n",
       " 'processing': 'Raw FFT',\n",
       " 'user': ''}"
      ]
     },
     "execution_count": 11,
     "metadata": {},
     "output_type": "execute_result"
    }
   ],
   "source": [
    "lto_file.SpectralHeader['SpectralCharacteristics']"
   ]
  },
  {
   "cell_type": "markdown",
   "metadata": {
    "colab_type": "text",
    "id": "43Pz-YXr5C-w"
   },
   "source": [
    "`SpectralData` is a  dictionary which essentially captures the spectrum and some other frequency-dependent measures.  Each dictionary element is a vector of length `nfft`."
   ]
  },
  {
   "cell_type": "code",
   "execution_count": 12,
   "metadata": {
    "colab": {
     "base_uri": "https://localhost:8080/",
     "height": 54
    },
    "colab_type": "code",
    "id": "bnoZVWAjVX7_",
    "outputId": "fc2c1343-e264-4fa2-c7c7-aa88531facc5"
   },
   "outputs": [
    {
     "data": {
      "text/plain": [
       "dict_keys(['dopfreq', 'rawavepwr', 'rawvarpwr', 'calavepwr', 'flatten', 'tsky', 'fluxden', 'badline', 'HIline'])"
      ]
     },
     "execution_count": 12,
     "metadata": {},
     "output_type": "execute_result"
    }
   ],
   "source": [
    "lto_file.SpectralData.keys()"
   ]
  },
  {
   "cell_type": "code",
   "execution_count": 13,
   "metadata": {
    "colab": {
     "base_uri": "https://localhost:8080/",
     "height": 34
    },
    "colab_type": "code",
    "id": "gt-TWlxmVwux",
    "outputId": "c374088b-c589-4523-fdfc-86de1da943d8"
   },
   "outputs": [
    {
     "data": {
      "text/plain": [
       "(numpy.ndarray, 'Length: 16385')"
      ]
     },
     "execution_count": 13,
     "metadata": {},
     "output_type": "execute_result"
    }
   ],
   "source": [
    "#type and length of the tsky member of the dictionary\n",
    "n = len(lto_file.SpectralData['tsky'])\n",
    "type(lto_file.SpectralData['tsky']), f'Length: {n}'"
   ]
  },
  {
   "cell_type": "code",
   "execution_count": 14,
   "metadata": {
    "colab": {
     "base_uri": "https://localhost:8080/",
     "height": 295
    },
    "colab_type": "code",
    "id": "SxoumHmr5Xqu",
    "outputId": "18772bb2-9ed4-4295-e627-1644f47657bb"
   },
   "outputs": [
    {
     "data": {
      "image/png": "[encoded data removed]",
      "text/plain": [
       "<Figure size 432x288 with 1 Axes>"
      ]
     },
     "metadata": {
      "needs_background": "light"
     },
     "output_type": "display_data"
    }
   ],
   "source": [
    "plt.plot(lto_file.SpectralData['dopfreq'], lto_file.SpectralData['tsky'], label = 'first line')\n",
    "#plt.plot(lto_file.SpectralData['dopfreq'], lto_file.SpectralData['tsky']*1.1, label = 'second line')\n",
    "plt.xlim(0, 2000000)\n",
    "plt.ylim(100, 200)\n",
    "plt.xlabel('Dopler Frequency')\n",
    "plt.ylabel('Calibrated Power')\n",
    "plt.legend()\n",
    "zz=plt.title('Spectrum at '+lto_file.get_time().strftime('%Y-%m-%d %H:%M:%S %z'))"
   ]
  },
  {
   "cell_type": "markdown",
   "metadata": {
    "colab_type": "text",
    "id": "Y2062dJL8TP0"
   },
   "source": [
    "Sometimes it's easier to work with a `Pandas` dataframe. The `LTO_File` class provides a method to do so."
   ]
  },
  {
   "cell_type": "code",
   "execution_count": 15,
   "metadata": {
    "colab": {
     "base_uri": "https://localhost:8080/",
     "height": 309
    },
    "colab_type": "code",
    "id": "q0qXAPf78f1M",
    "outputId": "0a95d99b-b087-4630-e405-e34a6033eed5"
   },
   "outputs": [
    {
     "name": "stdout",
     "output_type": "stream",
     "text": [
      "16385\n"
     ]
    },
    {
     "data": {
      "text/html": [
       "<div>\n",
       "<style scoped>\n",
       "    .dataframe tbody tr th:only-of-type {\n",
       "        vertical-align: middle;\n",
       "    }\n",
       "\n",
       "    .dataframe tbody tr th {\n",
       "        vertical-align: top;\n",
       "    }\n",
       "\n",
       "    .dataframe thead th {\n",
       "        text-align: right;\n",
       "    }\n",
       "</style>\n",
       "<table border=\"1\" class=\"dataframe\">\n",
       "  <thead>\n",
       "    <tr style=\"text-align: right;\">\n",
       "      <th></th>\n",
       "      <th>ts</th>\n",
       "      <th>ra</th>\n",
       "      <th>dec</th>\n",
       "      <th>dopfreq</th>\n",
       "      <th>rawavepwr</th>\n",
       "      <th>rawvarpwr</th>\n",
       "      <th>calavepwr</th>\n",
       "      <th>flatten</th>\n",
       "      <th>tsky</th>\n",
       "      <th>fluxden</th>\n",
       "      <th>badline</th>\n",
       "      <th>HIline</th>\n",
       "    </tr>\n",
       "  </thead>\n",
       "  <tbody>\n",
       "    <tr>\n",
       "      <th>0</th>\n",
       "      <td>2020-08-08 04:00:09+00:00</td>\n",
       "      <td>18.143484</td>\n",
       "      <td>-22.800467</td>\n",
       "      <td>-5000000.0</td>\n",
       "      <td>0.001854</td>\n",
       "      <td>2.781506e-10</td>\n",
       "      <td>1.555289e-21</td>\n",
       "      <td>0.000000</td>\n",
       "      <td>112.649139</td>\n",
       "      <td>22871.892578</td>\n",
       "      <td>True</td>\n",
       "      <td>False</td>\n",
       "    </tr>\n",
       "    <tr>\n",
       "      <th>1</th>\n",
       "      <td>2020-08-08 04:00:09+00:00</td>\n",
       "      <td>18.143484</td>\n",
       "      <td>-22.800467</td>\n",
       "      <td>-4999389.5</td>\n",
       "      <td>0.001854</td>\n",
       "      <td>2.781506e-10</td>\n",
       "      <td>1.555289e-21</td>\n",
       "      <td>0.000000</td>\n",
       "      <td>112.649139</td>\n",
       "      <td>22871.892578</td>\n",
       "      <td>True</td>\n",
       "      <td>False</td>\n",
       "    </tr>\n",
       "    <tr>\n",
       "      <th>2</th>\n",
       "      <td>2020-08-08 04:00:09+00:00</td>\n",
       "      <td>18.143484</td>\n",
       "      <td>-22.800467</td>\n",
       "      <td>-4998779.5</td>\n",
       "      <td>0.133708</td>\n",
       "      <td>1.811095e-02</td>\n",
       "      <td>2.301496e-20</td>\n",
       "      <td>44.365669</td>\n",
       "      <td>1666.967285</td>\n",
       "      <td>338455.281250</td>\n",
       "      <td>True</td>\n",
       "      <td>False</td>\n",
       "    </tr>\n",
       "    <tr>\n",
       "      <th>3</th>\n",
       "      <td>2020-08-08 04:00:09+00:00</td>\n",
       "      <td>18.143484</td>\n",
       "      <td>-22.800467</td>\n",
       "      <td>-4998169.0</td>\n",
       "      <td>0.072769</td>\n",
       "      <td>5.244108e-03</td>\n",
       "      <td>3.436105e-20</td>\n",
       "      <td>24.306440</td>\n",
       "      <td>2488.761963</td>\n",
       "      <td>505309.625000</td>\n",
       "      <td>True</td>\n",
       "      <td>False</td>\n",
       "    </tr>\n",
       "    <tr>\n",
       "      <th>4</th>\n",
       "      <td>2020-08-08 04:00:09+00:00</td>\n",
       "      <td>18.143484</td>\n",
       "      <td>-22.800467</td>\n",
       "      <td>-4997558.5</td>\n",
       "      <td>0.050382</td>\n",
       "      <td>2.488594e-03</td>\n",
       "      <td>3.858800e-20</td>\n",
       "      <td>16.588919</td>\n",
       "      <td>2794.918213</td>\n",
       "      <td>567470.562500</td>\n",
       "      <td>True</td>\n",
       "      <td>False</td>\n",
       "    </tr>\n",
       "  </tbody>\n",
       "</table>\n",
       "</div>"
      ],
      "text/plain": [
       "                         ts         ra        dec    dopfreq  rawavepwr  \\\n",
       "0 2020-08-08 04:00:09+00:00  18.143484 -22.800467 -5000000.0   0.001854   \n",
       "1 2020-08-08 04:00:09+00:00  18.143484 -22.800467 -4999389.5   0.001854   \n",
       "2 2020-08-08 04:00:09+00:00  18.143484 -22.800467 -4998779.5   0.133708   \n",
       "3 2020-08-08 04:00:09+00:00  18.143484 -22.800467 -4998169.0   0.072769   \n",
       "4 2020-08-08 04:00:09+00:00  18.143484 -22.800467 -4997558.5   0.050382   \n",
       "\n",
       "      rawvarpwr     calavepwr    flatten         tsky        fluxden  badline  \\\n",
       "0  2.781506e-10  1.555289e-21   0.000000   112.649139   22871.892578     True   \n",
       "1  2.781506e-10  1.555289e-21   0.000000   112.649139   22871.892578     True   \n",
       "2  1.811095e-02  2.301496e-20  44.365669  1666.967285  338455.281250     True   \n",
       "3  5.244108e-03  3.436105e-20  24.306440  2488.761963  505309.625000     True   \n",
       "4  2.488594e-03  3.858800e-20  16.588919  2794.918213  567470.562500     True   \n",
       "\n",
       "   HIline  \n",
       "0   False  \n",
       "1   False  \n",
       "2   False  \n",
       "3   False  \n",
       "4   False  "
      ]
     },
     "execution_count": 15,
     "metadata": {},
     "output_type": "execute_result"
    }
   ],
   "source": [
    "import pandas as pd\n",
    "pd_df = lto_file.to_pandas()\n",
    "print(len(pd_df))\n",
    "pd_df.head()"
   ]
  },
  {
   "cell_type": "code",
   "execution_count": 16,
   "metadata": {},
   "outputs": [],
   "source": [
    "#testing locating variables of interest\n",
    "#only want rows where HI line = true b/c no need to look for peaks elsewhere\n",
    "\n",
    "#print(pd_df.loc[pd_df['HIline'] == True])"
   ]
  },
  {
   "cell_type": "code",
   "execution_count": 17,
   "metadata": {},
   "outputs": [],
   "source": [
    "#smoothing slope to help get locate only true peaks\n",
    "\n",
    "def smoothPascal(dataframe, centerIndex, column):\n",
    "    pascalArray = np.array([1,6,15,20,15,6,1])\n",
    "    #print(pascalArray)\n",
    "    sum = 0\n",
    "    for i in range(-3, 3):\n",
    "        sum += (dataframe.at[(centerIndex + i), column]) * (pascalArray[3 + i])\n",
    "        #print(sum)\n",
    "        \n",
    "    final = sum/64.0\n",
    "   # if final < 0.2 and final > -0.2:\n",
    "       # final = 0.0\n",
    "        \n",
    "    return final\n",
    "        \n",
    "    "
   ]
  },
  {
   "cell_type": "code",
   "execution_count": 18,
   "metadata": {},
   "outputs": [],
   "source": [
    "#for index in range (9526, 10840):\n",
    "def findPeaksValleys(df):\n",
    "    \n",
    "    peakList, valleyList = [], []\n",
    "    \n",
    "    for index in range(2, len(df)-3):\n",
    "\n",
    "        if (df.loc[index, 'HIline']):\n",
    "            \n",
    "            #calculate slope for each point\n",
    "            slope = (df['tsky'][index + 1] - df['tsky'][index] ) / (df['dopfreq'][index + 1] - df['dopfreq'][index])\n",
    "            df.at[index, 'slope'] = slope * 10000\n",
    "           # print(pd_df.loc[index, ['tsky', 'dopfreq', 'slope']])\n",
    "        \n",
    "            #apply smoothing algorithm to slopes\n",
    "            smoothSlope = smoothPascal(df, index, 'slope')\n",
    "            df.at[index, 'smooth_slope'] = smoothSlope\n",
    "            #print(pd_df.loc[index, ['tsky', 'HIline', 'slope', 'smooth_slope']])\n",
    "\n",
    "            #use slope to identify peaks/valleys \n",
    "            #lastSlopeDiff = (pd_df.at[index-2, 'smooth_slope'] - pd_df.at[index -1, 'smooth_slope'])\n",
    "            #nextSlopeDiff = (pd_df.at[index+2, 'smooth_slope'] - pd_df.at[index +1, 'smooth_slope'])\n",
    "            #nextSlope= pd_df.at[index+1, 'smooth_slope']\n",
    "\n",
    "            #between neg slope increasing and pos slope decreasing and close to zero (one ish)\n",
    "            #slopes before are decreasing in magnitude and after are increasing\n",
    "            #magDecrease = abs(pd_df.at[index -2, 'smooth_slope']) > abs(pd_df.at[index -1, 'smooth_slope']) and abs(pd_df.at[index -1, 'smooth_slope']) > abs(pd_df.at[index, 'smooth_slope'])\n",
    "            #magIncrease = abs(pd_df.at[index +2,'smooth_slope']) > abs(pd_df.at[index +1, 'smooth_slope']) and abs(pd_df.at[index +1, 'smooth_slope']) > abs(pd_df.at[index, 'smooth_slope'])\n",
    "\n",
    "            #boolean for index is highest/lowest in neighborhood\n",
    "            maxRange = 45\n",
    "            isMax = max(df.loc[index - maxRange: index + maxRange, 'tsky']) == df.at[index, 'tsky']\n",
    "            isMin = min(df.loc[index - maxRange: index + maxRange, 'tsky']) == df.at[index, 'tsky']\n",
    "\n",
    "            df.at[index, 'isPeak'] = False\n",
    "            df.at[index, 'isValley'] = False\n",
    "\n",
    "            slopeThreshold = 0.3\n",
    "            \n",
    "            #if abs(smoothSlope) < slopeThreshold and lastSlopeDiff > 0 and nextSlopeDiff < 0 and isMax:\n",
    "            #if abs(smoothSlope) < 1 and magDecrease == True and magIncrease == True and isMax :\n",
    "            if isMax:\n",
    "                df.at[index, 'isPeak'] = True\n",
    "                #peaklist.extend(df.loc[index, ['ts', 'ra', 'dec', 'dopfreq', 'tsky']])\n",
    "                peakList.append(index)\n",
    "\n",
    "            #elif abs(smoothSlope) < slopeThreshold and lastSlopeDiff < 0 and nextSlopeDiff > 0 and isMin:\n",
    "            #elif abs(smoothSlope) < 1 and magDecrease == True and magIncrease == True and isMin:\n",
    "            if isMin:\n",
    "                df.at[index, 'isValley'] = True\n",
    "                valleyList.append(index)\n",
    "\n",
    "            #print all rows where peak or valley == true\n",
    "    #print(df.loc[df['isPeak'] == True])\n",
    "    #print(df.loc[df['isValley'] == True])\n",
    "            \n",
    "    #print(peakList)\n",
    "    #print(valleyList)\n",
    "    return [peakList, valleyList]"
   ]
  },
  {
   "cell_type": "code",
   "execution_count": 19,
   "metadata": {},
   "outputs": [],
   "source": [
    "def getAbsorbDepth(df):\n",
    "    \n",
    "    #returns lists with indexes of peaks and valleys in dataframe\n",
    "    peaks, valleys = findPeaksValleys(df)\n",
    "    depthsList = []\n",
    "    \n",
    "    for peakListIndex, peak in enumerate(peaks):\n",
    "        if peakListIndex >= len(peaks) -1: break\n",
    "        \n",
    "          #------------------------how to ensure len(valleys) < len(peaks)????----------------------\n",
    "        for valley in valleys:\n",
    "            if peak < valley and peaks[peakListIndex + 1] > valley:\n",
    "                \n",
    "                x1 = df.at[peak, 'dopfreq']\n",
    "                y1 = df.at[peak, 'tsky']\n",
    "                x = df.at[peaks[peakListIndex +1], 'dopfreq']\n",
    "                y = df.at[peaks[peakListIndex+1], 'tsky']\n",
    "              \n",
    "                xValley = df.at[valley, 'dopfreq']\n",
    "                yValley = df.at[valley, 'tsky']\n",
    "\n",
    "                #connect the peaks to get estimate of power at valley location\n",
    "                m = (y - y1)/(x - x1)\n",
    "                estimatedPower = (m * (xValley - x1)) + y1\n",
    "                absorptionDepth = estimatedPower - yValley\n",
    "                print(absorptionDepth)\n",
    "                dictEntry = {'ra': df.at[valley, 'ra'], 'dec': df.at[valley, 'dec'], 'abDep': absorptionDepth, 'dopfreq': df.at[valley, 'dopfreq'] }\n",
    "                depthsList.append(dictEntry)\n",
    "            #if absoption Depth is negative, ??????????? set to 0???\n",
    "            else:\n",
    "                continue\n",
    "                \n",
    "       \n",
    "        \n",
    "    return depthsList\n"
   ]
  },
  {
   "cell_type": "code",
   "execution_count": 20,
   "metadata": {},
   "outputs": [
    {
     "name": "stdout",
     "output_type": "stream",
     "text": [
      "17.188142177781316\n"
     ]
    },
    {
     "data": {
      "text/plain": [
       "[{'ra': 18.143484115600586,\n",
       "  'dec': -22.800466537475586,\n",
       "  'abDep': 17.188142177781316,\n",
       "  'dopfreq': 932006.8125}]"
      ]
     },
     "execution_count": 20,
     "metadata": {},
     "output_type": "execute_result"
    }
   ],
   "source": [
    "getAbsorbDepth(pd_df)"
   ]
  },
  {
   "cell_type": "markdown",
   "metadata": {
    "colab_type": "text",
    "id": "STtpmcnaXp6w"
   },
   "source": [
    "**TODO:** check out the ra and dec columns above"
   ]
  },
  {
   "cell_type": "code",
   "execution_count": 21,
   "metadata": {},
   "outputs": [
    {
     "data": {
      "image/png": "[encoded data removed]",
      "text/plain": [
       "<Figure size 432x288 with 1 Axes>"
      ]
     },
     "metadata": {
      "needs_background": "light"
     },
     "output_type": "display_data"
    }
   ],
   "source": [
    "#reprint spectra with peaks/valleys shown\n",
    "plt.plot(lto_file.SpectralData['dopfreq'], lto_file.SpectralData['tsky'], label = 'Temp')\n",
    "plt.plot(lto_file.SpectralData['dopfreq'], lto_file.SpectralData['HIline']*125, label = 'HI')\n",
    "for point in range(len(pd_df)-1):\n",
    "    if (pd_df.at[point, 'HIline']) and (pd_df.at[point, 'isPeak'] or pd_df.at[point, 'isValley']):\n",
    "        plt.scatter(pd_df.at[point, 'dopfreq'], pd_df.at[point, 'tsky'], 50)\n",
    "plt.xlim(0, 2000000)\n",
    "plt.ylim(100, 200)\n",
    "plt.xlabel('Dopler Frequency')\n",
    "plt.ylabel('Calibrated Power')\n",
    "plt.legend()\n",
    "zz=plt.title('Spectrum at '+lto_file.get_time().strftime('%Y-%m-%d %H:%M:%S %z'))"
   ]
  },
  {
   "cell_type": "code",
   "execution_count": 26,
   "metadata": {},
   "outputs": [],
   "source": [
    "def writeLTOEfile(obs_date, ra, dec, absDepth, dopFreq):\n",
    "    name = obs_date + \".ltoe\"\n",
    "    fw= open(name, 'a')\n",
    "    if fw.mode != 'a':\n",
    "        print(\"Error: could not open file to append \\n\")\n",
    "        exit()\n",
    "    else:\n",
    "        fw.write(     str(ra * (360.0/24)))\n",
    "        fw.write(' ' + str(dec))\n",
    "        fw.write(' ' + '0.0')\n",
    "        fw.write(' ' + '0.0')\n",
    "        fw.write(' ' + str(absDepth))\n",
    "        fw.write(' ' + '1')\n",
    "        fw.write(' ' + str(dopFreq))\n",
    "        fw.write(' ' + '0.0')\n",
    "        fw.write('\\r\\n')\n",
    "        fw.close()"
   ]
  },
  {
   "cell_type": "code",
   "execution_count": 27,
   "metadata": {},
   "outputs": [],
   "source": [
    "def absDepthforEntireDay(obs_dir, obs_date):\n",
    "    dayLongList = []\n",
    "    for i, lto in enumerate(getLTOobs(os.path.join(obs_dir, obs_date))):\n",
    "    #for i, lto in enumerate(getLTOobs(r'C:\\Users\\Ellie\\Documents\\LTO Data\\2020_08_10')):\n",
    "\n",
    "        #if i <= 170 or i >= 200:\n",
    "            #continue\n",
    "\n",
    "        pd_df = lto.to_pandas()\n",
    "        dayLongList += (getAbsorbDepth(pd_df))\n",
    "        #print(getAbsorbDepth(pd_df))\n",
    "        #print (dayLongList)\n",
    "    print(\"Got dictionaries for all spectra\")\n",
    "    Xaxis = []\n",
    "    Yaxis = []\n",
    "    colormap = []\n",
    "\n",
    "    for d in dayLongList:\n",
    "        Xaxis.append( d['ra'])\n",
    "        #print(Xaxis)\n",
    "        Yaxis.append(d['dec'])\n",
    "        colormap.append(d['abDep'])\n",
    "        writeLTOEfile(obs_date, d['ra'], d['dec'], d['abDep'], d['dopfreq'])\n",
    "    \n",
    "    \n",
    "    return Xaxis, Yaxis, colormap"
   ]
  },
  {
   "cell_type": "code",
   "execution_count": 36,
   "metadata": {},
   "outputs": [
    {
     "name": "stdout",
     "output_type": "stream",
     "text": [
      "7.457231817673659\n",
      "7.839544367382814\n",
      "9.30889444664328\n",
      "9.174480252436098\n",
      "8.60976562635338\n",
      "5.794439312975442\n",
      "10.010836910381755\n",
      "5.629711938324306\n",
      "9.848067971274531\n",
      "8.513442058719363\n",
      "10.052677716290617\n",
      "9.875964709296994\n",
      "10.46465237854423\n",
      "6.187614637106719\n",
      "8.028120545984848\n",
      "10.126732990664607\n",
      "1.0521560109838646\n",
      "8.652093243919609\n",
      "10.635371861730704\n",
      "1.1759733751902104\n",
      "5.061161044520105\n",
      "9.375106112565106\n",
      "10.027801833287242\n",
      "6.170649908285213\n",
      "8.47395147377108\n",
      "9.860603754964615\n",
      "9.533865130230282\n",
      "21.51019893383733\n",
      "6.840411513276365\n",
      "9.216217412543415\n",
      "9.334654354239149\n",
      "21.025632443213652\n",
      "6.734195147054237\n",
      "9.195530706956504\n",
      "8.629084634862323\n",
      "8.923799813538153\n",
      "19.04130109732938\n",
      "9.29531970443989\n",
      "9.134796142578125\n",
      "8.648699239678734\n",
      "18.658765580722815\n",
      "8.461224967382805\n",
      "8.595411959494214\n",
      "18.672543931698698\n",
      "7.252608333112136\n",
      "8.787886098725494\n",
      "7.830329909557804\n",
      "8.280295844025886\n",
      "17.105082210865817\n",
      "7.081902785905754\n",
      "7.101845938776307\n",
      "7.693482513478045\n",
      "16.244192275548755\n",
      "8.709580183345508\n",
      "6.606909414244683\n",
      "7.856232050617223\n",
      "15.865907190687267\n",
      "7.611845374683583\n",
      "8.80997944886684\n",
      "5.967209100919433\n",
      "7.782177734375011\n",
      "14.681073835691649\n",
      "8.10326676766968\n",
      "7.793747561506791\n",
      "5.315959053666745\n",
      "5.862078116701895\n",
      "7.4193725137041895\n",
      "14.045789848691896\n",
      "4.454986841644313\n",
      "5.2451729822041955\n",
      "7.325496276968437\n",
      "13.011923878012993\n",
      "6.686330680953432\n",
      "2.7353602474292984\n",
      "5.347538872049483\n",
      "7.12650604217913\n",
      "12.322185566089416\n",
      "2.078189005174181\n",
      "4.87575641713039\n",
      "7.273193340752016\n",
      "12.096196889651253\n",
      "5.972434366267549\n",
      "4.705662824105531\n",
      "3.176441923718585\n",
      "4.646077031674594\n",
      "7.60539970433328\n",
      "11.322150778226899\n",
      "6.106314786496341\n",
      "2.038527149583331\n",
      "4.569068857507688\n",
      "7.208914998964701\n",
      "9.893085107328488\n",
      "2.2732433843682998\n",
      "3.815099653780976\n",
      "6.93483535611503\n",
      "9.905550667286661\n",
      "4.672750944289163\n",
      "2.735272487968757\n",
      "4.987794871556957\n",
      "7.077161219213735\n",
      "4.342222167701493\n",
      "1.9493508748158206\n",
      "1.0871111480384172\n",
      "4.734903365703445\n",
      "7.413646779982429\n",
      "12.928804419131183\n",
      "8.990283903408823\n",
      "3.1318511787722514\n",
      "2.311107701603021\n",
      "2.456424454700226\n",
      "4.29800588071987\n",
      "7.71368408203125\n",
      "9.134107076612935\n",
      "3.2127153687974044\n",
      "2.568246368347843\n",
      "5.1343305669229835\n",
      "7.060726624986984\n",
      "8.245782246343111\n",
      "2.4273860275201855\n",
      "2.969228234869746\n",
      "5.162655419546979\n",
      "8.170921896235285\n",
      "8.666617441668194\n",
      "1.709645872727151\n",
      "2.993296930492562\n",
      "6.157091872786594\n",
      "7.773005235522078\n",
      "5.6214443992550684\n",
      "2.39905991268472\n",
      "2.689469145796892\n",
      "6.661985784689023\n",
      "7.850709798677428\n",
      "5.738848346508519\n",
      "2.5963037785053587\n",
      "6.895268984984654\n",
      "9.18899406076298\n",
      "7.401958207106276\n",
      "1.977249386106564\n",
      "6.873507078643428\n",
      "9.409700247693166\n",
      "6.552091761455131\n",
      "2.4632207001336326\n",
      "8.117702728454589\n",
      "10.204528597784133\n",
      "2.997109731038421\n",
      "1.909723406129416\n",
      "8.305341367368356\n",
      "11.111479641194762\n",
      "7.974687968827993\n",
      "1.9416844236161523\n",
      "8.89037557805338\n",
      "11.290718822493659\n",
      "9.528001224563042\n",
      "1.2796305280660079\n",
      "2.083493582133002\n",
      "8.038037167195654\n",
      "12.126176427162562\n",
      "1.803314834692685\n",
      "7.0873629980298745\n",
      "12.543619922476296\n",
      "1.4141791268254167\n",
      "8.097258668152648\n",
      "12.872735291151798\n",
      "1.223523617461467\n",
      "1.5850138858749006\n",
      "9.144747846805785\n",
      "13.28090021945269\n",
      "1.4184376514264159\n",
      "1.6708700011957944\n",
      "8.133929102332786\n",
      "13.228329963493678\n",
      "0.8711609036519405\n",
      "1.4826901349977675\n",
      "9.723090499123629\n",
      "14.757657746537035\n",
      "1.4053891487122883\n",
      "1.06222327756862\n",
      "8.630266389020647\n",
      "14.67590311097905\n",
      "1.242071179822858\n",
      "1.2308759526367226\n",
      "0.9516377713044903\n",
      "9.803614371404308\n",
      "13.9866152679935\n",
      "6.709055500654102\n",
      "14.856005245012227\n",
      "1.0684366614590033\n",
      "5.171602656436363\n",
      "14.07730134562101\n",
      "7.457821294470222\n",
      "15.167541942245578\n",
      "14.336392956771817\n",
      "14.788750373149867\n",
      "7.3909960469084695\n",
      "13.982903280308989\n",
      "13.777728651257547\n",
      "14.270702478440512\n",
      "13.60370411001415\n",
      "12.213616766656116\n",
      "12.241608315591407\n",
      "11.192221960050091\n",
      "10.196834615751726\n",
      "8.91271017558293\n",
      "8.968542150944103\n",
      "7.579714870723876\n",
      "7.000799826414294\n",
      "6.190260399904446\n",
      "7.464770862250987\n",
      "7.93903979783525\n",
      "5.899652418849655\n",
      "3.0222306863356323\n",
      "8.121680978442384\n",
      "9.671477311489326\n",
      "8.993465601348731\n",
      "7.21441019292115\n",
      "7.387745542275525\n",
      "6.800878837693858\n",
      "7.416656260304308\n",
      "6.050064521220833\n",
      "1.4966521706690088\n",
      "0.8954235931737173\n",
      "Got dictionaries for all spectra\n"
     ]
    }
   ],
   "source": [
    "#looping through all dates in LTO DATA (i.e. my entire dataset)\n",
    "i = 8\n",
    "while i <= 31:\n",
    "    if i < 10:\n",
    "        day = \"2020_08_0\" + str(i)\n",
    "    else:\n",
    "        day = \"2020_08_\" + str(i)\n",
    "        \n",
    "    absDepthforEntireDay(r'C:\\Users\\Ellie\\Documents\\LTO Data', day)\n",
    "    i += 1"
   ]
  },
  {
   "cell_type": "code",
   "execution_count": null,
   "metadata": {},
   "outputs": [],
   "source": [
    "plt.plot(Xaxis, colormap, label = 'absorption')\n",
    "plt.axhline(y = 0)\n",
    "plt.xlabel('RA')\n",
    "plt.ylabel('abDepth')\n",
    "plt.xlim(10, 20)\n",
    "plt.ylim(-5, 50)\n",
    "#plt.title('Absoption Depth', fontdict={'fontsize':16, 'fontweight':'bold'})\n",
    "plt.grid()\n",
    "plt.show()"
   ]
  },
  {
   "cell_type": "markdown",
   "metadata": {
    "colab_type": "text",
    "id": "zt4aWskA9R1L"
   },
   "source": [
    "##Read All LTO Files in a Directory"
   ]
  },
  {
   "cell_type": "markdown",
   "metadata": {
    "colab_type": "text",
    "id": "vBJrSmwdYLhN"
   },
   "source": [
    "`lto_utils` provides functionality to read all `.lto` in a directory. This can useful in summarizing an observing session, such as a drift scan.\n",
    "\n",
    "**Caution:** the methods below will read **all** `.lto` files in the specified directory, so if there are files with duplicate content or `.lto` files from other observing sessions, such files will contaminate the results."
   ]
  },
  {
   "cell_type": "code",
   "execution_count": null,
   "metadata": {
    "colab": {
     "base_uri": "https://localhost:8080/",
     "height": 34
    },
    "colab_type": "code",
    "id": "boJ8OTWwElo5",
    "outputId": "2750bd22-a5e1-4906-abd9-d60905bb4a4d"
   },
   "outputs": [],
   "source": [
    "# see the directories of observations:\n",
    "#!ls lto_data"
   ]
  },
  {
   "cell_type": "markdown",
   "metadata": {
    "colab_type": "text",
    "id": "bhce6Nm5o9qA"
   },
   "source": [
    "These are early observations in the LTO Radio Telescope projects. As such, the quality of the data is suspect; however the observations will suffice for demonstration purposes.  Just don't base any science on these!!\n",
    "\n",
    "The 2018_08_30 directory is a 24-hour drift scan, some 1440 files (one for each minute) in all.  The 2018_09_02 observation set is considerably smaller, so we'll demonstrate with it.  Doing so, however will compromise the plots that follow.\n",
    "\n",
    "If you want to see a full 24-hour drift scan, set the scan date to `'2018_08_30'`."
   ]
  },
  {
   "cell_type": "code",
   "execution_count": null,
   "metadata": {
    "colab": {},
    "colab_type": "code",
    "id": "koLlK1-0lXuZ"
   },
   "outputs": [],
   "source": [
    "#obs_dir = '/Users/kevin/Documents/LTO Radiometry/HI_Detection/lto_cache'\n",
    "#obs_dir = 'lto_data'\n",
    "obs_dir = r\"C:\\Users\\Ellie\\Documents\\LTO Data\"\n",
    "scan_date = '2020_08_12'"
   ]
  },
  {
   "cell_type": "code",
   "execution_count": 2,
   "metadata": {
    "colab": {},
    "colab_type": "code",
    "id": "2O_zXQlb9oFA"
   },
   "outputs": [
    {
     "ename": "NameError",
     "evalue": "name 'lto' is not defined",
     "output_type": "error",
     "traceback": [
      "\u001b[1;31m---------------------------------------------------------------------------\u001b[0m",
      "\u001b[1;31mNameError\u001b[0m                                 Traceback (most recent call last)",
      "\u001b[1;32m<ipython-input-2-be8bf09fd6b5>\u001b[0m in \u001b[0;36m<module>\u001b[1;34m\u001b[0m\n\u001b[0;32m      1\u001b[0m \u001b[1;31m#get all the spectral characteristics for the observation of 2018_09_02\u001b[0m\u001b[1;33m\u001b[0m\u001b[1;33m\u001b[0m\u001b[1;33m\u001b[0m\u001b[0m\n\u001b[0;32m      2\u001b[0m \u001b[1;31m# this can take a several minutes to run, espcially if the files are not local\u001b[0m\u001b[1;33m\u001b[0m\u001b[1;33m\u001b[0m\u001b[1;33m\u001b[0m\u001b[0m\n\u001b[1;32m----> 3\u001b[1;33m \u001b[0mobs_summary\u001b[0m \u001b[1;33m=\u001b[0m \u001b[0mlto\u001b[0m\u001b[1;33m.\u001b[0m\u001b[0mgetSpectralCharacteristics\u001b[0m\u001b[1;33m(\u001b[0m\u001b[0mobs_dir\u001b[0m\u001b[1;33m+\u001b[0m \u001b[1;34m'/'\u001b[0m \u001b[1;33m+\u001b[0m\u001b[0mscan_date\u001b[0m\u001b[1;33m)\u001b[0m\u001b[1;33m\u001b[0m\u001b[1;33m\u001b[0m\u001b[0m\n\u001b[0m",
      "\u001b[1;31mNameError\u001b[0m: name 'lto' is not defined"
     ]
    }
   ],
   "source": [
    "#get all the spectral characteristics for the observation of 2018_09_02\n",
    "# this can take a several minutes to run, espcially if the files are not local\n",
    "obs_summary = lto.getSpectralCharacteristics(obs_dir+ '/' +scan_date)"
   ]
  },
  {
   "cell_type": "code",
   "execution_count": null,
   "metadata": {
    "colab": {},
    "colab_type": "code",
    "id": "HIt8N-iO-yRv"
   },
   "outputs": [],
   "source": [
    "obs_summary.head()"
   ]
  },
  {
   "cell_type": "code",
   "execution_count": null,
   "metadata": {
    "colab": {
     "base_uri": "https://localhost:8080/",
     "height": 34
    },
    "colab_type": "code",
    "id": "guTX5mCH-0ei",
    "outputId": "3fcf51fe-0927-460e-ac94-091faa3ffac4"
   },
   "outputs": [],
   "source": [
    "len(obs_summary)"
   ]
  },
  {
   "cell_type": "code",
   "execution_count": null,
   "metadata": {
    "colab": {
     "base_uri": "https://localhost:8080/",
     "height": 347
    },
    "colab_type": "code",
    "id": "fpDQERUo-LGx",
    "outputId": "2f9f9421-350f-41e2-8b54-46111e8c8ddb"
   },
   "outputs": [],
   "source": [
    "plt.plot(obs_summary.index, obs_summary.avetsky)\n",
    "plt.title(f'Drift Scan Summary, Scan Date: {scan_date}')\n",
    "plt.xlabel('Time (UT)')\n",
    "plt.xticks(rotation=90)\n",
    "plt.ylabel('Average Sky Temp (K)')"
   ]
  },
  {
   "cell_type": "code",
   "execution_count": null,
   "metadata": {
    "colab": {
     "base_uri": "https://localhost:8080/",
     "height": 298
    },
    "colab_type": "code",
    "id": "Jk8rshL1L4-o",
    "outputId": "6af52f3c-5770-461b-8685-d47a2949e2e0"
   },
   "outputs": [],
   "source": [
    "#it's a drift scan so plot by right ascension\n",
    "plt.scatter(obs_summary.ra, obs_summary.avetsky, s=9)\n",
    "plt.title(f'Drift Scan Summary, Scan Date: {scan_date}')\n",
    "plt.xlabel('Right Ascension (deg)')\n",
    "plt.xticks(rotation=90)\n",
    "plt.ylabel('Average Sky Temp (K)')\n",
    "plt.grid()\n",
    "plt.gca().invert_xaxis()"
   ]
  },
  {
   "cell_type": "code",
   "execution_count": null,
   "metadata": {
    "colab": {},
    "colab_type": "code",
    "id": "Qj_5NUmzAHRY"
   },
   "outputs": [],
   "source": [
    "#this takes quite a bit of time on goolge, not so much when data is local\n",
    "\n",
    "#get all the spectral data from the drift scan\n",
    "spectra = lto.getDriftScan(obs_dir+ '/' +scan_date)"
   ]
  },
  {
   "cell_type": "code",
   "execution_count": null,
   "metadata": {
    "colab": {
     "base_uri": "https://localhost:8080/",
     "height": 309
    },
    "colab_type": "code",
    "id": "VoKmaHQZN4ya",
    "outputId": "ed46a831-58c5-4254-ab40-6498d3e6d4c3"
   },
   "outputs": [],
   "source": [
    "spectra.head()"
   ]
  },
  {
   "cell_type": "markdown",
   "metadata": {
    "colab_type": "text",
    "id": "PXVHVsfNmIGy"
   },
   "source": [
    "Yeilds a rather large data frame:"
   ]
  },
  {
   "cell_type": "code",
   "execution_count": null,
   "metadata": {
    "colab": {
     "base_uri": "https://localhost:8080/",
     "height": 34
    },
    "colab_type": "code",
    "id": "ZysVde6HaPYd",
    "outputId": "183113d1-35e0-412c-b006-249eeefa2c76"
   },
   "outputs": [],
   "source": [
    "len(spectra)"
   ]
  },
  {
   "cell_type": "markdown",
   "metadata": {
    "colab_type": "text",
    "id": "Xi8nU9z343fl"
   },
   "source": [
    "## Construct a Spectrogram"
   ]
  },
  {
   "cell_type": "markdown",
   "metadata": {
    "colab_type": "text",
    "id": "48wx1rwQcebb"
   },
   "source": [
    "The `spectra` data frame from above can be unweildy with 23 million rows, so the `getDriftScan` method provides a `dfclip` parameter to eliminate data at the far ends of the spectrum. If we clip the spectrum, the production of the spectrogram proceeds much faster, because the resulting data set is so much smaller."
   ]
  },
  {
   "cell_type": "code",
   "execution_count": null,
   "metadata": {
    "colab": {
     "base_uri": "https://localhost:8080/",
     "height": 34
    },
    "colab_type": "code",
    "id": "5b7nDYcKdQuA",
    "outputId": "94ec47f9-fb61-408c-fa5b-7546e99d4a00"
   },
   "outputs": [],
   "source": [
    "#clip to -300 kHz to 300 kHz\n",
    "spectra = lto.getDriftScan(obs_dir+ '/' +scan_date, dfclip=(0, 0.2e7))\n",
    "len(spectra)"
   ]
  },
  {
   "cell_type": "code",
   "execution_count": null,
   "metadata": {
    "colab": {
     "base_uri": "https://localhost:8080/",
     "height": 34
    },
    "colab_type": "code",
    "id": "kkSuY5nFN9DE",
    "outputId": "7ede7ead-78e8-4f29-cd66-461152d8b94d"
   },
   "outputs": [],
   "source": [
    "#make the temperature array dopfreq x time\n",
    "\n",
    "#sort the spectra data frame\n",
    "spectra.sort_values(['dopfreq', 'ts'], inplace=True)\n",
    "\n",
    "#get the y axis (dopler freq) values:\n",
    "dopfreqs = spectra.dopfreq.unique()\n",
    "\n",
    "# next, get the x-axis which is the time of the observations;\n",
    "obs_times = spectra.ts.unique()\n",
    "\n",
    "#make the temperature array\n",
    "skytemp = np.array(spectra.tsky).reshape(len(dopfreqs), len(obs_times))\n",
    "\n",
    "skytemp.shape"
   ]
  },
  {
   "cell_type": "code",
   "execution_count": 37,
   "metadata": {
    "colab": {},
    "colab_type": "code",
    "id": "Wi234ZkNfeHu"
   },
   "outputs": [],
   "source": [
    "#helper routine to beautify the time formating:\n",
    "import matplotlib.dates as mdates\n",
    "fmt = mdates.DateFormatter('%H:%M')\n",
    "\n",
    "#for the normalizer:\n",
    "import matplotlib.colors as colors\n",
    "\n"
   ]
  },
  {
   "cell_type": "code",
   "execution_count": null,
   "metadata": {
    "colab": {
     "base_uri": "https://localhost:8080/",
     "height": 425
    },
    "colab_type": "code",
    "id": "70J4Lv0g6FKS",
    "outputId": "6e7d085c-92ff-43e0-843c-084b14b2d5aa"
   },
   "outputs": [],
   "source": [
    "fig = plt.figure(figsize=(12,6))\n",
    "ax = fig.add_subplot()\n",
    "\n",
    "pcm = ax.pcolormesh(obs_times, dopfreqs, skytemp,cmap='gnuplot',\n",
    "                norm=colors.LogNorm())\n",
    "                   #norm=colors.PowerNorm(gamma=1./2.))\n",
    "fig.colorbar(pcm, label='Sky Temp (K)')\n",
    "\n",
    "plt.xlabel('Time (UT)')\n",
    "plt.gca().xaxis.set_major_formatter(fmt)\n",
    "plt.xticks(rotation=90)\n",
    "plt.ylabel('Dopler Shift (kHz)')\n",
    "plt.title(f'LTO Driftscan of {scan_date}',fontdict={'fontsize':16, 'fontweight':'bold'})\n",
    "plt.grid()"
   ]
  },
  {
   "cell_type": "code",
   "execution_count": null,
   "metadata": {},
   "outputs": [],
   "source": []
  }
 ],
 "metadata": {
  "colab": {
   "authorship_tag": "ABX9TyM9HsgylMuG26nM1JpKBHzH",
   "include_colab_link": true,
   "name": "lto_data.ipynb",
   "provenance": [],
   "toc_visible": true
  },
  "kernelspec": {
   "display_name": "Python 3",
   "language": "python",
   "name": "python3"
  },
  "language_info": {
   "codemirror_mode": {
    "name": "ipython",
    "version": 3
   },
   "file_extension": ".py",
   "mimetype": "text/x-python",
   "name": "python",
   "nbconvert_exporter": "python",
   "pygments_lexer": "ipython3",
   "version": "3.8.3"
  }
 },
 "nbformat": 4,
 "nbformat_minor": 4
}
