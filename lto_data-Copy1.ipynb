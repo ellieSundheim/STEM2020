{
 "cells": [
  {
   "cell_type": "markdown",
   "metadata": {
    "colab_type": "text",
    "id": "view-in-github"
   },
   "source": [
    "<a href=\"https://colab.research.google.com/github/kevinmcmanus/lto_utils/blob/master/lto_data.ipynb\" target=\"_parent\"><img src=\"https://colab.research.google.com/assets/colab-badge.svg\" alt=\"Open In Colab\"/></a>"
   ]
  },
  {
   "cell_type": "markdown",
   "metadata": {
    "colab_type": "text",
    "id": "Apn0zMs9QY2v"
   },
   "source": [
    "# LTO Utilities Library"
   ]
  },
  {
   "cell_type": "markdown",
   "metadata": {
    "colab_type": "text",
    "id": "bX344M-tQnQ4"
   },
   "source": [
    "The LTO Utilities library provides a set of useful functions for dealing with files output from the Little Thompson Observatory's radio telescope. These files, suffixed with '.lto' capture spectral information and the data processing pipeline produces them at approximately one-minute intervals throughout an observation.\n",
    "\n",
    "For the purposes of this demo, a 24-hour drift scan observation is available in Google Cloud Storage.  Having the data in GCS complicates this demo somewhat in that the Google Colab virtual machine that is running this notebook needs to mount the GCS as a preliminary step.\n",
    "The actual demonstration of obtaining and using the `lto_utils` library begins in the section entitled 'Clone the lto_utils' repo."
   ]
  },
  {
   "cell_type": "markdown",
   "metadata": {
    "colab_type": "text",
    "id": "8WapFl0zTWf-"
   },
   "source": [
    "## Preliminaries"
   ]
  },
  {
   "cell_type": "markdown",
   "metadata": {
    "colab_type": "text",
    "id": "YNxuMpwmB9ba"
   },
   "source": [
    "### References on Using Cloud Storage in Colab"
   ]
  },
  {
   "cell_type": "markdown",
   "metadata": {
    "colab_type": "text",
    "id": "K4CVm6sAuU1v"
   },
   "source": [
    "These articles explain how to make Google Cloud Storage availabale within a Google Colab notebook, such as this one.\n",
    "\n",
    "(https://medium.com/analytics-vidhya/how-to-access-files-from-google-cloud-storage-in-colab-notebooks-8edaf9e6c020)\n",
    "\n",
    "(https://stackoverflow.com/questions/51715268/how-to-import-data-from-google-cloud-storage-to-google-colab)\n",
    "\n",
    "(https://ostrokach.gitlab.io/post/google-colab-storage/)"
   ]
  },
  {
   "cell_type": "markdown",
   "metadata": {
    "colab_type": "text",
    "id": "CCYrwRu93ESO"
   },
   "source": [
    "### Authenticate and Mount GCS Bucket"
   ]
  },
  {
   "cell_type": "code",
   "execution_count": 1,
   "metadata": {
    "colab": {},
    "colab_type": "code",
    "id": "zmj1xAxhooC_"
   },
   "outputs": [],
   "source": [
    "#from google.colab import auth\n",
    "\n",
    "#auth.authenticate_user()"
   ]
  },
  {
   "cell_type": "code",
   "execution_count": 2,
   "metadata": {
    "colab": {
     "base_uri": "https://localhost:8080/",
     "height": 323
    },
    "colab_type": "code",
    "id": "gaybdAkUqRdK",
    "outputId": "dc8618ba-5784-4321-872b-9cdbdf710b04"
   },
   "outputs": [],
   "source": [
    "#!echo \"deb http://packages.cloud.google.com/apt gcsfuse-bionic main\" > /etc/apt/sources.list.d/gcsfuse.list\n",
    "#!curl https://packages.cloud.google.com/apt/doc/apt-key.gpg | apt-key add -\n",
    "#!apt -qq update\n",
    "#!apt -qq install gcsfuse"
   ]
  },
  {
   "cell_type": "code",
   "execution_count": 3,
   "metadata": {
    "colab": {
     "base_uri": "https://localhost:8080/",
     "height": 102
    },
    "colab_type": "code",
    "id": "kIp99n9w16jC",
    "outputId": "a7d8bfaf-610d-4fb3-afa4-598ccd7a84fc"
   },
   "outputs": [],
   "source": [
    "#Mount the drive\n",
    "#!mkdir lto_data\n",
    "#!gcsfuse --implicit-dirs --limit-bytes-per-sec -1 --limit-ops-per-sec -1 lto_data lto_data"
   ]
  },
  {
   "cell_type": "code",
   "execution_count": 4,
   "metadata": {
    "colab": {},
    "colab_type": "code",
    "id": "oDjKuzUQovOK"
   },
   "outputs": [],
   "source": [
    "#to mount your own google drive, do this:\n",
    "#from google.colab import drive\n",
    "#drive.mount('/content/drive')"
   ]
  },
  {
   "cell_type": "markdown",
   "metadata": {
    "colab_type": "text",
    "id": "uSS5amXO3kSA"
   },
   "source": [
    "## Clone the lto_utils Repo"
   ]
  },
  {
   "cell_type": "code",
   "execution_count": 5,
   "metadata": {
    "colab": {
     "base_uri": "https://localhost:8080/",
     "height": 34
    },
    "colab_type": "code",
    "id": "uDtC6puZv7KZ",
    "outputId": "32747637-e56a-4205-845e-bfe94f0cb490"
   },
   "outputs": [],
   "source": [
    "#!git clone https://github.com/kevinmcmanus/lto_utils"
   ]
  },
  {
   "cell_type": "code",
   "execution_count": 2,
   "metadata": {},
   "outputs": [],
   "source": [
    "import sys\n",
    "sys.path.append('lto_utils')"
   ]
  },
  {
   "cell_type": "code",
   "execution_count": 3,
   "metadata": {},
   "outputs": [],
   "source": [
    "from lto_utils.lto_file import LTO_File, getDriftScan, getSpectralCharacteristics, getLTOobs"
   ]
  },
  {
   "cell_type": "code",
   "execution_count": 4,
   "metadata": {
    "colab": {},
    "colab_type": "code",
    "id": "j_8kTKpxwjtJ"
   },
   "outputs": [],
   "source": [
    "import lto_utils.lto_file as lto"
   ]
  },
  {
   "cell_type": "code",
   "execution_count": 5,
   "metadata": {
    "colab": {},
    "colab_type": "code",
    "id": "e5axO4LHXGKX"
   },
   "outputs": [],
   "source": [
    "import numpy as np\n",
    "import pandas as pd\n",
    "import matplotlib.pyplot as plt\n",
    "%matplotlib inline\n",
    "\n",
    "import os"
   ]
  },
  {
   "cell_type": "code",
   "execution_count": 6,
   "metadata": {},
   "outputs": [],
   "source": [
    "from astropy import units as u\n",
    "from astropy.coordinates import SkyCoord"
   ]
  },
  {
   "cell_type": "markdown",
   "metadata": {
    "colab_type": "text",
    "id": "ILwzuvxr33Du"
   },
   "source": [
    "## Read Single LTO File and Examine its Contents"
   ]
  },
  {
   "cell_type": "code",
   "execution_count": 7,
   "metadata": {},
   "outputs": [],
   "source": [
    "obs_dir = r'C:\\Users\\Ellie\\Documents\\LTO Data' # dir where the observations live\n",
    "obs_date = '2020_08_10' # dir of the day's observations\n",
    "obs_file = 'LTO-SRGA-2020-08-10-03-07-17.lto' #a particular minute's observation"
   ]
  },
  {
   "cell_type": "code",
   "execution_count": 8,
   "metadata": {},
   "outputs": [
    {
     "name": "stdout",
     "output_type": "stream",
     "text": [
      "LTO File; Obs Time: 2020-08-10 03:07:17 UT, Az: 180.00, El: 23.90, RA: 17.39, Dec: -25.80, from file: C:\\Users\\Ellie\\Documents\\LTO Data\\2020_08_10\\LTO-SRGA-2020-08-10-03-07-17.lto\n"
     ]
    }
   ],
   "source": [
    "#create an LTO_File object and read its contents\n",
    "lto_file = LTO_File(os.path.join(obs_dir, obs_date, obs_file))\n",
    "print(lto_file)"
   ]
  },
  {
   "cell_type": "code",
   "execution_count": 9,
   "metadata": {
    "colab": {},
    "colab_type": "code",
    "id": "Pt8V5ZXxyROo"
   },
   "outputs": [],
   "source": [
    "#set the path to the object\n",
    "#path = 'lto_data/2018_09_02/LTO-HI-2018-09-02-17-41-53.lto'\n",
    "\n",
    "#simple peaks\n",
    "#path = r'C:\\Users\\Ellie\\Documents\\LTO Data\\2020_08_10\\LTO-SRGA-2020-08-10-03-23-30.lto'\n",
    "#path = r'C:\\Users\\Ellie\\Documents\\LTO Data\\2020_08_08\\LTO-SRGA-2020-08-08-04-00-09.lto'\n",
    "#path = r'C:\\Users\\Ellie\\Documents\\LTO Data\\2020_08_11\\LTO-SRGA-2020-08-11-04-09-41.lto'\n",
    "#path = r'C:\\Users\\Ellie\\Documents\\LTO Data\\2020_08_10\\LTO-SRGA-2020-08-10-03-42-05.lto'\n",
    "\n",
    "#multi-peak\n",
    "#path = r'C:\\Users\\Ellie\\Documents\\LTO Data\\2020_08_11\\LTO-SRGA-2020-08-11-03-57-38.lto'\n",
    "\n",
    "#create an LTO_File object\n",
    "#lto_file = lto.LTO_File(path)\n"
   ]
  },
  {
   "cell_type": "markdown",
   "metadata": {
    "colab_type": "text",
    "id": "b9jb-__ZUvEc"
   },
   "source": [
    "`lto_file` object contains two attributes: `SpectralHeader` and `SpectralData`. Both are large data structures. The `SpectralHeader` has several subsections which are:"
   ]
  },
  {
   "cell_type": "code",
   "execution_count": 10,
   "metadata": {
    "colab": {
     "base_uri": "https://localhost:8080/",
     "height": 54
    },
    "colab_type": "code",
    "id": "MprZi3yXU5MX",
    "outputId": "5ed6a70d-9501-4a1a-d623-2c74b9b4f681"
   },
   "outputs": [
    {
     "data": {
      "text/plain": [
       "dict_keys(['Magic', 'Observatory', 'ObsLocation', 'BeamPosition', 'ObsTime', 'Spectrum', 'RadioCalibrations', 'ProgramControl', 'SpectralCharacteristics'])"
      ]
     },
     "execution_count": 10,
     "metadata": {},
     "output_type": "execute_result"
    }
   ],
   "source": [
    "lto_file.SpectralHeader.keys()"
   ]
  },
  {
   "cell_type": "markdown",
   "metadata": {
    "colab_type": "text",
    "id": "NvVLpWOi4Y6y"
   },
   "source": [
    " \n",
    "The subsection `SpectralCharacteristics`  contains summary information of the file. \n",
    " This subsection is particularly useful."
   ]
  },
  {
   "cell_type": "code",
   "execution_count": 11,
   "metadata": {
    "colab": {
     "base_uri": "https://localhost:8080/",
     "height": 459
    },
    "colab_type": "code",
    "id": "mjADjPid4KyQ",
    "outputId": "902f6229-40d1-49d6-9b6f-8d8495f53ad7"
   },
   "outputs": [
    {
     "data": {
      "text/plain": [
       "{'avespecpwr': 1.4806562031216337e-21,\n",
       " 'varspecpwr': 1.2845309562441545e-45,\n",
       " 'totalpwr': 1.857779338056717e-17,\n",
       " 'numspecpwr': 12547,\n",
       " 'numave': 26216,\n",
       " 'numbad': 4,\n",
       " 'aveindvpwr': 0.001749086775816977,\n",
       " 'varindvpwr': 2.513764196798718e-10,\n",
       " 'peakpwr': 1.8277951097746046e-21,\n",
       " 'peakpwrfreq': 1420335500.0,\n",
       " 'totalHIpwr': 4.848518983774729e-19,\n",
       " 'numHIpwr': 290,\n",
       " 'avecrpwr': 1.4761313112661905e-21,\n",
       " 'varcrpwr': 1.575097912794377e-46,\n",
       " 'numcrpwr': 12257,\n",
       " 'avetsky': 106.9157943725586,\n",
       " 'vartsky': 0.8263067350781387,\n",
       " 'peaktsky': 132.38670692049885,\n",
       " 'peaktskyfreq': 1420335500.0,\n",
       " 'avefluxden': 21774.355317505102,\n",
       " 'varfluxden': 277796.4769932825,\n",
       " 'peakfluxden': 26879.339095681386,\n",
       " 'peakfluxfreq': 1420335500.0,\n",
       " 'badspec': False,\n",
       " 'processing': 'Raw FFT',\n",
       " 'user': ''}"
      ]
     },
     "execution_count": 11,
     "metadata": {},
     "output_type": "execute_result"
    }
   ],
   "source": [
    "lto_file.SpectralHeader['SpectralCharacteristics']"
   ]
  },
  {
   "cell_type": "markdown",
   "metadata": {
    "colab_type": "text",
    "id": "43Pz-YXr5C-w"
   },
   "source": [
    "`SpectralData` is a  dictionary which essentially captures the spectrum and some other frequency-dependent measures.  Each dictionary element is a vector of length `nfft`."
   ]
  },
  {
   "cell_type": "code",
   "execution_count": 12,
   "metadata": {
    "colab": {
     "base_uri": "https://localhost:8080/",
     "height": 54
    },
    "colab_type": "code",
    "id": "bnoZVWAjVX7_",
    "outputId": "fc2c1343-e264-4fa2-c7c7-aa88531facc5"
   },
   "outputs": [
    {
     "data": {
      "text/plain": [
       "dict_keys(['dopfreq', 'rawavepwr', 'rawvarpwr', 'calavepwr', 'flatten', 'tsky', 'fluxden', 'badline', 'HIline'])"
      ]
     },
     "execution_count": 12,
     "metadata": {},
     "output_type": "execute_result"
    }
   ],
   "source": [
    "lto_file.SpectralData.keys()"
   ]
  },
  {
   "cell_type": "code",
   "execution_count": 13,
   "metadata": {
    "colab": {
     "base_uri": "https://localhost:8080/",
     "height": 34
    },
    "colab_type": "code",
    "id": "gt-TWlxmVwux",
    "outputId": "c374088b-c589-4523-fdfc-86de1da943d8"
   },
   "outputs": [
    {
     "data": {
      "text/plain": [
       "(numpy.ndarray, 'Length: 16385')"
      ]
     },
     "execution_count": 13,
     "metadata": {},
     "output_type": "execute_result"
    }
   ],
   "source": [
    "#type and length of the tsky member of the dictionary\n",
    "n = len(lto_file.SpectralData['tsky'])\n",
    "type(lto_file.SpectralData['tsky']), f'Length: {n}'"
   ]
  },
  {
   "cell_type": "code",
   "execution_count": 14,
   "metadata": {
    "colab": {
     "base_uri": "https://localhost:8080/",
     "height": 295
    },
    "colab_type": "code",
    "id": "SxoumHmr5Xqu",
    "outputId": "18772bb2-9ed4-4295-e627-1644f47657bb"
   },
   "outputs": [
    {
     "data": {
      "image/png": "[encoded data removed]",
      "text/plain": [
       "<Figure size 432x288 with 1 Axes>"
      ]
     },
     "metadata": {
      "needs_background": "light"
     },
     "output_type": "display_data"
    }
   ],
   "source": [
    "plt.plot(lto_file.SpectralData['dopfreq'], lto_file.SpectralData['tsky'], label = 'first line')\n",
    "#plt.plot(lto_file.SpectralData['dopfreq'], lto_file.SpectralData['tsky']*1.1, label = 'second line')\n",
    "plt.xlim(0, 2000000)\n",
    "plt.ylim(100, 200)\n",
    "plt.xlabel('Dopler Frequency')\n",
    "plt.ylabel('Calibrated Power')\n",
    "plt.legend()\n",
    "zz=plt.title('Spectrum at '+lto_file.get_time().strftime('%Y-%m-%d %H:%M:%S %z'))"
   ]
  },
  {
   "cell_type": "markdown",
   "metadata": {
    "colab_type": "text",
    "id": "Y2062dJL8TP0"
   },
   "source": [
    "Sometimes it's easier to work with a `Pandas` dataframe. The `LTO_File` class provides a method to do so."
   ]
  },
  {
   "cell_type": "code",
   "execution_count": 15,
   "metadata": {
    "colab": {
     "base_uri": "https://localhost:8080/",
     "height": 309
    },
    "colab_type": "code",
    "id": "q0qXAPf78f1M",
    "outputId": "0a95d99b-b087-4630-e405-e34a6033eed5"
   },
   "outputs": [
    {
     "name": "stdout",
     "output_type": "stream",
     "text": [
      "16385\n"
     ]
    },
    {
     "data": {
      "text/html": [
       "<div>\n",
       "<style scoped>\n",
       "    .dataframe tbody tr th:only-of-type {\n",
       "        vertical-align: middle;\n",
       "    }\n",
       "\n",
       "    .dataframe tbody tr th {\n",
       "        vertical-align: top;\n",
       "    }\n",
       "\n",
       "    .dataframe thead th {\n",
       "        text-align: right;\n",
       "    }\n",
       "</style>\n",
       "<table border=\"1\" class=\"dataframe\">\n",
       "  <thead>\n",
       "    <tr style=\"text-align: right;\">\n",
       "      <th></th>\n",
       "      <th>ts</th>\n",
       "      <th>ra</th>\n",
       "      <th>dec</th>\n",
       "      <th>dopfreq</th>\n",
       "      <th>rawavepwr</th>\n",
       "      <th>rawvarpwr</th>\n",
       "      <th>calavepwr</th>\n",
       "      <th>flatten</th>\n",
       "      <th>tsky</th>\n",
       "      <th>fluxden</th>\n",
       "      <th>badline</th>\n",
       "      <th>HIline</th>\n",
       "    </tr>\n",
       "  </thead>\n",
       "  <tbody>\n",
       "    <tr>\n",
       "      <th>16380</th>\n",
       "      <td>2020-08-10 03:07:17+00:00</td>\n",
       "      <td>17.391382</td>\n",
       "      <td>-25.800467</td>\n",
       "      <td>4997558.5</td>\n",
       "      <td>0.514033</td>\n",
       "      <td>2.664151e-01</td>\n",
       "      <td>4.034849e-19</td>\n",
       "      <td>182.158386</td>\n",
       "      <td>29224.300781</td>\n",
       "      <td>5.933601e+06</td>\n",
       "      <td>True</td>\n",
       "      <td>False</td>\n",
       "    </tr>\n",
       "    <tr>\n",
       "      <th>16381</th>\n",
       "      <td>2020-08-10 03:07:17+00:00</td>\n",
       "      <td>17.391382</td>\n",
       "      <td>-25.800467</td>\n",
       "      <td>4998169.0</td>\n",
       "      <td>0.822305</td>\n",
       "      <td>7.135391e-01</td>\n",
       "      <td>3.597608e-19</td>\n",
       "      <td>268.312256</td>\n",
       "      <td>26057.376953</td>\n",
       "      <td>5.290600e+06</td>\n",
       "      <td>True</td>\n",
       "      <td>False</td>\n",
       "    </tr>\n",
       "    <tr>\n",
       "      <th>16382</th>\n",
       "      <td>2020-08-10 03:07:17+00:00</td>\n",
       "      <td>17.391382</td>\n",
       "      <td>-25.800467</td>\n",
       "      <td>4998779.5</td>\n",
       "      <td>1.443286</td>\n",
       "      <td>2.096079e+00</td>\n",
       "      <td>2.366898e-19</td>\n",
       "      <td>491.400604</td>\n",
       "      <td>17143.380859</td>\n",
       "      <td>3.480732e+06</td>\n",
       "      <td>True</td>\n",
       "      <td>False</td>\n",
       "    </tr>\n",
       "    <tr>\n",
       "      <th>16383</th>\n",
       "      <td>2020-08-10 03:07:17+00:00</td>\n",
       "      <td>17.391382</td>\n",
       "      <td>-25.800467</td>\n",
       "      <td>4999389.5</td>\n",
       "      <td>0.001749</td>\n",
       "      <td>2.513764e-10</td>\n",
       "      <td>1.487929e-21</td>\n",
       "      <td>0.000000</td>\n",
       "      <td>107.770287</td>\n",
       "      <td>2.188131e+04</td>\n",
       "      <td>True</td>\n",
       "      <td>False</td>\n",
       "    </tr>\n",
       "    <tr>\n",
       "      <th>16384</th>\n",
       "      <td>2020-08-10 03:07:17+00:00</td>\n",
       "      <td>17.391382</td>\n",
       "      <td>-25.800467</td>\n",
       "      <td>5000000.0</td>\n",
       "      <td>0.001749</td>\n",
       "      <td>2.513764e-10</td>\n",
       "      <td>1.487929e-21</td>\n",
       "      <td>0.000000</td>\n",
       "      <td>107.770287</td>\n",
       "      <td>2.188131e+04</td>\n",
       "      <td>True</td>\n",
       "      <td>False</td>\n",
       "    </tr>\n",
       "  </tbody>\n",
       "</table>\n",
       "</div>"
      ],
      "text/plain": [
       "                             ts         ra        dec    dopfreq  rawavepwr  \\\n",
       "16380 2020-08-10 03:07:17+00:00  17.391382 -25.800467  4997558.5   0.514033   \n",
       "16381 2020-08-10 03:07:17+00:00  17.391382 -25.800467  4998169.0   0.822305   \n",
       "16382 2020-08-10 03:07:17+00:00  17.391382 -25.800467  4998779.5   1.443286   \n",
       "16383 2020-08-10 03:07:17+00:00  17.391382 -25.800467  4999389.5   0.001749   \n",
       "16384 2020-08-10 03:07:17+00:00  17.391382 -25.800467  5000000.0   0.001749   \n",
       "\n",
       "          rawvarpwr     calavepwr     flatten          tsky       fluxden  \\\n",
       "16380  2.664151e-01  4.034849e-19  182.158386  29224.300781  5.933601e+06   \n",
       "16381  7.135391e-01  3.597608e-19  268.312256  26057.376953  5.290600e+06   \n",
       "16382  2.096079e+00  2.366898e-19  491.400604  17143.380859  3.480732e+06   \n",
       "16383  2.513764e-10  1.487929e-21    0.000000    107.770287  2.188131e+04   \n",
       "16384  2.513764e-10  1.487929e-21    0.000000    107.770287  2.188131e+04   \n",
       "\n",
       "       badline  HIline  \n",
       "16380     True   False  \n",
       "16381     True   False  \n",
       "16382     True   False  \n",
       "16383     True   False  \n",
       "16384     True   False  "
      ]
     },
     "execution_count": 15,
     "metadata": {},
     "output_type": "execute_result"
    }
   ],
   "source": [
    "import pandas as pd\n",
    "pd_df = lto_file.to_pandas()\n",
    "print(len(pd_df))\n",
    "pd_df.tail()"
   ]
  },
  {
   "cell_type": "code",
   "execution_count": 16,
   "metadata": {},
   "outputs": [],
   "source": [
    "#testing locating variables of interest\n",
    "#only want rows where HI line = true b/c no need to look for peaks elsewhere\n",
    "\n",
    "#print(pd_df.loc[pd_df['HIline'] == True])"
   ]
  },
  {
   "cell_type": "code",
   "execution_count": 17,
   "metadata": {},
   "outputs": [],
   "source": [
    "#smoothing slope to help get locate only true peaks\n",
    "\n",
    "def smoothPascal(dataframe, centerIndex, column):\n",
    "    pascalArray = np.array([1,6,15,20,15,6,1])\n",
    "    #print(pascalArray)\n",
    "    sum = 0\n",
    "    for i in range(-3, 3):\n",
    "        sum += (dataframe.at[(centerIndex + i), column]) * (pascalArray[3 + i])\n",
    "        #print(sum)\n",
    "        \n",
    "    final = sum/64.0\n",
    "   # if final < 0.2 and final > -0.2:\n",
    "       # final = 0.0\n",
    "        \n",
    "    return final\n",
    "        \n",
    "    "
   ]
  },
  {
   "cell_type": "code",
   "execution_count": 47,
   "metadata": {},
   "outputs": [],
   "source": [
    "def findPeaksValleys(df):\n",
    "    \n",
    "    peakList, valleyList = [], []\n",
    "    \n",
    "    for index in range(2, len(df)-3):\n",
    "\n",
    "        if (df.loc[index, 'HIline']) and (df.loc[index, 'badline'] == False):\n",
    "            \n",
    "            #calculate slope for each point\n",
    "            slope = (df['tsky'][index + 1] - df['tsky'][index] ) / (df['dopfreq'][index + 1] - df['dopfreq'][index])\n",
    "            df.at[index, 'slope'] = slope * 10000\n",
    "        \n",
    "            #apply smoothing algorithm to slopes\n",
    "            smoothSlope = smoothPascal(df, index, 'slope')\n",
    "            df.at[index, 'smooth_slope'] = smoothSlope\n",
    "            #print(pd_df.loc[index, ['tsky', 'HIline', 'slope', 'smooth_slope']])\n",
    "\n",
    "            #use slope to identify peaks/valleys \n",
    "            #lastSlopeDiff = (pd_df.at[index-2, 'smooth_slope'] - pd_df.at[index -1, 'smooth_slope'])\n",
    "            #nextSlopeDiff = (pd_df.at[index+2, 'smooth_slope'] - pd_df.at[index +1, 'smooth_slope'])\n",
    "            #nextSlope= pd_df.at[index+1, 'smooth_slope']\n",
    "\n",
    "            #between neg slope increasing and pos slope decreasing and close to zero (one ish)\n",
    "            #slopes before are decreasing in magnitude and after are increasing\n",
    "            #magDecrease = abs(pd_df.at[index -2, 'smooth_slope']) > abs(pd_df.at[index -1, 'smooth_slope']) and abs(pd_df.at[index -1, 'smooth_slope']) > abs(pd_df.at[index, 'smooth_slope'])\n",
    "            #magIncrease = abs(pd_df.at[index +2,'smooth_slope']) > abs(pd_df.at[index +1, 'smooth_slope']) and abs(pd_df.at[index +1, 'smooth_slope']) > abs(pd_df.at[index, 'smooth_slope'])\n",
    "\n",
    "            #smoothing raw tsky\n",
    "            smoothTsky = smoothPascal(df, index, 'tsky')\n",
    "            df.at[index, 'smoothTsky'] = smoothTsky\n",
    "            \n",
    "            #boolean for index is highest/lowest in neighborhood\n",
    "            maxRange = 25\n",
    "            beginIndex = index - maxRange\n",
    "            endIndex = index + maxRange\n",
    "            dfRange = df.loc[beginIndex : endIndex, 'tsky']\n",
    "            #print(\"type of dfRange is\" + str(type(dfRange)))\n",
    "            npRange = dfRange.to_numpy()\n",
    "            #print(\"tsky at index is \" + str(df.at[index, 'smoothTsky']))\n",
    "            #print(npRange)\n",
    "            isMax = (np.max(npRange) == df.at[index, 'tsky'])\n",
    "            isMin = (np.min(npRange) == df.at[index, 'tsky'])\n",
    "            \n",
    "            #isMax = max(df.loc[index - maxRange: index + maxRange, 'smoothTsky']) == df.at[index, 'smoothTsky']\n",
    "            #isMin = min(df.loc[index - maxRange: index + maxRange, 'smoothTsky']) == df.at[index, 'smoothTsky']\n",
    "\n",
    "            df.at[index, 'isPeak'] = False\n",
    "            df.at[index, 'isValley'] = False\n",
    "\n",
    "            slopeThreshold = 0.3\n",
    "            \n",
    "            #if abs(smoothSlope) < slopeThreshold and lastSlopeDiff > 0 and nextSlopeDiff < 0 and isMax:\n",
    "            #if abs(smoothSlope) < 1 and magDecrease == True and magIncrease == True and isMax :\n",
    "            if isMax:\n",
    "                df.at[index, 'isPeak'] = True\n",
    "                peakList.append(index)\n",
    "\n",
    "            #elif abs(smoothSlope) < slopeThreshold and lastSlopeDiff < 0 and nextSlopeDiff > 0 and isMin:\n",
    "            #elif abs(smoothSlope) < 1 and magDecrease == True and magIncrease == True and isMin:\n",
    "            if isMin:\n",
    "                df.at[index, 'isValley'] = True\n",
    "                valleyList.append(index)\n",
    "\n",
    "            #print all rows where peak or valley == true\n",
    "    #print(df.loc[df['isPeak'] == True])\n",
    "    #print(df.loc[df['isValley'] == True])\n",
    "            \n",
    "    print(peakList)\n",
    "    print(valleyList)\n",
    "    return [peakList, valleyList]"
   ]
  },
  {
   "cell_type": "code",
   "execution_count": 48,
   "metadata": {},
   "outputs": [],
   "source": [
    "def getAbsorbDepth(df):\n",
    "    \n",
    "    #returns lists with indexes of peaks and valleys in dataframe\n",
    "    peaks, valleys = findPeaksValleys(df)\n",
    "    maxTemp = 0\n",
    "    for peak in peaks:\n",
    "        if maxTemp <= df.at[peak, 'tsky']:\n",
    "            maxTemp = df.at[peak, 'tsky']\n",
    "    depthsList = []  \n",
    "    \n",
    "    dictEntry = {'ra': df.at[0, 'ra'], 'dec': df.at[0, 'dec'], 'abDep': 0.0, 'dopfreq': 0.0, 'maxTsky': maxTemp}\n",
    "       \n",
    "    \n",
    "    for peakListIndex, peak in enumerate(peaks):\n",
    "        #checks to see if at end of peaks list yet\n",
    "        if peakListIndex >= len(peaks) -1:\n",
    "            break\n",
    "        \n",
    "        for valley in valleys:\n",
    "            #check to see if valley is in between peaks\n",
    "            if (peak < valley and peaks[peakListIndex + 1] > valley):\n",
    "                \n",
    "                #identified peaks with smoothing, but using raw data here --- any reason one way or another?---------------\n",
    "                \n",
    "                x1 = df.at[peak, 'dopfreq']\n",
    "                y1 = df.at[peak, 'tsky']\n",
    "                x = df.at[peaks[peakListIndex +1], 'dopfreq']\n",
    "                y = df.at[peaks[peakListIndex+1], 'tsky']\n",
    "              \n",
    "                xValley = df.at[valley, 'dopfreq']\n",
    "                yValley = df.at[valley, 'tsky']\n",
    "\n",
    "                #connect the peaks to get estimate of power at valley location\n",
    "                m = (y - y1)/(x - x1)\n",
    "                estimatedPower = (m * (xValley - x1)) + y1\n",
    "                absorptionDepth = estimatedPower - yValley\n",
    "                #print(absorptionDepth)\n",
    "                \n",
    "                #if absoption Depth is negative, set to 0\n",
    "                if absorptionDepth < 0: absorptionDepth = 0.0\n",
    "                \n",
    "                #if outside range of freqs with known real valleys, set to 0\n",
    "                if (920000 < xValley) and (xValley < 935000):\n",
    "                    absorptionDepth = 0.0\n",
    "                \n",
    "                #taking only largest depth\n",
    "                if absorptionDepth > dictEntry['abDep']:\n",
    "                    dictEntry = {'ra': df.at[valley, 'ra'], 'dec': df.at[valley, 'dec'], 'abDep': absorptionDepth, 'dopfreq': df.at[valley, 'dopfreq'], 'maxTsky': maxTemp }\n",
    "                \n",
    "                \n",
    "            else:\n",
    "                #print('Valley not between two peaks')\n",
    "                continue\n",
    "                \n",
    "    #add depthsEntry to list\n",
    "    depthsList.append(dictEntry)\n",
    "    print(dictEntry['abDep'])\n",
    "       \n",
    "    return depthsList\n"
   ]
  },
  {
   "cell_type": "code",
   "execution_count": 49,
   "metadata": {},
   "outputs": [
    {
     "name": "stdout",
     "output_type": "stream",
     "text": [
      "[9691, 9728]\n",
      "[9709]\n",
      "0.0\n"
     ]
    },
    {
     "data": {
      "text/plain": [
       "[{'ra': 17.391382217407227,\n",
       "  'dec': -25.800466537475586,\n",
       "  'abDep': 0.0,\n",
       "  'dopfreq': 0.0,\n",
       "  'maxTsky': 132.38670349121094}]"
      ]
     },
     "execution_count": 49,
     "metadata": {},
     "output_type": "execute_result"
    }
   ],
   "source": [
    "getAbsorbDepth(pd_df)"
   ]
  },
  {
   "cell_type": "markdown",
   "metadata": {
    "colab_type": "text",
    "id": "STtpmcnaXp6w"
   },
   "source": [
    "**TODO:** check out the ra and dec columns above"
   ]
  },
  {
   "cell_type": "code",
   "execution_count": 50,
   "metadata": {},
   "outputs": [
    {
     "data": {
      "image/png": "[encoded data removed]",
      "text/plain": [
       "<Figure size 432x288 with 1 Axes>"
      ]
     },
     "metadata": {
      "needs_background": "light"
     },
     "output_type": "display_data"
    }
   ],
   "source": [
    "#reprint spectra with peaks/valleys shown\n",
    "plt.plot(lto_file.SpectralData['dopfreq'], lto_file.SpectralData['tsky'], label = 'Temp')\n",
    "plt.plot(lto_file.SpectralData['dopfreq'], lto_file.SpectralData['HIline']*125, label = 'HI')\n",
    "for point in range(len(pd_df)-1):\n",
    "    if (pd_df.at[point, 'HIline']) and ((pd_df.at[point, 'isPeak'] or pd_df.at[point, 'isValley'])):\n",
    "        plt.scatter(pd_df.at[point, 'dopfreq'], pd_df.at[point, 'tsky'], 50)\n",
    "plt.xlim(0, 2000000)\n",
    "plt.ylim(100, 200)\n",
    "plt.xlabel('Dopler Frequency')\n",
    "plt.ylabel('Calibrated Power')\n",
    "plt.legend()\n",
    "zz=plt.title('Spectrum at '+lto_file.get_time().strftime('%Y-%m-%d %H:%M:%S %z'))"
   ]
  },
  {
   "cell_type": "code",
   "execution_count": 51,
   "metadata": {},
   "outputs": [],
   "source": [
    "def writeLTOEfile(obs_date, ra, dec, absDepth, dopFreq, maxTsky = 0):\n",
    "    name = obs_date + \".ltoe\"\n",
    "    fw= open(name, 'a')\n",
    "    if fw.mode != 'a':\n",
    "        print(\"Error: could not open file to append \\n\")\n",
    "        exit()\n",
    "    else:\n",
    "        \n",
    "        # outputs: ra, dec, galLong, galLat, absDepth, 1, dopFreq, maxTsky\n",
    "        raDeg = ra * (360.0/24)\n",
    "        decDeg = dec\n",
    "        fw.write(      str(raDeg))\n",
    "        fw.write(' ' + str(decDeg))\n",
    "        c = SkyCoord(raDeg, decDeg, frame = 'icrs', unit = 'deg')\n",
    "        fw.write(' ' + str(c.galactic.l.degree))\n",
    "        fw.write(' ' + str(c.galactic.b.degree))\n",
    "        fw.write(' ' + str(absDepth))\n",
    "        fw.write(' ' + '1')\n",
    "        fw.write(' ' + str(dopFreq))\n",
    "        fw.write(' ' + str(maxTsky))\n",
    "        fw.write('\\r\\n')\n",
    "        fw.close()"
   ]
  },
  {
   "cell_type": "code",
   "execution_count": 52,
   "metadata": {},
   "outputs": [],
   "source": [
    "def absDepthforEntireDay(obs_dir, obs_date):\n",
    "    dayLongList = []\n",
    "    for i, lto in enumerate(getLTOobs(os.path.join(obs_dir, obs_date))):\n",
    "    #for i, lto in enumerate(getLTOobs(r'C:\\Users\\Ellie\\Documents\\LTO Data\\2020_08_10')):\n",
    "\n",
    "        #if i <= 170 or i >= 200:\n",
    "            #continue\n",
    "\n",
    "        pd_df = lto.to_pandas()\n",
    "        print(pd_df.at[1, 'ts'])\n",
    "        dayLongList += (getAbsorbDepth(pd_df))\n",
    "        #print(getAbsorbDepth(pd_df))\n",
    "        #print (dayLongList)\n",
    "    print(\"Got dictionaries for all spectra\")\n",
    "    Xaxis = []\n",
    "    Yaxis = []\n",
    "    colormap = []\n",
    "\n",
    "    for d in dayLongList:\n",
    "        #experimenting with not creating lists to see if speeds up process\n",
    "        #Xaxis.append(d['ra'])\n",
    "        #print(Xaxis)\n",
    "        #Yaxis.append(d['dec'])\n",
    "        #colormap.append(d['abDep'])\n",
    "        \n",
    "        #put maxPeak in here\n",
    "        writeLTOEfile(obs_date, d['ra'], d['dec'], d['abDep'], d['dopfreq'], d['maxTsky'])\n",
    "    \n",
    "    \n",
    "    return Xaxis, Yaxis, colormap"
   ]
  },
  {
   "cell_type": "code",
   "execution_count": 53,
   "metadata": {},
   "outputs": [
    {
     "name": "stdout",
     "output_type": "stream",
     "text": [
      "2020-08-10 00:34:00+00:00\n",
      "[9615, 9674, 9719, 9828]\n",
      "[9643]\n",
      "2.404637959698249\n",
      "2020-08-10 00:34:53+00:00\n",
      "[9623, 9683]\n",
      "[9642]\n",
      "1.3290063328677206\n",
      "2020-08-10 00:35:47+00:00\n",
      "[9613, 9685]\n",
      "[]\n",
      "0.0\n",
      "2020-08-10 00:36:42+00:00\n",
      "[9617, 9683]\n",
      "[9636]\n",
      "1.358664315349344\n",
      "2020-08-10 00:37:40+00:00\n",
      "[9618, 9681]\n",
      "[9642]\n",
      "1.6129386362607505\n",
      "2020-08-10 00:38:34+00:00\n",
      "[9619, 9684]\n",
      "[]\n",
      "0.0\n",
      "2020-08-10 00:39:30+00:00\n",
      "[9619, 9680]\n",
      "[9638]\n",
      "1.8940167643131502\n",
      "2020-08-10 00:40:25+00:00\n",
      "[9624, 9678]\n",
      "[9650]\n",
      "1.707940967103454\n",
      "2020-08-10 00:41:21+00:00\n",
      "[9613, 9690]\n",
      "[]\n",
      "0.0\n",
      "2020-08-10 00:42:16+00:00\n",
      "[9621, 9692, 9827]\n",
      "[9643]\n",
      "1.5847116187986785\n",
      "2020-08-10 00:43:13+00:00\n",
      "[9685]\n",
      "[9642]\n",
      "0.0\n",
      "2020-08-10 00:44:06+00:00\n",
      "[9627, 9684]\n",
      "[]\n",
      "0.0\n",
      "2020-08-10 00:45:02+00:00\n",
      "[6753, 9626, 9684, 9748, 9828]\n",
      "[]\n",
      "0.0\n",
      "2020-08-10 00:45:56+00:00\n"
     ]
    },
    {
     "ename": "KeyboardInterrupt",
     "evalue": "",
     "output_type": "error",
     "traceback": [
      "\u001b[1;31m---------------------------------------------------------------------------\u001b[0m",
      "\u001b[1;31mKeyboardInterrupt\u001b[0m                         Traceback (most recent call last)",
      "\u001b[1;32m<ipython-input-53-61daec20fef2>\u001b[0m in \u001b[0;36m<module>\u001b[1;34m\u001b[0m\n\u001b[1;32m----> 1\u001b[1;33m \u001b[0mabsDepthforEntireDay\u001b[0m\u001b[1;33m(\u001b[0m\u001b[1;34mr'C:\\Users\\Ellie\\Documents\\LTO Data'\u001b[0m\u001b[1;33m,\u001b[0m \u001b[1;34m'2020_08_10'\u001b[0m\u001b[1;33m)\u001b[0m\u001b[1;33m\u001b[0m\u001b[1;33m\u001b[0m\u001b[0m\n\u001b[0m",
      "\u001b[1;32m<ipython-input-52-da61afba6948>\u001b[0m in \u001b[0;36mabsDepthforEntireDay\u001b[1;34m(obs_dir, obs_date)\u001b[0m\n\u001b[0;32m      9\u001b[0m         \u001b[0mpd_df\u001b[0m \u001b[1;33m=\u001b[0m \u001b[0mlto\u001b[0m\u001b[1;33m.\u001b[0m\u001b[0mto_pandas\u001b[0m\u001b[1;33m(\u001b[0m\u001b[1;33m)\u001b[0m\u001b[1;33m\u001b[0m\u001b[1;33m\u001b[0m\u001b[0m\n\u001b[0;32m     10\u001b[0m         \u001b[0mprint\u001b[0m\u001b[1;33m(\u001b[0m\u001b[0mpd_df\u001b[0m\u001b[1;33m.\u001b[0m\u001b[0mat\u001b[0m\u001b[1;33m[\u001b[0m\u001b[1;36m1\u001b[0m\u001b[1;33m,\u001b[0m \u001b[1;34m'ts'\u001b[0m\u001b[1;33m]\u001b[0m\u001b[1;33m)\u001b[0m\u001b[1;33m\u001b[0m\u001b[1;33m\u001b[0m\u001b[0m\n\u001b[1;32m---> 11\u001b[1;33m         \u001b[0mdayLongList\u001b[0m \u001b[1;33m+=\u001b[0m \u001b[1;33m(\u001b[0m\u001b[0mgetAbsorbDepth\u001b[0m\u001b[1;33m(\u001b[0m\u001b[0mpd_df\u001b[0m\u001b[1;33m)\u001b[0m\u001b[1;33m)\u001b[0m\u001b[1;33m\u001b[0m\u001b[1;33m\u001b[0m\u001b[0m\n\u001b[0m\u001b[0;32m     12\u001b[0m         \u001b[1;31m#print(getAbsorbDepth(pd_df))\u001b[0m\u001b[1;33m\u001b[0m\u001b[1;33m\u001b[0m\u001b[1;33m\u001b[0m\u001b[0m\n\u001b[0;32m     13\u001b[0m         \u001b[1;31m#print (dayLongList)\u001b[0m\u001b[1;33m\u001b[0m\u001b[1;33m\u001b[0m\u001b[1;33m\u001b[0m\u001b[0m\n",
      "\u001b[1;32m<ipython-input-48-de51bf069849>\u001b[0m in \u001b[0;36mgetAbsorbDepth\u001b[1;34m(df)\u001b[0m\n\u001b[0;32m      2\u001b[0m \u001b[1;33m\u001b[0m\u001b[0m\n\u001b[0;32m      3\u001b[0m     \u001b[1;31m#returns lists with indexes of peaks and valleys in dataframe\u001b[0m\u001b[1;33m\u001b[0m\u001b[1;33m\u001b[0m\u001b[1;33m\u001b[0m\u001b[0m\n\u001b[1;32m----> 4\u001b[1;33m     \u001b[0mpeaks\u001b[0m\u001b[1;33m,\u001b[0m \u001b[0mvalleys\u001b[0m \u001b[1;33m=\u001b[0m \u001b[0mfindPeaksValleys\u001b[0m\u001b[1;33m(\u001b[0m\u001b[0mdf\u001b[0m\u001b[1;33m)\u001b[0m\u001b[1;33m\u001b[0m\u001b[1;33m\u001b[0m\u001b[0m\n\u001b[0m\u001b[0;32m      5\u001b[0m     \u001b[0mmaxTemp\u001b[0m \u001b[1;33m=\u001b[0m \u001b[1;36m0\u001b[0m\u001b[1;33m\u001b[0m\u001b[1;33m\u001b[0m\u001b[0m\n\u001b[0;32m      6\u001b[0m     \u001b[1;32mfor\u001b[0m \u001b[0mpeak\u001b[0m \u001b[1;32min\u001b[0m \u001b[0mpeaks\u001b[0m\u001b[1;33m:\u001b[0m\u001b[1;33m\u001b[0m\u001b[1;33m\u001b[0m\u001b[0m\n",
      "\u001b[1;32m<ipython-input-47-a960b385a8ee>\u001b[0m in \u001b[0;36mfindPeaksValleys\u001b[1;34m(df)\u001b[0m\n\u001b[0;32m      5\u001b[0m     \u001b[1;32mfor\u001b[0m \u001b[0mindex\u001b[0m \u001b[1;32min\u001b[0m \u001b[0mrange\u001b[0m\u001b[1;33m(\u001b[0m\u001b[1;36m2\u001b[0m\u001b[1;33m,\u001b[0m \u001b[0mlen\u001b[0m\u001b[1;33m(\u001b[0m\u001b[0mdf\u001b[0m\u001b[1;33m)\u001b[0m\u001b[1;33m-\u001b[0m\u001b[1;36m3\u001b[0m\u001b[1;33m)\u001b[0m\u001b[1;33m:\u001b[0m\u001b[1;33m\u001b[0m\u001b[1;33m\u001b[0m\u001b[0m\n\u001b[0;32m      6\u001b[0m \u001b[1;33m\u001b[0m\u001b[0m\n\u001b[1;32m----> 7\u001b[1;33m         \u001b[1;32mif\u001b[0m \u001b[1;33m(\u001b[0m\u001b[0mdf\u001b[0m\u001b[1;33m.\u001b[0m\u001b[0mloc\u001b[0m\u001b[1;33m[\u001b[0m\u001b[0mindex\u001b[0m\u001b[1;33m,\u001b[0m \u001b[1;34m'HIline'\u001b[0m\u001b[1;33m]\u001b[0m\u001b[1;33m)\u001b[0m \u001b[1;32mand\u001b[0m \u001b[1;33m(\u001b[0m\u001b[0mdf\u001b[0m\u001b[1;33m.\u001b[0m\u001b[0mloc\u001b[0m\u001b[1;33m[\u001b[0m\u001b[0mindex\u001b[0m\u001b[1;33m,\u001b[0m \u001b[1;34m'badline'\u001b[0m\u001b[1;33m]\u001b[0m \u001b[1;33m==\u001b[0m \u001b[1;32mFalse\u001b[0m\u001b[1;33m)\u001b[0m\u001b[1;33m:\u001b[0m\u001b[1;33m\u001b[0m\u001b[1;33m\u001b[0m\u001b[0m\n\u001b[0m\u001b[0;32m      8\u001b[0m \u001b[1;33m\u001b[0m\u001b[0m\n\u001b[0;32m      9\u001b[0m             \u001b[1;31m#calculate slope for each point\u001b[0m\u001b[1;33m\u001b[0m\u001b[1;33m\u001b[0m\u001b[1;33m\u001b[0m\u001b[0m\n",
      "\u001b[1;32m~\\anaconda3\\lib\\site-packages\\pandas\\core\\indexing.py\u001b[0m in \u001b[0;36m__getitem__\u001b[1;34m(self, key)\u001b[0m\n\u001b[0;32m   1757\u001b[0m             \u001b[1;32mif\u001b[0m \u001b[0mself\u001b[0m\u001b[1;33m.\u001b[0m\u001b[0m_is_scalar_access\u001b[0m\u001b[1;33m(\u001b[0m\u001b[0mkey\u001b[0m\u001b[1;33m)\u001b[0m\u001b[1;33m:\u001b[0m\u001b[1;33m\u001b[0m\u001b[1;33m\u001b[0m\u001b[0m\n\u001b[0;32m   1758\u001b[0m                 \u001b[1;32mtry\u001b[0m\u001b[1;33m:\u001b[0m\u001b[1;33m\u001b[0m\u001b[1;33m\u001b[0m\u001b[0m\n\u001b[1;32m-> 1759\u001b[1;33m                     \u001b[1;32mreturn\u001b[0m \u001b[0mself\u001b[0m\u001b[1;33m.\u001b[0m\u001b[0m_getitem_scalar\u001b[0m\u001b[1;33m(\u001b[0m\u001b[0mkey\u001b[0m\u001b[1;33m)\u001b[0m\u001b[1;33m\u001b[0m\u001b[1;33m\u001b[0m\u001b[0m\n\u001b[0m\u001b[0;32m   1760\u001b[0m                 \u001b[1;32mexcept\u001b[0m \u001b[1;33m(\u001b[0m\u001b[0mKeyError\u001b[0m\u001b[1;33m,\u001b[0m \u001b[0mIndexError\u001b[0m\u001b[1;33m,\u001b[0m \u001b[0mAttributeError\u001b[0m\u001b[1;33m)\u001b[0m\u001b[1;33m:\u001b[0m\u001b[1;33m\u001b[0m\u001b[1;33m\u001b[0m\u001b[0m\n\u001b[0;32m   1761\u001b[0m                     \u001b[1;32mpass\u001b[0m\u001b[1;33m\u001b[0m\u001b[1;33m\u001b[0m\u001b[0m\n",
      "\u001b[1;32m~\\anaconda3\\lib\\site-packages\\pandas\\core\\indexing.py\u001b[0m in \u001b[0;36m_getitem_scalar\u001b[1;34m(self, key)\u001b[0m\n\u001b[0;32m   1865\u001b[0m         \u001b[1;31m# a fast-path to scalar access\u001b[0m\u001b[1;33m\u001b[0m\u001b[1;33m\u001b[0m\u001b[1;33m\u001b[0m\u001b[0m\n\u001b[0;32m   1866\u001b[0m         \u001b[1;31m# if not, raise\u001b[0m\u001b[1;33m\u001b[0m\u001b[1;33m\u001b[0m\u001b[1;33m\u001b[0m\u001b[0m\n\u001b[1;32m-> 1867\u001b[1;33m         \u001b[0mvalues\u001b[0m \u001b[1;33m=\u001b[0m \u001b[0mself\u001b[0m\u001b[1;33m.\u001b[0m\u001b[0mobj\u001b[0m\u001b[1;33m.\u001b[0m\u001b[0m_get_value\u001b[0m\u001b[1;33m(\u001b[0m\u001b[1;33m*\u001b[0m\u001b[0mkey\u001b[0m\u001b[1;33m)\u001b[0m\u001b[1;33m\u001b[0m\u001b[1;33m\u001b[0m\u001b[0m\n\u001b[0m\u001b[0;32m   1868\u001b[0m         \u001b[1;32mreturn\u001b[0m \u001b[0mvalues\u001b[0m\u001b[1;33m\u001b[0m\u001b[1;33m\u001b[0m\u001b[0m\n\u001b[0;32m   1869\u001b[0m \u001b[1;33m\u001b[0m\u001b[0m\n",
      "\u001b[1;32m~\\anaconda3\\lib\\site-packages\\pandas\\core\\frame.py\u001b[0m in \u001b[0;36m_get_value\u001b[1;34m(self, index, col, takeable)\u001b[0m\n\u001b[0;32m   2905\u001b[0m \u001b[1;33m\u001b[0m\u001b[0m\n\u001b[0;32m   2906\u001b[0m         \u001b[1;32mtry\u001b[0m\u001b[1;33m:\u001b[0m\u001b[1;33m\u001b[0m\u001b[1;33m\u001b[0m\u001b[0m\n\u001b[1;32m-> 2907\u001b[1;33m             \u001b[1;32mreturn\u001b[0m \u001b[0mengine\u001b[0m\u001b[1;33m.\u001b[0m\u001b[0mget_value\u001b[0m\u001b[1;33m(\u001b[0m\u001b[0mseries\u001b[0m\u001b[1;33m.\u001b[0m\u001b[0m_values\u001b[0m\u001b[1;33m,\u001b[0m \u001b[0mindex\u001b[0m\u001b[1;33m)\u001b[0m\u001b[1;33m\u001b[0m\u001b[1;33m\u001b[0m\u001b[0m\n\u001b[0m\u001b[0;32m   2908\u001b[0m         \u001b[1;32mexcept\u001b[0m \u001b[0mKeyError\u001b[0m\u001b[1;33m:\u001b[0m\u001b[1;33m\u001b[0m\u001b[1;33m\u001b[0m\u001b[0m\n\u001b[0;32m   2909\u001b[0m             \u001b[1;31m# GH 20629\u001b[0m\u001b[1;33m\u001b[0m\u001b[1;33m\u001b[0m\u001b[1;33m\u001b[0m\u001b[0m\n",
      "\u001b[1;31mKeyboardInterrupt\u001b[0m: "
     ]
    }
   ],
   "source": [
    "absDepthforEntireDay(r'C:\\Users\\Ellie\\Documents\\LTO Data', '2020_08_10')"
   ]
  },
  {
   "cell_type": "code",
   "execution_count": null,
   "metadata": {},
   "outputs": [
    {
     "name": "stdout",
     "output_type": "stream",
     "text": [
      "2020-09-01 00:00:00+00:00\n",
      "[9722]\n",
      "[]\n",
      "0.0\n",
      "2020-09-01 00:00:56+00:00\n",
      "[9726]\n",
      "[]\n",
      "0.0\n",
      "2020-09-01 00:01:49+00:00\n",
      "[9726]\n",
      "[]\n",
      "0.0\n",
      "2020-09-01 00:02:39+00:00\n",
      "[9725]\n",
      "[]\n",
      "0.0\n",
      "2020-09-01 00:03:30+00:00\n",
      "[9725]\n",
      "[]\n",
      "0.0\n",
      "2020-09-01 00:04:21+00:00\n",
      "[9727]\n",
      "[]\n",
      "0.0\n",
      "2020-09-01 00:05:11+00:00\n",
      "[9606, 9724]\n",
      "[]\n",
      "0.0\n",
      "2020-09-01 00:06:03+00:00\n",
      "[9727]\n",
      "[]\n",
      "0.0\n",
      "2020-09-01 00:06:55+00:00\n",
      "[9726]\n",
      "[]\n",
      "0.0\n",
      "2020-09-01 00:07:46+00:00\n",
      "[9728]\n",
      "[]\n",
      "0.0\n",
      "2020-09-01 00:08:37+00:00\n",
      "[9728]\n",
      "[]\n",
      "0.0\n",
      "2020-09-01 00:09:28+00:00\n",
      "[9729]\n",
      "[]\n",
      "0.0\n",
      "2020-09-01 00:10:21+00:00\n",
      "[9724]\n",
      "[]\n",
      "0.0\n",
      "2020-09-01 00:11:17+00:00\n",
      "[9729]\n",
      "[]\n",
      "0.0\n",
      "2020-09-01 00:12:11+00:00\n",
      "[9726]\n",
      "[]\n",
      "0.0\n",
      "2020-09-01 00:13:03+00:00\n",
      "[9728]\n",
      "[]\n",
      "0.0\n",
      "2020-09-01 00:13:54+00:00\n",
      "[1994, 9728]\n",
      "[]\n",
      "0.0\n",
      "2020-09-01 00:14:45+00:00\n",
      "[9726]\n",
      "[]\n",
      "0.0\n",
      "2020-09-01 00:15:36+00:00\n",
      "[9727]\n",
      "[]\n",
      "0.0\n",
      "2020-09-01 00:16:27+00:00\n",
      "[9725]\n",
      "[]\n",
      "0.0\n",
      "2020-09-01 00:17:18+00:00\n",
      "[9728]\n",
      "[]\n",
      "0.0\n",
      "2020-09-01 00:18:09+00:00\n",
      "[9727]\n",
      "[]\n",
      "0.0\n",
      "2020-09-01 00:19:00+00:00\n",
      "[9727]\n",
      "[]\n",
      "0.0\n",
      "2020-09-01 00:19:52+00:00\n",
      "[9727]\n",
      "[]\n",
      "0.0\n",
      "2020-09-01 00:20:43+00:00\n",
      "[9725]\n",
      "[]\n",
      "0.0\n",
      "2020-09-01 00:21:40+00:00\n",
      "[9730]\n",
      "[]\n",
      "0.0\n",
      "2020-09-01 00:22:34+00:00\n",
      "[9726]\n",
      "[]\n",
      "0.0\n",
      "2020-09-01 00:23:25+00:00\n",
      "[9732]\n",
      "[]\n",
      "0.0\n",
      "2020-09-01 00:24:17+00:00\n",
      "[5053, 9731]\n",
      "[]\n",
      "0.0\n",
      "2020-09-01 00:25:09+00:00\n",
      "[9730]\n",
      "[]\n",
      "0.0\n",
      "2020-09-01 00:26:01+00:00\n",
      "[9729]\n",
      "[]\n",
      "0.0\n",
      "2020-09-01 00:26:55+00:00\n",
      "[9731]\n",
      "[]\n",
      "0.0\n",
      "2020-09-01 00:27:48+00:00\n",
      "[5053, 9730]\n",
      "[]\n",
      "0.0\n",
      "2020-09-01 00:28:40+00:00\n",
      "[5053, 9728]\n",
      "[]\n",
      "0.0\n",
      "2020-09-01 00:29:33+00:00\n",
      "[9727]\n",
      "[]\n",
      "0.0\n",
      "2020-09-01 00:30:26+00:00\n",
      "[9732]\n",
      "[]\n",
      "0.0\n",
      "2020-09-01 00:31:19+00:00\n",
      "[9733]\n",
      "[]\n",
      "0.0\n",
      "2020-09-01 00:32:16+00:00\n",
      "[5052, 9733]\n",
      "[]\n",
      "0.0\n",
      "2020-09-01 00:33:11+00:00\n",
      "[5053, 9735]\n",
      "[]\n",
      "0.0\n",
      "2020-09-01 00:34:04+00:00\n",
      "[9734]\n",
      "[]\n",
      "0.0\n",
      "2020-09-01 00:34:56+00:00\n",
      "[9735]\n",
      "[]\n",
      "0.0\n",
      "2020-09-01 00:35:49+00:00\n",
      "[9732]\n",
      "[]\n",
      "0.0\n",
      "2020-09-01 00:36:42+00:00\n",
      "[5053, 9738]\n",
      "[]\n",
      "0.0\n",
      "2020-09-01 00:37:35+00:00\n",
      "[9733]\n",
      "[]\n",
      "0.0\n",
      "2020-09-01 00:38:29+00:00\n",
      "[9728]\n",
      "[]\n",
      "0.0\n",
      "2020-09-01 00:39:22+00:00\n",
      "[9734]\n",
      "[]\n",
      "0.0\n",
      "2020-09-01 00:40:15+00:00\n",
      "[9733]\n",
      "[]\n",
      "0.0\n",
      "2020-09-01 00:41:09+00:00\n",
      "[9733]\n",
      "[]\n",
      "0.0\n",
      "2020-09-01 00:42:01+00:00\n",
      "[9731]\n",
      "[]\n",
      "0.0\n",
      "2020-09-01 00:42:59+00:00\n",
      "[9736]\n",
      "[]\n",
      "0.0\n",
      "2020-09-01 00:43:53+00:00\n",
      "[9732]\n",
      "[]\n",
      "0.0\n",
      "2020-09-01 00:44:46+00:00\n",
      "[9731]\n",
      "[]\n",
      "0.0\n",
      "2020-09-01 00:45:38+00:00\n",
      "[8035, 9730]\n",
      "[]\n",
      "0.0\n",
      "2020-09-01 00:46:30+00:00\n",
      "[9729]\n",
      "[]\n",
      "0.0\n",
      "2020-09-01 00:47:22+00:00\n",
      "[1996, 9731]\n",
      "[]\n",
      "0.0\n",
      "2020-09-01 00:48:15+00:00\n",
      "[1996, 5052, 9735]\n",
      "[]\n",
      "0.0\n",
      "2020-09-01 00:49:08+00:00\n",
      "[9729]\n",
      "[]\n",
      "0.0\n",
      "2020-09-01 00:50:00+00:00\n",
      "[9729]\n",
      "[]\n",
      "0.0\n",
      "2020-09-01 00:50:52+00:00\n",
      "[9732]\n",
      "[]\n",
      "0.0\n",
      "2020-09-01 00:51:44+00:00\n",
      "[9730]\n",
      "[]\n",
      "0.0\n",
      "2020-09-01 00:52:36+00:00\n",
      "[9727]\n",
      "[]\n",
      "0.0\n",
      "2020-09-01 00:53:34+00:00\n",
      "[5053, 9727]\n",
      "[]\n",
      "0.0\n",
      "2020-09-01 00:54:27+00:00\n",
      "[5052, 9731]\n",
      "[]\n",
      "0.0\n",
      "2020-09-01 00:55:19+00:00\n",
      "[9728]\n",
      "[]\n",
      "0.0\n",
      "2020-09-01 00:56:11+00:00\n",
      "[9727]\n",
      "[]\n",
      "0.0\n",
      "2020-09-01 00:57:02+00:00\n",
      "[5052, 9731]\n",
      "[]\n",
      "0.0\n",
      "2020-09-01 00:57:53+00:00\n",
      "[9725]\n",
      "[]\n",
      "0.0\n",
      "2020-09-01 00:58:46+00:00\n",
      "[9728]\n",
      "[]\n",
      "0.0\n",
      "2020-09-01 00:59:38+00:00\n",
      "[9731]\n",
      "[]\n",
      "0.0\n",
      "2020-09-01 01:00:30+00:00\n",
      "[9732]\n",
      "[]\n",
      "0.0\n",
      "2020-09-01 01:01:22+00:00\n",
      "[9724]\n",
      "[]\n",
      "0.0\n",
      "2020-09-01 01:02:15+00:00\n",
      "[9731]\n",
      "[]\n",
      "0.0\n",
      "2020-09-01 01:03:07+00:00\n",
      "[9729]\n",
      "[]\n",
      "0.0\n",
      "2020-09-01 01:04:04+00:00\n",
      "[9733]\n",
      "[]\n",
      "0.0\n",
      "2020-09-01 01:04:59+00:00\n",
      "[9734]\n",
      "[]\n",
      "0.0\n",
      "2020-09-01 01:05:51+00:00\n",
      "[9723]\n",
      "[]\n",
      "0.0\n",
      "2020-09-01 01:06:43+00:00\n",
      "[9729]\n",
      "[]\n",
      "0.0\n",
      "2020-09-01 01:07:35+00:00\n",
      "[9729]\n",
      "[]\n",
      "0.0\n",
      "2020-09-01 01:08:27+00:00\n",
      "[9734]\n",
      "[]\n",
      "0.0\n",
      "2020-09-01 01:09:21+00:00\n",
      "[9733]\n",
      "[]\n",
      "0.0\n",
      "2020-09-01 01:10:13+00:00\n",
      "[9732]\n",
      "[]\n",
      "0.0\n",
      "2020-09-01 01:11:04+00:00\n",
      "[9728]\n",
      "[]\n",
      "0.0\n",
      "2020-09-01 01:11:56+00:00\n",
      "[9734]\n",
      "[]\n",
      "0.0\n",
      "2020-09-01 01:12:48+00:00\n",
      "[9728]\n",
      "[]\n",
      "0.0\n",
      "2020-09-01 01:13:40+00:00\n",
      "[9730]\n",
      "[]\n",
      "0.0\n",
      "2020-09-01 01:14:38+00:00\n",
      "[5052, 9730]\n",
      "[]\n",
      "0.0\n",
      "2020-09-01 01:15:32+00:00\n",
      "[9727]\n",
      "[]\n",
      "0.0\n",
      "2020-09-01 01:16:23+00:00\n",
      "[9732]\n",
      "[]\n",
      "0.0\n",
      "2020-09-01 01:17:14+00:00\n",
      "[5052, 9733]\n",
      "[]\n",
      "0.0\n",
      "2020-09-01 01:18:06+00:00\n",
      "[9732]\n",
      "[]\n",
      "0.0\n",
      "2020-09-01 01:18:57+00:00\n",
      "[9731]\n",
      "[]\n",
      "0.0\n",
      "2020-09-01 01:19:52+00:00\n",
      "[9730]\n",
      "[]\n",
      "0.0\n",
      "2020-09-01 01:20:45+00:00\n",
      "[9729]\n",
      "[]\n",
      "0.0\n",
      "2020-09-01 01:21:37+00:00\n",
      "[9733]\n",
      "[]\n",
      "0.0\n",
      "2020-09-01 01:22:29+00:00\n",
      "[9733]\n",
      "[]\n",
      "0.0\n",
      "2020-09-01 01:23:21+00:00\n",
      "[9731]\n",
      "[]\n",
      "0.0\n",
      "2020-09-01 01:24:13+00:00\n",
      "[9734]\n",
      "[]\n",
      "0.0\n",
      "2020-09-01 01:25:11+00:00\n",
      "[9732]\n",
      "[]\n",
      "0.0\n",
      "2020-09-01 01:26:06+00:00\n",
      "[9731]\n",
      "[]\n",
      "0.0\n",
      "2020-09-01 01:26:57+00:00\n",
      "[1997, 9732]\n",
      "[]\n",
      "0.0\n",
      "2020-09-01 01:27:47+00:00\n",
      "[1996, 9733]\n",
      "[]\n",
      "0.0\n",
      "2020-09-01 01:28:39+00:00\n",
      "[9729]\n",
      "[]\n",
      "0.0\n",
      "2020-09-01 01:29:30+00:00\n",
      "[9732]\n",
      "[]\n",
      "0.0\n",
      "2020-09-01 01:30:24+00:00\n",
      "[9730]\n",
      "[]\n",
      "0.0\n",
      "2020-09-01 01:31:16+00:00\n",
      "[9731]\n",
      "[]\n",
      "0.0\n",
      "2020-09-01 01:32:07+00:00\n",
      "[9731]\n",
      "[]\n",
      "0.0\n",
      "2020-09-01 01:32:59+00:00\n",
      "[9733]\n",
      "[]\n",
      "0.0\n",
      "2020-09-01 01:33:51+00:00\n",
      "[9732]\n",
      "[]\n",
      "0.0\n",
      "2020-09-01 01:34:44+00:00\n",
      "[5052, 9732]\n",
      "[]\n",
      "0.0\n",
      "2020-09-01 01:35:42+00:00\n",
      "[9729]\n",
      "[]\n",
      "0.0\n",
      "2020-09-01 01:36:36+00:00\n",
      "[5052, 9732]\n",
      "[]\n",
      "0.0\n",
      "2020-09-01 01:37:27+00:00\n",
      "[9732]\n",
      "[]\n",
      "0.0\n",
      "2020-09-01 01:38:18+00:00\n",
      "[9730]\n",
      "[]\n",
      "0.0\n",
      "2020-09-01 01:39:09+00:00\n",
      "[9734]\n",
      "[]\n",
      "0.0\n",
      "2020-09-01 01:40:02+00:00\n",
      "[5052, 9732]\n",
      "[]\n",
      "0.0\n",
      "2020-09-01 01:40:54+00:00\n",
      "[9737]\n",
      "[]\n",
      "0.0\n",
      "2020-09-01 01:41:46+00:00\n",
      "[5052, 9733]\n",
      "[]\n",
      "0.0\n",
      "2020-09-01 01:42:38+00:00\n",
      "[9737]\n",
      "[]\n",
      "0.0\n",
      "2020-09-01 01:43:29+00:00\n",
      "[9735]\n",
      "[]\n",
      "0.0\n",
      "2020-09-01 01:44:21+00:00\n",
      "[9734]\n",
      "[]\n",
      "0.0\n",
      "2020-09-01 01:45:12+00:00\n",
      "[9738, 9821]\n",
      "[]\n",
      "0.0\n",
      "2020-09-01 01:46:09+00:00\n",
      "[9735]\n",
      "[]\n",
      "0.0\n",
      "2020-09-01 01:47:02+00:00\n",
      "[5052, 9734]\n",
      "[]\n",
      "0.0\n",
      "2020-09-01 01:47:54+00:00\n",
      "[9738]\n",
      "[]\n",
      "0.0\n",
      "2020-09-01 01:48:45+00:00\n",
      "[9742]\n",
      "[]\n",
      "0.0\n",
      "2020-09-01 01:49:37+00:00\n",
      "[9737]\n",
      "[]\n",
      "0.0\n",
      "2020-09-01 01:50:28+00:00\n",
      "[9737]\n",
      "[]\n",
      "0.0\n",
      "2020-09-01 01:51:21+00:00\n",
      "[9736]\n",
      "[]\n",
      "0.0\n",
      "2020-09-01 01:52:13+00:00\n",
      "[9735]\n",
      "[]\n",
      "0.0\n",
      "2020-09-01 01:53:04+00:00\n",
      "[9737, 9834]\n",
      "[]\n",
      "0.0\n",
      "2020-09-01 01:53:54+00:00\n",
      "[5052, 9741]\n",
      "[9607]\n",
      "33.50714163871595\n",
      "2020-09-01 01:54:45+00:00\n",
      "[9739]\n",
      "[]\n",
      "0.0\n",
      "2020-09-01 01:55:35+00:00\n",
      "[9740]\n",
      "[]\n",
      "0.0\n",
      "2020-09-01 01:56:32+00:00\n",
      "[9741]\n",
      "[]\n",
      "0.0\n",
      "2020-09-01 01:57:25+00:00\n",
      "[9739]\n",
      "[]\n",
      "0.0\n",
      "2020-09-01 01:58:15+00:00\n",
      "[9741]\n",
      "[]\n",
      "0.0\n",
      "2020-09-01 01:59:06+00:00\n",
      "[9740]\n",
      "[]\n",
      "0.0\n",
      "2020-09-01 01:59:56+00:00\n",
      "[9740]\n",
      "[]\n",
      "0.0\n",
      "2020-09-01 02:00:48+00:00\n",
      "[9741]\n",
      "[]\n",
      "0.0\n",
      "2020-09-01 02:01:39+00:00\n",
      "[9739]\n",
      "[]\n",
      "0.0\n",
      "2020-09-01 02:02:32+00:00\n",
      "[9740]\n",
      "[9629]\n",
      "0.0\n",
      "2020-09-01 02:03:23+00:00\n",
      "[9616, 9739]\n",
      "[9634]\n",
      "5.404751234111757\n",
      "2020-09-01 02:04:14+00:00\n",
      "[9739]\n",
      "[]\n",
      "0.0\n",
      "2020-09-01 02:05:06+00:00\n",
      "[9611, 9737]\n",
      "[]\n",
      "0.0\n",
      "2020-09-01 02:05:57+00:00\n",
      "[9598, 9737]\n",
      "[]\n",
      "0.0\n",
      "2020-09-01 02:06:54+00:00\n",
      "[9618, 9736]\n",
      "[9638]\n",
      "5.698134502340622\n",
      "2020-09-01 02:07:48+00:00\n",
      "[9738]\n",
      "[]\n",
      "0.0\n",
      "2020-09-01 02:08:39+00:00\n",
      "[9739]\n",
      "[9631]\n",
      "0.0\n",
      "2020-09-01 02:09:31+00:00\n",
      "[9616, 9735]\n",
      "[]\n",
      "0.0\n",
      "2020-09-01 02:10:21+00:00\n",
      "[9621, 9737]\n",
      "[]\n",
      "0.0\n",
      "2020-09-01 02:11:12+00:00\n",
      "[9737]\n",
      "[9641]\n",
      "0.0\n",
      "2020-09-01 02:12:05+00:00\n",
      "[9615, 9735]\n",
      "[9637]\n",
      "5.577119618359376\n",
      "2020-09-01 02:12:57+00:00\n",
      "[9618, 9740]\n",
      "[9644]\n",
      "6.751742621200663\n",
      "2020-09-01 02:13:48+00:00\n",
      "[9634, 9740]\n",
      "[9651]\n",
      "4.848289469632618\n",
      "2020-09-01 02:14:39+00:00\n",
      "[9629, 9739]\n",
      "[]\n",
      "0.0\n",
      "2020-09-01 02:15:30+00:00\n",
      "[9633, 9740]\n",
      "[9654]\n",
      "5.72709653127373\n",
      "2020-09-01 02:16:22+00:00\n",
      "[9626, 9736]\n",
      "[9652]\n",
      "5.939522116589046\n",
      "2020-09-01 02:17:20+00:00\n",
      "[9630, 9739]\n",
      "[9647]\n",
      "4.040384752291175\n",
      "2020-09-01 02:18:13+00:00\n",
      "[9736]\n",
      "[]\n",
      "0.0\n",
      "2020-09-01 02:19:03+00:00\n",
      "[9624, 9740]\n",
      "[]\n",
      "0.0\n",
      "2020-09-01 02:19:54+00:00\n",
      "[9625, 9741]\n",
      "[9656]\n",
      "5.522572762818754\n",
      "2020-09-01 02:20:46+00:00\n",
      "[9636, 9738]\n",
      "[9655]\n",
      "4.219345234930273\n",
      "2020-09-01 02:21:37+00:00\n",
      "[9653, 9741]\n",
      "[]\n",
      "0.0\n",
      "2020-09-01 02:22:30+00:00\n",
      "[9741]\n",
      "[]\n",
      "0.0\n",
      "2020-09-01 02:23:21+00:00\n",
      "[9744]\n",
      "[]\n",
      "0.0\n",
      "2020-09-01 02:24:13+00:00\n",
      "[9744]\n",
      "[]\n",
      "0.0\n",
      "2020-09-01 02:25:04+00:00\n",
      "[9656, 9739]\n",
      "[]\n",
      "0.0\n",
      "2020-09-01 02:25:56+00:00\n",
      "[9746]\n",
      "[]\n",
      "0.0\n",
      "2020-09-01 02:26:47+00:00\n",
      "[9742]\n",
      "[]\n",
      "0.0\n",
      "2020-09-01 02:27:44+00:00\n",
      "[9741]\n",
      "[]\n",
      "0.0\n",
      "2020-09-01 02:28:38+00:00\n",
      "[9653, 9739]\n",
      "[9671]\n",
      "3.6297882236473527\n",
      "2020-09-01 02:29:29+00:00\n",
      "[9739]\n",
      "[9677]\n",
      "0.0\n",
      "2020-09-01 02:30:20+00:00\n",
      "[9743]\n",
      "[]\n",
      "0.0\n",
      "2020-09-01 02:31:12+00:00\n",
      "[9741]\n",
      "[9674]\n",
      "0.0\n",
      "2020-09-01 02:32:04+00:00\n",
      "[9738]\n",
      "[]\n",
      "0.0\n",
      "2020-09-01 02:32:58+00:00\n",
      "[9439, 9742, 9883, 9915, 10016]\n",
      "[]\n",
      "0.0\n",
      "2020-09-01 02:33:51+00:00\n",
      "[9424, 9464, 9738, 9896, 10019]\n",
      "[9677]\n",
      "6.931418594396462\n",
      "2020-09-01 02:34:43+00:00\n"
     ]
    }
   ],
   "source": [
    "#looping through all dates in LTO DATA (i.e. my entire dataset)\n",
    "i = 1\n",
    "while i <= 28:\n",
    "    if i < 8:\n",
    "        if i < 2:\n",
    "            day = \"2020_09_0\" + str(i)\n",
    "        else:\n",
    "            i += 1\n",
    "            continue\n",
    "    elif i < 10:\n",
    "        day = \"2020_08_0\" + str(i)\n",
    "    else:\n",
    "        day = \"2020_08_\" + str(i)\n",
    "        \n",
    "    absDepthforEntireDay(r'C:\\Users\\Ellie\\Documents\\LTO Data', day)\n",
    "    #print(day)\n",
    "    i += 1"
   ]
  },
  {
   "cell_type": "code",
   "execution_count": null,
   "metadata": {},
   "outputs": [],
   "source": [
    "colorArray = np.array(colormap)\n",
    "plt.plot(Xaxis, colormap, label = 'absorption')\n",
    "plt.axhline(y = 0)\n",
    "plt.xlabel('RA')\n",
    "plt.ylabel('abDepth')\n",
    "plt.xlim(10, 20)\n",
    "plt.ylim(-5, 50)\n",
    "#plt.title('Absoption Depth', fontdict={'fontsize':16, 'fontweight':'bold'})\n",
    "plt.grid()\n",
    "plt.show()"
   ]
  },
  {
   "cell_type": "markdown",
   "metadata": {
    "colab_type": "text",
    "id": "zt4aWskA9R1L"
   },
   "source": [
    "##Read All LTO Files in a Directory"
   ]
  },
  {
   "cell_type": "markdown",
   "metadata": {
    "colab_type": "text",
    "id": "vBJrSmwdYLhN"
   },
   "source": [
    "`lto_utils` provides functionality to read all `.lto` in a directory. This can useful in summarizing an observing session, such as a drift scan.\n",
    "\n",
    "**Caution:** the methods below will read **all** `.lto` files in the specified directory, so if there are files with duplicate content or `.lto` files from other observing sessions, such files will contaminate the results."
   ]
  },
  {
   "cell_type": "code",
   "execution_count": null,
   "metadata": {
    "colab": {
     "base_uri": "https://localhost:8080/",
     "height": 34
    },
    "colab_type": "code",
    "id": "boJ8OTWwElo5",
    "outputId": "2750bd22-a5e1-4906-abd9-d60905bb4a4d"
   },
   "outputs": [],
   "source": [
    "# see the directories of observations:\n",
    "#!ls lto_data"
   ]
  },
  {
   "cell_type": "markdown",
   "metadata": {
    "colab_type": "text",
    "id": "bhce6Nm5o9qA"
   },
   "source": [
    "These are early observations in the LTO Radio Telescope projects. As such, the quality of the data is suspect; however the observations will suffice for demonstration purposes.  Just don't base any science on these!!\n",
    "\n",
    "The 2018_08_30 directory is a 24-hour drift scan, some 1440 files (one for each minute) in all.  The 2018_09_02 observation set is considerably smaller, so we'll demonstrate with it.  Doing so, however will compromise the plots that follow.\n",
    "\n",
    "If you want to see a full 24-hour drift scan, set the scan date to `'2018_08_30'`."
   ]
  },
  {
   "cell_type": "code",
   "execution_count": null,
   "metadata": {
    "colab": {},
    "colab_type": "code",
    "id": "koLlK1-0lXuZ"
   },
   "outputs": [],
   "source": [
    "#obs_dir = '/Users/kevin/Documents/LTO Radiometry/HI_Detection/lto_cache'\n",
    "#obs_dir = 'lto_data'\n",
    "obs_dir = r\"C:\\Users\\Ellie\\Documents\\LTO Data\"\n",
    "scan_date = '2020_08_12'"
   ]
  },
  {
   "cell_type": "code",
   "execution_count": 2,
   "metadata": {
    "colab": {},
    "colab_type": "code",
    "id": "2O_zXQlb9oFA"
   },
   "outputs": [
    {
     "ename": "NameError",
     "evalue": "name 'lto' is not defined",
     "output_type": "error",
     "traceback": [
      "\u001b[1;31m---------------------------------------------------------------------------\u001b[0m",
      "\u001b[1;31mNameError\u001b[0m                                 Traceback (most recent call last)",
      "\u001b[1;32m<ipython-input-2-be8bf09fd6b5>\u001b[0m in \u001b[0;36m<module>\u001b[1;34m\u001b[0m\n\u001b[0;32m      1\u001b[0m \u001b[1;31m#get all the spectral characteristics for the observation of 2018_09_02\u001b[0m\u001b[1;33m\u001b[0m\u001b[1;33m\u001b[0m\u001b[1;33m\u001b[0m\u001b[0m\n\u001b[0;32m      2\u001b[0m \u001b[1;31m# this can take a several minutes to run, espcially if the files are not local\u001b[0m\u001b[1;33m\u001b[0m\u001b[1;33m\u001b[0m\u001b[1;33m\u001b[0m\u001b[0m\n\u001b[1;32m----> 3\u001b[1;33m \u001b[0mobs_summary\u001b[0m \u001b[1;33m=\u001b[0m \u001b[0mlto\u001b[0m\u001b[1;33m.\u001b[0m\u001b[0mgetSpectralCharacteristics\u001b[0m\u001b[1;33m(\u001b[0m\u001b[0mobs_dir\u001b[0m\u001b[1;33m+\u001b[0m \u001b[1;34m'/'\u001b[0m \u001b[1;33m+\u001b[0m\u001b[0mscan_date\u001b[0m\u001b[1;33m)\u001b[0m\u001b[1;33m\u001b[0m\u001b[1;33m\u001b[0m\u001b[0m\n\u001b[0m",
      "\u001b[1;31mNameError\u001b[0m: name 'lto' is not defined"
     ]
    }
   ],
   "source": [
    "#get all the spectral characteristics for the observation of 2018_09_02\n",
    "# this can take a several minutes to run, espcially if the files are not local\n",
    "obs_summary = lto.getSpectralCharacteristics(obs_dir+ '/' +scan_date)"
   ]
  },
  {
   "cell_type": "code",
   "execution_count": null,
   "metadata": {
    "colab": {},
    "colab_type": "code",
    "id": "HIt8N-iO-yRv"
   },
   "outputs": [],
   "source": [
    "obs_summary.head()"
   ]
  },
  {
   "cell_type": "code",
   "execution_count": null,
   "metadata": {
    "colab": {
     "base_uri": "https://localhost:8080/",
     "height": 34
    },
    "colab_type": "code",
    "id": "guTX5mCH-0ei",
    "outputId": "3fcf51fe-0927-460e-ac94-091faa3ffac4"
   },
   "outputs": [],
   "source": [
    "len(obs_summary)"
   ]
  },
  {
   "cell_type": "code",
   "execution_count": null,
   "metadata": {
    "colab": {
     "base_uri": "https://localhost:8080/",
     "height": 347
    },
    "colab_type": "code",
    "id": "fpDQERUo-LGx",
    "outputId": "2f9f9421-350f-41e2-8b54-46111e8c8ddb"
   },
   "outputs": [],
   "source": [
    "plt.plot(obs_summary.index, obs_summary.avetsky)\n",
    "plt.title(f'Drift Scan Summary, Scan Date: {scan_date}')\n",
    "plt.xlabel('Time (UT)')\n",
    "plt.xticks(rotation=90)\n",
    "plt.ylabel('Average Sky Temp (K)')"
   ]
  },
  {
   "cell_type": "code",
   "execution_count": null,
   "metadata": {
    "colab": {
     "base_uri": "https://localhost:8080/",
     "height": 298
    },
    "colab_type": "code",
    "id": "Jk8rshL1L4-o",
    "outputId": "6af52f3c-5770-461b-8685-d47a2949e2e0"
   },
   "outputs": [],
   "source": [
    "#it's a drift scan so plot by right ascension\n",
    "plt.scatter(obs_summary.ra, obs_summary.avetsky, s=9)\n",
    "plt.title(f'Drift Scan Summary, Scan Date: {scan_date}')\n",
    "plt.xlabel('Right Ascension (deg)')\n",
    "plt.xticks(rotation=90)\n",
    "plt.ylabel('Average Sky Temp (K)')\n",
    "plt.grid()\n",
    "plt.gca().invert_xaxis()"
   ]
  },
  {
   "cell_type": "code",
   "execution_count": null,
   "metadata": {
    "colab": {},
    "colab_type": "code",
    "id": "Qj_5NUmzAHRY"
   },
   "outputs": [],
   "source": [
    "#this takes quite a bit of time on goolge, not so much when data is local\n",
    "\n",
    "#get all the spectral data from the drift scan\n",
    "spectra = lto.getDriftScan(obs_dir+ '/' +scan_date)"
   ]
  },
  {
   "cell_type": "code",
   "execution_count": null,
   "metadata": {
    "colab": {
     "base_uri": "https://localhost:8080/",
     "height": 309
    },
    "colab_type": "code",
    "id": "VoKmaHQZN4ya",
    "outputId": "ed46a831-58c5-4254-ab40-6498d3e6d4c3"
   },
   "outputs": [],
   "source": [
    "spectra.head()"
   ]
  },
  {
   "cell_type": "markdown",
   "metadata": {
    "colab_type": "text",
    "id": "PXVHVsfNmIGy"
   },
   "source": [
    "Yeilds a rather large data frame:"
   ]
  },
  {
   "cell_type": "code",
   "execution_count": null,
   "metadata": {
    "colab": {
     "base_uri": "https://localhost:8080/",
     "height": 34
    },
    "colab_type": "code",
    "id": "ZysVde6HaPYd",
    "outputId": "183113d1-35e0-412c-b006-249eeefa2c76"
   },
   "outputs": [],
   "source": [
    "len(spectra)"
   ]
  },
  {
   "cell_type": "markdown",
   "metadata": {
    "colab_type": "text",
    "id": "Xi8nU9z343fl"
   },
   "source": [
    "## Construct a Spectrogram"
   ]
  },
  {
   "cell_type": "markdown",
   "metadata": {
    "colab_type": "text",
    "id": "48wx1rwQcebb"
   },
   "source": [
    "The `spectra` data frame from above can be unweildy with 23 million rows, so the `getDriftScan` method provides a `dfclip` parameter to eliminate data at the far ends of the spectrum. If we clip the spectrum, the production of the spectrogram proceeds much faster, because the resulting data set is so much smaller."
   ]
  },
  {
   "cell_type": "code",
   "execution_count": null,
   "metadata": {
    "colab": {
     "base_uri": "https://localhost:8080/",
     "height": 34
    },
    "colab_type": "code",
    "id": "5b7nDYcKdQuA",
    "outputId": "94ec47f9-fb61-408c-fa5b-7546e99d4a00"
   },
   "outputs": [],
   "source": [
    "#clip to -300 kHz to 300 kHz\n",
    "spectra = lto.getDriftScan(obs_dir+ '/' +scan_date, dfclip=(0, 0.2e7))\n",
    "len(spectra)"
   ]
  },
  {
   "cell_type": "code",
   "execution_count": null,
   "metadata": {
    "colab": {
     "base_uri": "https://localhost:8080/",
     "height": 34
    },
    "colab_type": "code",
    "id": "kkSuY5nFN9DE",
    "outputId": "7ede7ead-78e8-4f29-cd66-461152d8b94d"
   },
   "outputs": [],
   "source": [
    "#make the temperature array dopfreq x time\n",
    "\n",
    "#sort the spectra data frame\n",
    "spectra.sort_values(['dopfreq', 'ts'], inplace=True)\n",
    "\n",
    "#get the y axis (dopler freq) values:\n",
    "dopfreqs = spectra.dopfreq.unique()\n",
    "\n",
    "# next, get the x-axis which is the time of the observations;\n",
    "obs_times = spectra.ts.unique()\n",
    "\n",
    "#make the temperature array\n",
    "skytemp = np.array(spectra.tsky).reshape(len(dopfreqs), len(obs_times))\n",
    "\n",
    "skytemp.shape"
   ]
  },
  {
   "cell_type": "code",
   "execution_count": 37,
   "metadata": {
    "colab": {},
    "colab_type": "code",
    "id": "Wi234ZkNfeHu"
   },
   "outputs": [],
   "source": [
    "#helper routine to beautify the time formating:\n",
    "import matplotlib.dates as mdates\n",
    "fmt = mdates.DateFormatter('%H:%M')\n",
    "\n",
    "#for the normalizer:\n",
    "import matplotlib.colors as colors\n",
    "\n"
   ]
  },
  {
   "cell_type": "code",
   "execution_count": null,
   "metadata": {
    "colab": {
     "base_uri": "https://localhost:8080/",
     "height": 425
    },
    "colab_type": "code",
    "id": "70J4Lv0g6FKS",
    "outputId": "6e7d085c-92ff-43e0-843c-084b14b2d5aa"
   },
   "outputs": [],
   "source": [
    "fig = plt.figure(figsize=(12,6))\n",
    "ax = fig.add_subplot()\n",
    "\n",
    "pcm = ax.pcolormesh(obs_times, dopfreqs, skytemp,cmap='gnuplot',\n",
    "                norm=colors.LogNorm())\n",
    "                   #norm=colors.PowerNorm(gamma=1./2.))\n",
    "fig.colorbar(pcm, label='Sky Temp (K)')\n",
    "\n",
    "plt.xlabel('Time (UT)')\n",
    "plt.gca().xaxis.set_major_formatter(fmt)\n",
    "plt.xticks(rotation=90)\n",
    "plt.ylabel('Dopler Shift (kHz)')\n",
    "plt.title(f'LTO Driftscan of {scan_date}',fontdict={'fontsize':16, 'fontweight':'bold'})\n",
    "plt.grid()"
   ]
  },
  {
   "cell_type": "code",
   "execution_count": null,
   "metadata": {},
   "outputs": [],
   "source": []
  }
 ],
 "metadata": {
  "colab": {
   "authorship_tag": "ABX9TyM9HsgylMuG26nM1JpKBHzH",
   "include_colab_link": true,
   "name": "lto_data.ipynb",
   "provenance": [],
   "toc_visible": true
  },
  "kernelspec": {
   "display_name": "Python 3",
   "language": "python",
   "name": "python3"
  },
  "language_info": {
   "codemirror_mode": {
    "name": "ipython",
    "version": 3
   },
   "file_extension": ".py",
   "mimetype": "text/x-python",
   "name": "python",
   "nbconvert_exporter": "python",
   "pygments_lexer": "ipython3",
   "version": "3.8.3"
  }
 },
 "nbformat": 4,
 "nbformat_minor": 4
}
